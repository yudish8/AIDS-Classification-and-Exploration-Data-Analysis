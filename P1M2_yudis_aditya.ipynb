{
 "cells": [
  {
   "cell_type": "markdown",
   "metadata": {},
   "source": [
    "# 1. Introduction"
   ]
  },
  {
   "cell_type": "markdown",
   "metadata": {},
   "source": [
    "## 1.1 Personal Information \n",
    "\n",
    "Milestone 2 <br><br>\n",
    "Nama  : I Nyoman Aditya Yudiswara <br>\n",
    "Batch : FTDS-006"
   ]
  },
  {
   "cell_type": "markdown",
   "metadata": {},
   "source": [
    "## 1.2 Background Problem\n",
    "<p>\n",
    "Acquired immunodeficiency syndrome (AIDS) is defined as an HIV infection with either a CD4+ T cell count below 200 cells per μL or the occurrence of specific diseases associated with HIV infection. Until 2024, there is no medicine to fully cure HIV, and AIDS is critical condition stage of HIV that can impact to death. <br>\n",
    "To prevent people from HIV into AIDS there are many treaments or medicine to do that for example ZDV antiretroviral therapy. Because of that, AIDS-related deaths have been reduced by 69% since the peak in 2004 and by 51% since 2010. In 2022, around 630 000 [480 000–880 000] people died from AIDS-related illnesses worldwide, compared to 2.0 million [1.5 million–2.8 million] people in 2004 and 1.3 million [970 000–1.8 million] people in 2010. AIDS-related mortality has declined by 55% among women and girls and by 47% among men and boys since 2010. <br>\n",
    "To keep this good progress, me as data scientist hava a task from goverment to classify people who has HIV that has potential to have AIDS based on their condition, behaviour, and therapy. \n",
    "\n",
    "</p>"
   ]
  },
  {
   "cell_type": "markdown",
   "metadata": {},
   "source": [
    "## 1.3 Overview Plan to solve Background Problem\n",
    "<p>\n",
    "To solve this problem, me as data scientist want to make visualization or EDA my dataset that i get from goverment to describe current situation. After that i will do feature engineer to preapare my features so my model can train based on my ready features. I will compare KNN, SVM, Random Forest , and Decision tree by cross validation and choose the best model after that and do hyperparameter tuning with that. The metrics i will used for my model classification is recall and f1 because I want to make sure my model predict False Negative as low as possible. \n",
    "</p>"
   ]
  },
  {
   "cell_type": "markdown",
   "metadata": {},
   "source": [
    "# 2. Import Library"
   ]
  },
  {
   "cell_type": "code",
   "execution_count": 1,
   "metadata": {},
   "outputs": [],
   "source": [
    "# library that used to create and manipulate dataframe\n",
    "import pandas as pd \n",
    "import numpy as np \n",
    "\n",
    "# library that used for visualization data\n",
    "import matplotlib.pyplot as plt \n",
    "\n",
    "# library that used to split data train and data test\n",
    "from sklearn.model_selection import train_test_split\n",
    "\n",
    "# import library that used for check correlation between feature and label\n",
    "import phik\n",
    "\n",
    "# Library that used for pipeline and encoder\n",
    "from sklearn.compose import ColumnTransformer\n",
    "from sklearn.preprocessing import StandardScaler\n",
    "from sklearn.preprocessing import MinMaxScaler\n",
    "# from sklearn.pipeline import make_pipeline\n",
    "from imblearn.pipeline import make_pipeline\n",
    "from sklearn.preprocessing import OrdinalEncoder\n",
    "from sklearn.preprocessing import OneHotEncoder\n",
    "\n",
    "# library that used to check model performance\n",
    "from sklearn.model_selection import cross_val_score\n",
    "\n",
    "# Import Model algorithm\n",
    "\n",
    "from sklearn.tree import DecisionTreeClassifier\n",
    "from sklearn.ensemble import RandomForestClassifier\n",
    "from sklearn.svm import SVC\n",
    "from sklearn.neighbors import KNeighborsClassifier\n",
    "import xgboost as xgb\n",
    "from xgboost import XGBClassifier\n",
    "\n",
    "# import library for model metric classification \n",
    "# from sklearn.metrics import f1_score\n",
    "from sklearn.metrics import recall_score\n",
    "from sklearn.metrics import ConfusionMatrixDisplay, confusion_matrix\n",
    "\n",
    "# import library that used for parameter tuning\n",
    "from sklearn.model_selection import GridSearchCV\n",
    "from sklearn.model_selection import RandomizedSearchCV\n",
    "from sklearn.ensemble import AdaBoostClassifier\n",
    "\n",
    "#package for export and import and model\n",
    "import pickle\n",
    "import json\n",
    "\n",
    "from imblearn.over_sampling import SMOTE"
   ]
  },
  {
   "cell_type": "markdown",
   "metadata": {},
   "source": [
    "# 3. Data Loading "
   ]
  },
  {
   "cell_type": "markdown",
   "metadata": {},
   "source": [
    "## 3.1 Quick Overview Data"
   ]
  },
  {
   "cell_type": "code",
   "execution_count": 2,
   "metadata": {},
   "outputs": [],
   "source": [
    "# load data from file csv\n",
    "df = pd.read_csv('AIDS_Classification_50000.csv')"
   ]
  },
  {
   "cell_type": "code",
   "execution_count": 3,
   "metadata": {},
   "outputs": [
    {
     "data": {
      "text/html": [
       "<div>\n",
       "<style scoped>\n",
       "    .dataframe tbody tr th:only-of-type {\n",
       "        vertical-align: middle;\n",
       "    }\n",
       "\n",
       "    .dataframe tbody tr th {\n",
       "        vertical-align: top;\n",
       "    }\n",
       "\n",
       "    .dataframe thead th {\n",
       "        text-align: right;\n",
       "    }\n",
       "</style>\n",
       "<table border=\"1\" class=\"dataframe\">\n",
       "  <thead>\n",
       "    <tr style=\"text-align: right;\">\n",
       "      <th></th>\n",
       "      <th>time</th>\n",
       "      <th>trt</th>\n",
       "      <th>age</th>\n",
       "      <th>wtkg</th>\n",
       "      <th>hemo</th>\n",
       "      <th>homo</th>\n",
       "      <th>drugs</th>\n",
       "      <th>karnof</th>\n",
       "      <th>oprior</th>\n",
       "      <th>z30</th>\n",
       "      <th>...</th>\n",
       "      <th>str2</th>\n",
       "      <th>strat</th>\n",
       "      <th>symptom</th>\n",
       "      <th>treat</th>\n",
       "      <th>offtrt</th>\n",
       "      <th>cd40</th>\n",
       "      <th>cd420</th>\n",
       "      <th>cd80</th>\n",
       "      <th>cd820</th>\n",
       "      <th>infected</th>\n",
       "    </tr>\n",
       "  </thead>\n",
       "  <tbody>\n",
       "    <tr>\n",
       "      <th>0</th>\n",
       "      <td>1073</td>\n",
       "      <td>1</td>\n",
       "      <td>37</td>\n",
       "      <td>79.46339</td>\n",
       "      <td>0</td>\n",
       "      <td>1</td>\n",
       "      <td>0</td>\n",
       "      <td>100</td>\n",
       "      <td>0</td>\n",
       "      <td>1</td>\n",
       "      <td>...</td>\n",
       "      <td>1</td>\n",
       "      <td>2</td>\n",
       "      <td>0</td>\n",
       "      <td>1</td>\n",
       "      <td>0</td>\n",
       "      <td>322</td>\n",
       "      <td>469</td>\n",
       "      <td>882</td>\n",
       "      <td>754</td>\n",
       "      <td>1</td>\n",
       "    </tr>\n",
       "    <tr>\n",
       "      <th>1</th>\n",
       "      <td>324</td>\n",
       "      <td>0</td>\n",
       "      <td>33</td>\n",
       "      <td>73.02314</td>\n",
       "      <td>0</td>\n",
       "      <td>1</td>\n",
       "      <td>0</td>\n",
       "      <td>90</td>\n",
       "      <td>0</td>\n",
       "      <td>1</td>\n",
       "      <td>...</td>\n",
       "      <td>1</td>\n",
       "      <td>3</td>\n",
       "      <td>1</td>\n",
       "      <td>1</td>\n",
       "      <td>1</td>\n",
       "      <td>168</td>\n",
       "      <td>575</td>\n",
       "      <td>1035</td>\n",
       "      <td>1525</td>\n",
       "      <td>1</td>\n",
       "    </tr>\n",
       "    <tr>\n",
       "      <th>2</th>\n",
       "      <td>495</td>\n",
       "      <td>1</td>\n",
       "      <td>43</td>\n",
       "      <td>69.47793</td>\n",
       "      <td>0</td>\n",
       "      <td>1</td>\n",
       "      <td>0</td>\n",
       "      <td>100</td>\n",
       "      <td>0</td>\n",
       "      <td>1</td>\n",
       "      <td>...</td>\n",
       "      <td>1</td>\n",
       "      <td>1</td>\n",
       "      <td>0</td>\n",
       "      <td>0</td>\n",
       "      <td>0</td>\n",
       "      <td>377</td>\n",
       "      <td>333</td>\n",
       "      <td>1147</td>\n",
       "      <td>1088</td>\n",
       "      <td>1</td>\n",
       "    </tr>\n",
       "    <tr>\n",
       "      <th>3</th>\n",
       "      <td>1201</td>\n",
       "      <td>3</td>\n",
       "      <td>42</td>\n",
       "      <td>89.15934</td>\n",
       "      <td>0</td>\n",
       "      <td>1</td>\n",
       "      <td>0</td>\n",
       "      <td>100</td>\n",
       "      <td>1</td>\n",
       "      <td>1</td>\n",
       "      <td>...</td>\n",
       "      <td>1</td>\n",
       "      <td>3</td>\n",
       "      <td>0</td>\n",
       "      <td>0</td>\n",
       "      <td>0</td>\n",
       "      <td>238</td>\n",
       "      <td>324</td>\n",
       "      <td>775</td>\n",
       "      <td>1019</td>\n",
       "      <td>1</td>\n",
       "    </tr>\n",
       "    <tr>\n",
       "      <th>4</th>\n",
       "      <td>934</td>\n",
       "      <td>0</td>\n",
       "      <td>37</td>\n",
       "      <td>137.46581</td>\n",
       "      <td>0</td>\n",
       "      <td>1</td>\n",
       "      <td>0</td>\n",
       "      <td>100</td>\n",
       "      <td>0</td>\n",
       "      <td>0</td>\n",
       "      <td>...</td>\n",
       "      <td>0</td>\n",
       "      <td>3</td>\n",
       "      <td>0</td>\n",
       "      <td>0</td>\n",
       "      <td>1</td>\n",
       "      <td>500</td>\n",
       "      <td>443</td>\n",
       "      <td>1601</td>\n",
       "      <td>849</td>\n",
       "      <td>0</td>\n",
       "    </tr>\n",
       "    <tr>\n",
       "      <th>5</th>\n",
       "      <td>564</td>\n",
       "      <td>2</td>\n",
       "      <td>37</td>\n",
       "      <td>71.87923</td>\n",
       "      <td>0</td>\n",
       "      <td>1</td>\n",
       "      <td>0</td>\n",
       "      <td>90</td>\n",
       "      <td>0</td>\n",
       "      <td>1</td>\n",
       "      <td>...</td>\n",
       "      <td>1</td>\n",
       "      <td>2</td>\n",
       "      <td>0</td>\n",
       "      <td>1</td>\n",
       "      <td>1</td>\n",
       "      <td>520</td>\n",
       "      <td>543</td>\n",
       "      <td>740</td>\n",
       "      <td>694</td>\n",
       "      <td>1</td>\n",
       "    </tr>\n",
       "    <tr>\n",
       "      <th>6</th>\n",
       "      <td>406</td>\n",
       "      <td>0</td>\n",
       "      <td>27</td>\n",
       "      <td>86.94414</td>\n",
       "      <td>0</td>\n",
       "      <td>1</td>\n",
       "      <td>0</td>\n",
       "      <td>100</td>\n",
       "      <td>0</td>\n",
       "      <td>1</td>\n",
       "      <td>...</td>\n",
       "      <td>1</td>\n",
       "      <td>2</td>\n",
       "      <td>0</td>\n",
       "      <td>0</td>\n",
       "      <td>0</td>\n",
       "      <td>274</td>\n",
       "      <td>314</td>\n",
       "      <td>1563</td>\n",
       "      <td>664</td>\n",
       "      <td>0</td>\n",
       "    </tr>\n",
       "    <tr>\n",
       "      <th>7</th>\n",
       "      <td>1044</td>\n",
       "      <td>1</td>\n",
       "      <td>36</td>\n",
       "      <td>69.46018</td>\n",
       "      <td>0</td>\n",
       "      <td>1</td>\n",
       "      <td>1</td>\n",
       "      <td>90</td>\n",
       "      <td>0</td>\n",
       "      <td>0</td>\n",
       "      <td>...</td>\n",
       "      <td>0</td>\n",
       "      <td>1</td>\n",
       "      <td>0</td>\n",
       "      <td>1</td>\n",
       "      <td>1</td>\n",
       "      <td>338</td>\n",
       "      <td>640</td>\n",
       "      <td>2572</td>\n",
       "      <td>741</td>\n",
       "      <td>0</td>\n",
       "    </tr>\n",
       "    <tr>\n",
       "      <th>8</th>\n",
       "      <td>522</td>\n",
       "      <td>0</td>\n",
       "      <td>52</td>\n",
       "      <td>67.55010</td>\n",
       "      <td>0</td>\n",
       "      <td>1</td>\n",
       "      <td>0</td>\n",
       "      <td>100</td>\n",
       "      <td>0</td>\n",
       "      <td>1</td>\n",
       "      <td>...</td>\n",
       "      <td>1</td>\n",
       "      <td>1</td>\n",
       "      <td>0</td>\n",
       "      <td>1</td>\n",
       "      <td>1</td>\n",
       "      <td>418</td>\n",
       "      <td>513</td>\n",
       "      <td>1496</td>\n",
       "      <td>622</td>\n",
       "      <td>0</td>\n",
       "    </tr>\n",
       "    <tr>\n",
       "      <th>9</th>\n",
       "      <td>494</td>\n",
       "      <td>2</td>\n",
       "      <td>39</td>\n",
       "      <td>93.49177</td>\n",
       "      <td>0</td>\n",
       "      <td>1</td>\n",
       "      <td>0</td>\n",
       "      <td>100</td>\n",
       "      <td>0</td>\n",
       "      <td>0</td>\n",
       "      <td>...</td>\n",
       "      <td>1</td>\n",
       "      <td>3</td>\n",
       "      <td>1</td>\n",
       "      <td>1</td>\n",
       "      <td>1</td>\n",
       "      <td>375</td>\n",
       "      <td>330</td>\n",
       "      <td>1339</td>\n",
       "      <td>1398</td>\n",
       "      <td>0</td>\n",
       "    </tr>\n",
       "  </tbody>\n",
       "</table>\n",
       "<p>10 rows × 23 columns</p>\n",
       "</div>"
      ],
      "text/plain": [
       "   time  trt  age       wtkg  hemo  homo  drugs  karnof  oprior  z30  ...  \\\n",
       "0  1073    1   37   79.46339     0     1      0     100       0    1  ...   \n",
       "1   324    0   33   73.02314     0     1      0      90       0    1  ...   \n",
       "2   495    1   43   69.47793     0     1      0     100       0    1  ...   \n",
       "3  1201    3   42   89.15934     0     1      0     100       1    1  ...   \n",
       "4   934    0   37  137.46581     0     1      0     100       0    0  ...   \n",
       "5   564    2   37   71.87923     0     1      0      90       0    1  ...   \n",
       "6   406    0   27   86.94414     0     1      0     100       0    1  ...   \n",
       "7  1044    1   36   69.46018     0     1      1      90       0    0  ...   \n",
       "8   522    0   52   67.55010     0     1      0     100       0    1  ...   \n",
       "9   494    2   39   93.49177     0     1      0     100       0    0  ...   \n",
       "\n",
       "   str2  strat  symptom  treat  offtrt  cd40  cd420  cd80  cd820  infected  \n",
       "0     1      2        0      1       0   322    469   882    754         1  \n",
       "1     1      3        1      1       1   168    575  1035   1525         1  \n",
       "2     1      1        0      0       0   377    333  1147   1088         1  \n",
       "3     1      3        0      0       0   238    324   775   1019         1  \n",
       "4     0      3        0      0       1   500    443  1601    849         0  \n",
       "5     1      2        0      1       1   520    543   740    694         1  \n",
       "6     1      2        0      0       0   274    314  1563    664         0  \n",
       "7     0      1        0      1       1   338    640  2572    741         0  \n",
       "8     1      1        0      1       1   418    513  1496    622         0  \n",
       "9     1      3        1      1       1   375    330  1339   1398         0  \n",
       "\n",
       "[10 rows x 23 columns]"
      ]
     },
     "execution_count": 3,
     "metadata": {},
     "output_type": "execute_result"
    }
   ],
   "source": [
    "# show top 10 data \n",
    "df.head(10)"
   ]
  },
  {
   "cell_type": "code",
   "execution_count": 4,
   "metadata": {},
   "outputs": [
    {
     "data": {
      "text/html": [
       "<div>\n",
       "<style scoped>\n",
       "    .dataframe tbody tr th:only-of-type {\n",
       "        vertical-align: middle;\n",
       "    }\n",
       "\n",
       "    .dataframe tbody tr th {\n",
       "        vertical-align: top;\n",
       "    }\n",
       "\n",
       "    .dataframe thead th {\n",
       "        text-align: right;\n",
       "    }\n",
       "</style>\n",
       "<table border=\"1\" class=\"dataframe\">\n",
       "  <thead>\n",
       "    <tr style=\"text-align: right;\">\n",
       "      <th></th>\n",
       "      <th>time</th>\n",
       "      <th>trt</th>\n",
       "      <th>age</th>\n",
       "      <th>wtkg</th>\n",
       "      <th>hemo</th>\n",
       "      <th>homo</th>\n",
       "      <th>drugs</th>\n",
       "      <th>karnof</th>\n",
       "      <th>oprior</th>\n",
       "      <th>z30</th>\n",
       "      <th>...</th>\n",
       "      <th>str2</th>\n",
       "      <th>strat</th>\n",
       "      <th>symptom</th>\n",
       "      <th>treat</th>\n",
       "      <th>offtrt</th>\n",
       "      <th>cd40</th>\n",
       "      <th>cd420</th>\n",
       "      <th>cd80</th>\n",
       "      <th>cd820</th>\n",
       "      <th>infected</th>\n",
       "    </tr>\n",
       "  </thead>\n",
       "  <tbody>\n",
       "    <tr>\n",
       "      <th>49990</th>\n",
       "      <td>471</td>\n",
       "      <td>2</td>\n",
       "      <td>45</td>\n",
       "      <td>66.91682</td>\n",
       "      <td>0</td>\n",
       "      <td>0</td>\n",
       "      <td>0</td>\n",
       "      <td>100</td>\n",
       "      <td>0</td>\n",
       "      <td>1</td>\n",
       "      <td>...</td>\n",
       "      <td>1</td>\n",
       "      <td>2</td>\n",
       "      <td>0</td>\n",
       "      <td>1</td>\n",
       "      <td>1</td>\n",
       "      <td>345</td>\n",
       "      <td>476</td>\n",
       "      <td>650</td>\n",
       "      <td>536</td>\n",
       "      <td>0</td>\n",
       "    </tr>\n",
       "    <tr>\n",
       "      <th>49991</th>\n",
       "      <td>1126</td>\n",
       "      <td>0</td>\n",
       "      <td>32</td>\n",
       "      <td>73.43903</td>\n",
       "      <td>0</td>\n",
       "      <td>0</td>\n",
       "      <td>0</td>\n",
       "      <td>100</td>\n",
       "      <td>0</td>\n",
       "      <td>1</td>\n",
       "      <td>...</td>\n",
       "      <td>1</td>\n",
       "      <td>3</td>\n",
       "      <td>0</td>\n",
       "      <td>1</td>\n",
       "      <td>0</td>\n",
       "      <td>384</td>\n",
       "      <td>360</td>\n",
       "      <td>918</td>\n",
       "      <td>673</td>\n",
       "      <td>0</td>\n",
       "    </tr>\n",
       "    <tr>\n",
       "      <th>49992</th>\n",
       "      <td>1139</td>\n",
       "      <td>3</td>\n",
       "      <td>34</td>\n",
       "      <td>76.30954</td>\n",
       "      <td>0</td>\n",
       "      <td>1</td>\n",
       "      <td>0</td>\n",
       "      <td>100</td>\n",
       "      <td>0</td>\n",
       "      <td>1</td>\n",
       "      <td>...</td>\n",
       "      <td>0</td>\n",
       "      <td>2</td>\n",
       "      <td>0</td>\n",
       "      <td>1</td>\n",
       "      <td>1</td>\n",
       "      <td>598</td>\n",
       "      <td>652</td>\n",
       "      <td>1412</td>\n",
       "      <td>800</td>\n",
       "      <td>0</td>\n",
       "    </tr>\n",
       "    <tr>\n",
       "      <th>49993</th>\n",
       "      <td>1115</td>\n",
       "      <td>2</td>\n",
       "      <td>41</td>\n",
       "      <td>75.56361</td>\n",
       "      <td>0</td>\n",
       "      <td>1</td>\n",
       "      <td>0</td>\n",
       "      <td>100</td>\n",
       "      <td>0</td>\n",
       "      <td>1</td>\n",
       "      <td>...</td>\n",
       "      <td>1</td>\n",
       "      <td>2</td>\n",
       "      <td>0</td>\n",
       "      <td>1</td>\n",
       "      <td>0</td>\n",
       "      <td>439</td>\n",
       "      <td>348</td>\n",
       "      <td>817</td>\n",
       "      <td>987</td>\n",
       "      <td>0</td>\n",
       "    </tr>\n",
       "    <tr>\n",
       "      <th>49994</th>\n",
       "      <td>952</td>\n",
       "      <td>1</td>\n",
       "      <td>27</td>\n",
       "      <td>69.26026</td>\n",
       "      <td>0</td>\n",
       "      <td>1</td>\n",
       "      <td>0</td>\n",
       "      <td>100</td>\n",
       "      <td>0</td>\n",
       "      <td>0</td>\n",
       "      <td>...</td>\n",
       "      <td>0</td>\n",
       "      <td>1</td>\n",
       "      <td>0</td>\n",
       "      <td>0</td>\n",
       "      <td>0</td>\n",
       "      <td>326</td>\n",
       "      <td>521</td>\n",
       "      <td>826</td>\n",
       "      <td>1257</td>\n",
       "      <td>0</td>\n",
       "    </tr>\n",
       "    <tr>\n",
       "      <th>49995</th>\n",
       "      <td>953</td>\n",
       "      <td>3</td>\n",
       "      <td>46</td>\n",
       "      <td>61.28204</td>\n",
       "      <td>0</td>\n",
       "      <td>0</td>\n",
       "      <td>0</td>\n",
       "      <td>90</td>\n",
       "      <td>0</td>\n",
       "      <td>1</td>\n",
       "      <td>...</td>\n",
       "      <td>1</td>\n",
       "      <td>3</td>\n",
       "      <td>0</td>\n",
       "      <td>1</td>\n",
       "      <td>1</td>\n",
       "      <td>234</td>\n",
       "      <td>402</td>\n",
       "      <td>481</td>\n",
       "      <td>1014</td>\n",
       "      <td>0</td>\n",
       "    </tr>\n",
       "    <tr>\n",
       "      <th>49996</th>\n",
       "      <td>1036</td>\n",
       "      <td>0</td>\n",
       "      <td>42</td>\n",
       "      <td>73.36768</td>\n",
       "      <td>0</td>\n",
       "      <td>1</td>\n",
       "      <td>0</td>\n",
       "      <td>100</td>\n",
       "      <td>0</td>\n",
       "      <td>1</td>\n",
       "      <td>...</td>\n",
       "      <td>1</td>\n",
       "      <td>3</td>\n",
       "      <td>0</td>\n",
       "      <td>0</td>\n",
       "      <td>1</td>\n",
       "      <td>369</td>\n",
       "      <td>575</td>\n",
       "      <td>514</td>\n",
       "      <td>657</td>\n",
       "      <td>0</td>\n",
       "    </tr>\n",
       "    <tr>\n",
       "      <th>49997</th>\n",
       "      <td>1157</td>\n",
       "      <td>0</td>\n",
       "      <td>40</td>\n",
       "      <td>78.75824</td>\n",
       "      <td>0</td>\n",
       "      <td>1</td>\n",
       "      <td>0</td>\n",
       "      <td>100</td>\n",
       "      <td>0</td>\n",
       "      <td>1</td>\n",
       "      <td>...</td>\n",
       "      <td>1</td>\n",
       "      <td>1</td>\n",
       "      <td>0</td>\n",
       "      <td>1</td>\n",
       "      <td>0</td>\n",
       "      <td>308</td>\n",
       "      <td>663</td>\n",
       "      <td>1581</td>\n",
       "      <td>863</td>\n",
       "      <td>0</td>\n",
       "    </tr>\n",
       "    <tr>\n",
       "      <th>49998</th>\n",
       "      <td>596</td>\n",
       "      <td>0</td>\n",
       "      <td>31</td>\n",
       "      <td>52.20371</td>\n",
       "      <td>0</td>\n",
       "      <td>0</td>\n",
       "      <td>0</td>\n",
       "      <td>100</td>\n",
       "      <td>0</td>\n",
       "      <td>1</td>\n",
       "      <td>...</td>\n",
       "      <td>1</td>\n",
       "      <td>1</td>\n",
       "      <td>0</td>\n",
       "      <td>1</td>\n",
       "      <td>1</td>\n",
       "      <td>349</td>\n",
       "      <td>440</td>\n",
       "      <td>470</td>\n",
       "      <td>865</td>\n",
       "      <td>1</td>\n",
       "    </tr>\n",
       "    <tr>\n",
       "      <th>49999</th>\n",
       "      <td>612</td>\n",
       "      <td>2</td>\n",
       "      <td>41</td>\n",
       "      <td>77.12100</td>\n",
       "      <td>0</td>\n",
       "      <td>1</td>\n",
       "      <td>0</td>\n",
       "      <td>90</td>\n",
       "      <td>0</td>\n",
       "      <td>1</td>\n",
       "      <td>...</td>\n",
       "      <td>1</td>\n",
       "      <td>3</td>\n",
       "      <td>0</td>\n",
       "      <td>1</td>\n",
       "      <td>0</td>\n",
       "      <td>428</td>\n",
       "      <td>396</td>\n",
       "      <td>1002</td>\n",
       "      <td>696</td>\n",
       "      <td>0</td>\n",
       "    </tr>\n",
       "  </tbody>\n",
       "</table>\n",
       "<p>10 rows × 23 columns</p>\n",
       "</div>"
      ],
      "text/plain": [
       "       time  trt  age      wtkg  hemo  homo  drugs  karnof  oprior  z30  ...  \\\n",
       "49990   471    2   45  66.91682     0     0      0     100       0    1  ...   \n",
       "49991  1126    0   32  73.43903     0     0      0     100       0    1  ...   \n",
       "49992  1139    3   34  76.30954     0     1      0     100       0    1  ...   \n",
       "49993  1115    2   41  75.56361     0     1      0     100       0    1  ...   \n",
       "49994   952    1   27  69.26026     0     1      0     100       0    0  ...   \n",
       "49995   953    3   46  61.28204     0     0      0      90       0    1  ...   \n",
       "49996  1036    0   42  73.36768     0     1      0     100       0    1  ...   \n",
       "49997  1157    0   40  78.75824     0     1      0     100       0    1  ...   \n",
       "49998   596    0   31  52.20371     0     0      0     100       0    1  ...   \n",
       "49999   612    2   41  77.12100     0     1      0      90       0    1  ...   \n",
       "\n",
       "       str2  strat  symptom  treat  offtrt  cd40  cd420  cd80  cd820  infected  \n",
       "49990     1      2        0      1       1   345    476   650    536         0  \n",
       "49991     1      3        0      1       0   384    360   918    673         0  \n",
       "49992     0      2        0      1       1   598    652  1412    800         0  \n",
       "49993     1      2        0      1       0   439    348   817    987         0  \n",
       "49994     0      1        0      0       0   326    521   826   1257         0  \n",
       "49995     1      3        0      1       1   234    402   481   1014         0  \n",
       "49996     1      3        0      0       1   369    575   514    657         0  \n",
       "49997     1      1        0      1       0   308    663  1581    863         0  \n",
       "49998     1      1        0      1       1   349    440   470    865         1  \n",
       "49999     1      3        0      1       0   428    396  1002    696         0  \n",
       "\n",
       "[10 rows x 23 columns]"
      ]
     },
     "execution_count": 4,
     "metadata": {},
     "output_type": "execute_result"
    }
   ],
   "source": [
    "# show bottom 10 data\n",
    "df.tail(10)"
   ]
  },
  {
   "cell_type": "code",
   "execution_count": 5,
   "metadata": {},
   "outputs": [
    {
     "data": {
      "text/plain": [
       "(50000, 23)"
      ]
     },
     "execution_count": 5,
     "metadata": {},
     "output_type": "execute_result"
    }
   ],
   "source": [
    "# Check total column and row in dataframe\n",
    "df.shape"
   ]
  },
  {
   "cell_type": "markdown",
   "metadata": {},
   "source": [
    "From Code above we can know that my data has 50000 row data and 23 column"
   ]
  },
  {
   "cell_type": "code",
   "execution_count": 6,
   "metadata": {},
   "outputs": [
    {
     "name": "stdout",
     "output_type": "stream",
     "text": [
      "<class 'pandas.core.frame.DataFrame'>\n",
      "RangeIndex: 50000 entries, 0 to 49999\n",
      "Data columns (total 23 columns):\n",
      " #   Column    Non-Null Count  Dtype  \n",
      "---  ------    --------------  -----  \n",
      " 0   time      50000 non-null  int64  \n",
      " 1   trt       50000 non-null  int64  \n",
      " 2   age       50000 non-null  int64  \n",
      " 3   wtkg      50000 non-null  float64\n",
      " 4   hemo      50000 non-null  int64  \n",
      " 5   homo      50000 non-null  int64  \n",
      " 6   drugs     50000 non-null  int64  \n",
      " 7   karnof    50000 non-null  int64  \n",
      " 8   oprior    50000 non-null  int64  \n",
      " 9   z30       50000 non-null  int64  \n",
      " 10  preanti   50000 non-null  int64  \n",
      " 11  race      50000 non-null  int64  \n",
      " 12  gender    50000 non-null  int64  \n",
      " 13  str2      50000 non-null  int64  \n",
      " 14  strat     50000 non-null  int64  \n",
      " 15  symptom   50000 non-null  int64  \n",
      " 16  treat     50000 non-null  int64  \n",
      " 17  offtrt    50000 non-null  int64  \n",
      " 18  cd40      50000 non-null  int64  \n",
      " 19  cd420     50000 non-null  int64  \n",
      " 20  cd80      50000 non-null  int64  \n",
      " 21  cd820     50000 non-null  int64  \n",
      " 22  infected  50000 non-null  int64  \n",
      "dtypes: float64(1), int64(22)\n",
      "memory usage: 8.8 MB\n"
     ]
    }
   ],
   "source": [
    "# Check total row data, detail column name and it's data type \n",
    "df.info()"
   ]
  },
  {
   "cell_type": "markdown",
   "metadata": {},
   "source": [
    "Column definition : \n",
    "1. time = time take to liver failure ( in day )\n",
    "2. trt = treatment indicator (0 = ZDV, 1 = ZDV + ddl, 2 = ZDV + Zal, 3 = ddl only ) \n",
    "3. age = age at baseline (in years)  \n",
    "4. wtkg = weight at baseline (kg)\n",
    "5. hemo: hemophilia (0 = no, 1=yes), Hemophilia is a rare disorder in which the blood doesn't clot in the typical way because it doesn't have enough blood-clotting proteins (clotting factors)\n",
    "6. homo: homosexual activity (0 = no, 1 = yes)\n",
    "7. drugs: history of IV drug use (0= no, 1=yes)\n",
    "8. karnof: Karnofsky score (on a scale of 0 - 100), karnofsky score is index allows patients to be classified as their functional impairment. For detail can click [here](http://www.npcrc.org/files/news/karnofsky_performance_scale.pdf)\n",
    "9. oprior = Non-ZDV antiretroviral therapy pre-175 (0= no, 1 = yes ), Non-ZDV refers to antiretrovial therapy that does not include Zidovudine (ZDV), which is older medication used to treat HIV/AIDS. pre-175 is study number or code. \n",
    "10. z30= ZDV in the 30 days prior to 175 ( 0 = no, 1 = yes). Zidovudine (ZDV) is antiretrovial medication used to prevent and treat HIV/AIDS. 30 days prior is the period 30 days precedding a particular event or time marker. 175 is study number or code\n",
    "11. preanti = days pre-175 anti-retroviral therapy. I assume it is how many days patient take z30 therapy \n",
    "12. race = (0 = white, 1= non-white)\n",
    "13. gender = (0 =  Female, 1 = Male)\n",
    "14. str2 = antiretroviral ( 0 = naive, 1 = experienced)\n",
    "15. strat = antiretroviral history stratification (1 = \"Antiretroviral Naive\", 2=\"Antiretroviral between 0 - 52 weeks\", 3 = \"Antiretroviral more than 52 weeks\")\n",
    "16. symptom = symptomatic indicator (0=asymp, 1=symp). It is parameter used in medical or research contexts to indicate whether an individual is showing symptomps of particular condition or disease. \n",
    "17. treat = treatment indicator (0=ZDV only, 1=others)\n",
    "18. offtrt = indicator of off-trt before 96+/-5 weeks (0=no,1=yes)\n",
    "19. cd40 = CD4 at baseline. CD4 is one of type white blood cell that usually called CD4 or cell T-Helper. It is one of important component from immunity body.\n",
    "20. cd420 = CD4 at 20+/-5 weeks.\n",
    "21. cd80 =  cd80 at baseline. CD80 is a transmembrane protein that functions as a co-stimulatory molecule in antigen-presenting cells, such as dendritic cells, macrophages, and B cells. \n",
    "22. cd820 = CD8 at 20+/-5 weeks\n",
    "23. infected = is infected with AIDS (0 = No, 1 = Yes)\n",
    "\n",
    "\n",
    "List column i assume as numeric continues : \n",
    "1. time \n",
    "2. age \n",
    "3. wtkg\n",
    "4. karnof\n",
    "5. preanti\n",
    "6. cd40 \n",
    "7. cd420\n",
    "8. cd80 \n",
    "9. cd820\n",
    "\n",
    "List column i assume as categorial nominal are : \n",
    "1. hemo \n",
    "2. homo \n",
    "3. drugs \n",
    "4. oprior\n",
    "5. z30\n",
    "6. race \n",
    "7. gender\n",
    "8. str2\n",
    "9. symptom\n",
    "10. treat\n",
    "11. offtrt\n",
    "12. infected\n",
    "13. trt\n",
    "\n",
    "List column i assume as categorial ordinal are : \n",
    "1. strat\n",
    "\n",
    "\n",
    "List column i want to change it's data type are : \n",
    "1. `hemo` from int to object , because it is categorial and to make it easier when process feature engineer \n",
    "2. `homo` from int to object, because it is categorial and to make it easier when process feature engineer \n",
    "3. `drugs` from int to object, because it is categorial and to make it easier when process feature engineer \n",
    "4. `oprior` from int to object, because it is categorial and to make it easier when process feature engineer \n",
    "5. `z30` from int to object, because it is categorial and to make it easier when process feature engineer \n",
    "6. `race` from int to object, because it is categorial and to make it easier when process feature engineer \n",
    "7. `gender` from int to object, because it is categorial and to make it easier when process feature engineer \n",
    "8. `str2` from int to object, because it is categorial and to make it easier when process feature engineer \n",
    "9. `strat` from int to object, because it is categorial and to make it easier when process feature engineer \n",
    "10 `symptom` from int to object, because it is categorial and to make it easier when process feature engineer \n",
    "11. `treat` from int to object, because it is categorial and to make it easier when process feature engineer \n",
    "12. `offtrt` from int to object, because it is categorial and to make it easier when process feature engineer \n",
    "13. `infected` from int to object, because it is categorial and to make it easier when process feature engineer \n",
    "14. `trt` from int to object, because it is categorial and to make it easier when process feature engineer\n",
    "\n",
    "Column that i want to be label for my model classification is `infected`"
   ]
  },
  {
   "cell_type": "markdown",
   "metadata": {},
   "source": [
    "## 3.2 Overview column categorial "
   ]
  },
  {
   "cell_type": "markdown",
   "metadata": {},
   "source": [
    "### 3.2.1 Overview column hemo "
   ]
  },
  {
   "cell_type": "code",
   "execution_count": 7,
   "metadata": {},
   "outputs": [
    {
     "data": {
      "text/plain": [
       "array([0, 1])"
      ]
     },
     "execution_count": 7,
     "metadata": {},
     "output_type": "execute_result"
    }
   ],
   "source": [
    "# Check unique value in column hemo\n",
    "df['hemo'].unique()"
   ]
  },
  {
   "cell_type": "markdown",
   "metadata": {},
   "source": [
    "In column hemo there is only 2 unique value, 0 indicate patient dont have hemophilia and 1 indicate patient have hemophilia"
   ]
  },
  {
   "cell_type": "markdown",
   "metadata": {},
   "source": [
    "### 3.2.2 Overview column homo"
   ]
  },
  {
   "cell_type": "code",
   "execution_count": 8,
   "metadata": {},
   "outputs": [
    {
     "data": {
      "text/plain": [
       "array([1, 0])"
      ]
     },
     "execution_count": 8,
     "metadata": {},
     "output_type": "execute_result"
    }
   ],
   "source": [
    "# Check unique value in column homo\n",
    "df['homo'].unique()"
   ]
  },
  {
   "cell_type": "markdown",
   "metadata": {},
   "source": [
    "In column homo there is only 2 unique value, 0 indicate patient dont have homosexual activity and 1 indicate patient have homosexual activity"
   ]
  },
  {
   "cell_type": "markdown",
   "metadata": {},
   "source": [
    "### 3.2.3 Overview column drugs"
   ]
  },
  {
   "cell_type": "code",
   "execution_count": 9,
   "metadata": {},
   "outputs": [
    {
     "data": {
      "text/plain": [
       "array([0, 1])"
      ]
     },
     "execution_count": 9,
     "metadata": {},
     "output_type": "execute_result"
    }
   ],
   "source": [
    "# Check unique value in column drugs\n",
    "df['drugs'].unique()"
   ]
  },
  {
   "cell_type": "markdown",
   "metadata": {},
   "source": [
    "In column drugs there is only 2 unique value, 0 indicate patient dont have history of IV drug use  and 1 indicate patient have history of IV drug use "
   ]
  },
  {
   "cell_type": "markdown",
   "metadata": {},
   "source": [
    "### 3.2.4 Overview column oprior"
   ]
  },
  {
   "cell_type": "code",
   "execution_count": 10,
   "metadata": {},
   "outputs": [
    {
     "data": {
      "text/plain": [
       "array([0, 1])"
      ]
     },
     "execution_count": 10,
     "metadata": {},
     "output_type": "execute_result"
    }
   ],
   "source": [
    "# Check unique value in column oprior\n",
    "df['oprior'].unique()"
   ]
  },
  {
   "cell_type": "markdown",
   "metadata": {},
   "source": [
    "In column oprior there is only 2 unique value, 0 indicate patient dont have Non-ZDV antiretroviral therapy pre-175 and 1 indicate patient have Non-ZDV antiretroviral therapy pre-175 "
   ]
  },
  {
   "cell_type": "markdown",
   "metadata": {},
   "source": [
    "### 3.2.5 Overview column z30"
   ]
  },
  {
   "cell_type": "code",
   "execution_count": 11,
   "metadata": {},
   "outputs": [
    {
     "data": {
      "text/plain": [
       "array([1, 0])"
      ]
     },
     "execution_count": 11,
     "metadata": {},
     "output_type": "execute_result"
    }
   ],
   "source": [
    "# Check unique value in column z30\n",
    "df['z30'].unique()"
   ]
  },
  {
   "cell_type": "markdown",
   "metadata": {},
   "source": [
    "In column z30 there is only 2 unique value, 0 indicate patient dont have ZDV in the 30 days prior to 175  and 1 indicate patient have ZDV in the 30 days prior to 175  "
   ]
  },
  {
   "cell_type": "markdown",
   "metadata": {},
   "source": [
    "### 3.2.6 Overview column race"
   ]
  },
  {
   "cell_type": "code",
   "execution_count": 12,
   "metadata": {},
   "outputs": [
    {
     "data": {
      "text/plain": [
       "array([0, 1])"
      ]
     },
     "execution_count": 12,
     "metadata": {},
     "output_type": "execute_result"
    }
   ],
   "source": [
    "# Check unique value in column race\n",
    "df['race'].unique()"
   ]
  },
  {
   "cell_type": "markdown",
   "metadata": {},
   "source": [
    "In column race there is only 2 unique value, 0 indicate patient is white race  and 1 indicate patient is non-white race "
   ]
  },
  {
   "cell_type": "markdown",
   "metadata": {},
   "source": [
    "### 3.2.7 Overview column gender"
   ]
  },
  {
   "cell_type": "code",
   "execution_count": 13,
   "metadata": {},
   "outputs": [
    {
     "data": {
      "text/plain": [
       "array([1, 0])"
      ]
     },
     "execution_count": 13,
     "metadata": {},
     "output_type": "execute_result"
    }
   ],
   "source": [
    "# Check unique value in column gender\n",
    "df['gender'].unique()"
   ]
  },
  {
   "cell_type": "markdown",
   "metadata": {},
   "source": [
    "In column gender there is only 2 unique value, 0 indicate patient is Female and 1 indicate patient is Male"
   ]
  },
  {
   "cell_type": "markdown",
   "metadata": {},
   "source": [
    "### 3.2.8 Overview column str2"
   ]
  },
  {
   "cell_type": "code",
   "execution_count": 14,
   "metadata": {},
   "outputs": [
    {
     "data": {
      "text/plain": [
       "array([1, 0])"
      ]
     },
     "execution_count": 14,
     "metadata": {},
     "output_type": "execute_result"
    }
   ],
   "source": [
    "# Check unique value in column str2\n",
    "df['str2'].unique()"
   ]
  },
  {
   "cell_type": "markdown",
   "metadata": {},
   "source": [
    "In column str2 there is only 2 unique value, 0 indicate patient is Naive/ no experience with antiretroviral and 1 indicate patient is experience with antiretroviral"
   ]
  },
  {
   "cell_type": "markdown",
   "metadata": {},
   "source": [
    "### 3.2.9 Overview column strat"
   ]
  },
  {
   "cell_type": "code",
   "execution_count": 15,
   "metadata": {},
   "outputs": [
    {
     "data": {
      "text/plain": [
       "array([2, 3, 1])"
      ]
     },
     "execution_count": 15,
     "metadata": {},
     "output_type": "execute_result"
    }
   ],
   "source": [
    "# Check unique value in column strat\n",
    "df['strat'].unique()"
   ]
  },
  {
   "cell_type": "markdown",
   "metadata": {},
   "source": [
    "In column gender there is only 3 unique value, 1 indicate patient is Antiretroviral Naive, 2 indicate patient is Antiretroviral between 0 - 52 weeks, 3 indicate patient is Antiretroviral more than 52 weeks"
   ]
  },
  {
   "cell_type": "markdown",
   "metadata": {},
   "source": [
    "### 3.2.10 Overview column symptom"
   ]
  },
  {
   "cell_type": "code",
   "execution_count": 16,
   "metadata": {},
   "outputs": [
    {
     "data": {
      "text/plain": [
       "array([0, 1])"
      ]
     },
     "execution_count": 16,
     "metadata": {},
     "output_type": "execute_result"
    }
   ],
   "source": [
    "# Check unique value in column symptom\n",
    "df['symptom'].unique()"
   ]
  },
  {
   "cell_type": "markdown",
   "metadata": {},
   "source": [
    "In column symptom there is only 2 unique value, 0 indicate patient is asymp, 1 indicate patient is symp"
   ]
  },
  {
   "cell_type": "markdown",
   "metadata": {},
   "source": [
    "### 3.2.11 Overview column treat"
   ]
  },
  {
   "cell_type": "code",
   "execution_count": 17,
   "metadata": {},
   "outputs": [
    {
     "data": {
      "text/plain": [
       "array([1, 0])"
      ]
     },
     "execution_count": 17,
     "metadata": {},
     "output_type": "execute_result"
    }
   ],
   "source": [
    "# Check unique value in column treat\n",
    "df['treat'].unique()"
   ]
  },
  {
   "cell_type": "markdown",
   "metadata": {},
   "source": [
    "In column symptom there is only 2 unique value, 0 indicate patient is ZDV only, 1 indicate patient is has other treatment beside ZDV"
   ]
  },
  {
   "cell_type": "markdown",
   "metadata": {},
   "source": [
    "### 3.2.12 Overview column offtrt"
   ]
  },
  {
   "cell_type": "code",
   "execution_count": 18,
   "metadata": {},
   "outputs": [
    {
     "data": {
      "text/plain": [
       "array([0, 1])"
      ]
     },
     "execution_count": 18,
     "metadata": {},
     "output_type": "execute_result"
    }
   ],
   "source": [
    "# Check unique value in column offtrt\n",
    "df['offtrt'].unique()"
   ]
  },
  {
   "cell_type": "markdown",
   "metadata": {},
   "source": [
    "In column offtrt there is only 2 unique value, 0 indicate patient is no stop doing therapy before or around 96 weeks, 1 indicate patient is stop doing therapy before or around 96 weeks. "
   ]
  },
  {
   "cell_type": "markdown",
   "metadata": {},
   "source": [
    "### 3.2.13 Overview column infected "
   ]
  },
  {
   "cell_type": "code",
   "execution_count": 19,
   "metadata": {},
   "outputs": [
    {
     "data": {
      "text/plain": [
       "array([1, 0])"
      ]
     },
     "execution_count": 19,
     "metadata": {},
     "output_type": "execute_result"
    }
   ],
   "source": [
    "# Check unique value in column infected\n",
    "df['infected'].unique()"
   ]
  },
  {
   "cell_type": "markdown",
   "metadata": {},
   "source": [
    "In column infected there is only 2 unique value, 0 indicate patient is not infected with AIDS, 1 indicate patient is indicate with AIDS."
   ]
  },
  {
   "cell_type": "markdown",
   "metadata": {},
   "source": [
    "### 3.2.14 Overview column trt"
   ]
  },
  {
   "cell_type": "code",
   "execution_count": 20,
   "metadata": {},
   "outputs": [
    {
     "data": {
      "text/plain": [
       "array([1, 0, 3, 2])"
      ]
     },
     "execution_count": 20,
     "metadata": {},
     "output_type": "execute_result"
    }
   ],
   "source": [
    "# Check unique value in column infected\n",
    "df['trt'].unique()"
   ]
  },
  {
   "cell_type": "markdown",
   "metadata": {},
   "source": [
    "In column infected there is only 4 unique value, 0 indicate patient is only take treatment ZDV, 1 indicate patient is take treatment ZDV + ddl, 2 indicate patient is take treatment ZDV + Zal, 3 indicate pation is only take ddl treatment."
   ]
  },
  {
   "cell_type": "markdown",
   "metadata": {},
   "source": [
    "## 3.3 Convert Data Type "
   ]
  },
  {
   "cell_type": "code",
   "execution_count": 21,
   "metadata": {},
   "outputs": [
    {
     "data": {
      "text/plain": [
       "hemo       int64\n",
       "homo       int64\n",
       "drugs      int64\n",
       "oprior     int64\n",
       "z30        int64\n",
       "race       int64\n",
       "gender     int64\n",
       "str2       int64\n",
       "strat      int64\n",
       "symptom    int64\n",
       "treat      int64\n",
       "offtrt     int64\n",
       "trt        int64\n",
       "dtype: object"
      ]
     },
     "execution_count": 21,
     "metadata": {},
     "output_type": "execute_result"
    }
   ],
   "source": [
    "# Check data type before convert data type\n",
    "df[['hemo','homo','drugs','oprior','z30','race','gender','str2','strat','symptom','treat','offtrt','trt']].dtypes"
   ]
  },
  {
   "cell_type": "code",
   "execution_count": 22,
   "metadata": {},
   "outputs": [],
   "source": [
    "# Convert data types from int to object so these column identify as object\n",
    "df[['hemo','homo','drugs','oprior','z30','race','gender','str2','strat','symptom','treat','offtrt','trt']] = df[['hemo','homo','drugs','oprior','z30','race','gender','str2','strat','symptom','treat','offtrt','trt']].astype(object)"
   ]
  },
  {
   "cell_type": "code",
   "execution_count": 23,
   "metadata": {},
   "outputs": [
    {
     "data": {
      "text/plain": [
       "hemo       object\n",
       "homo       object\n",
       "drugs      object\n",
       "oprior     object\n",
       "z30        object\n",
       "race       object\n",
       "gender     object\n",
       "str2       object\n",
       "strat      object\n",
       "symptom    object\n",
       "treat      object\n",
       "offtrt     object\n",
       "trt        object\n",
       "dtype: object"
      ]
     },
     "execution_count": 23,
     "metadata": {},
     "output_type": "execute_result"
    }
   ],
   "source": [
    "# Check data type after convert data type\n",
    "df[['hemo','homo','drugs','oprior','z30','race','gender','str2','strat','symptom','treat','offtrt','trt']].dtypes"
   ]
  },
  {
   "cell_type": "markdown",
   "metadata": {},
   "source": [
    "## 3.4 Overview column numerical"
   ]
  },
  {
   "cell_type": "code",
   "execution_count": 24,
   "metadata": {},
   "outputs": [
    {
     "data": {
      "text/html": [
       "<div>\n",
       "<style scoped>\n",
       "    .dataframe tbody tr th:only-of-type {\n",
       "        vertical-align: middle;\n",
       "    }\n",
       "\n",
       "    .dataframe tbody tr th {\n",
       "        vertical-align: top;\n",
       "    }\n",
       "\n",
       "    .dataframe thead th {\n",
       "        text-align: right;\n",
       "    }\n",
       "</style>\n",
       "<table border=\"1\" class=\"dataframe\">\n",
       "  <thead>\n",
       "    <tr style=\"text-align: right;\">\n",
       "      <th></th>\n",
       "      <th>time</th>\n",
       "      <th>age</th>\n",
       "      <th>wtkg</th>\n",
       "      <th>karnof</th>\n",
       "      <th>preanti</th>\n",
       "      <th>cd40</th>\n",
       "      <th>cd420</th>\n",
       "      <th>cd80</th>\n",
       "      <th>cd820</th>\n",
       "      <th>infected</th>\n",
       "    </tr>\n",
       "  </thead>\n",
       "  <tbody>\n",
       "    <tr>\n",
       "      <th>count</th>\n",
       "      <td>50000.000000</td>\n",
       "      <td>50000.000000</td>\n",
       "      <td>50000.000000</td>\n",
       "      <td>50000.000000</td>\n",
       "      <td>50000.000000</td>\n",
       "      <td>50000.000000</td>\n",
       "      <td>50000.000000</td>\n",
       "      <td>50000.000000</td>\n",
       "      <td>50000.000000</td>\n",
       "      <td>50000.000000</td>\n",
       "    </tr>\n",
       "    <tr>\n",
       "      <th>mean</th>\n",
       "      <td>877.369780</td>\n",
       "      <td>34.164020</td>\n",
       "      <td>75.861991</td>\n",
       "      <td>96.831560</td>\n",
       "      <td>318.159560</td>\n",
       "      <td>319.079540</td>\n",
       "      <td>438.090100</td>\n",
       "      <td>1045.936440</td>\n",
       "      <td>905.938440</td>\n",
       "      <td>0.310120</td>\n",
       "    </tr>\n",
       "    <tr>\n",
       "      <th>std</th>\n",
       "      <td>307.288688</td>\n",
       "      <td>7.091152</td>\n",
       "      <td>12.028730</td>\n",
       "      <td>5.091788</td>\n",
       "      <td>402.932765</td>\n",
       "      <td>102.525976</td>\n",
       "      <td>144.806831</td>\n",
       "      <td>488.617434</td>\n",
       "      <td>339.707976</td>\n",
       "      <td>0.462547</td>\n",
       "    </tr>\n",
       "    <tr>\n",
       "      <th>min</th>\n",
       "      <td>66.000000</td>\n",
       "      <td>12.000000</td>\n",
       "      <td>42.361620</td>\n",
       "      <td>76.000000</td>\n",
       "      <td>0.000000</td>\n",
       "      <td>0.000000</td>\n",
       "      <td>81.000000</td>\n",
       "      <td>96.000000</td>\n",
       "      <td>173.000000</td>\n",
       "      <td>0.000000</td>\n",
       "    </tr>\n",
       "    <tr>\n",
       "      <th>25%</th>\n",
       "      <td>542.000000</td>\n",
       "      <td>29.000000</td>\n",
       "      <td>68.253682</td>\n",
       "      <td>90.000000</td>\n",
       "      <td>0.000000</td>\n",
       "      <td>236.000000</td>\n",
       "      <td>327.000000</td>\n",
       "      <td>713.000000</td>\n",
       "      <td>649.000000</td>\n",
       "      <td>0.000000</td>\n",
       "    </tr>\n",
       "    <tr>\n",
       "      <th>50%</th>\n",
       "      <td>1045.000000</td>\n",
       "      <td>34.000000</td>\n",
       "      <td>74.054115</td>\n",
       "      <td>100.000000</td>\n",
       "      <td>123.000000</td>\n",
       "      <td>299.000000</td>\n",
       "      <td>415.000000</td>\n",
       "      <td>885.000000</td>\n",
       "      <td>858.000000</td>\n",
       "      <td>0.000000</td>\n",
       "    </tr>\n",
       "    <tr>\n",
       "      <th>75%</th>\n",
       "      <td>1136.000000</td>\n",
       "      <td>39.000000</td>\n",
       "      <td>81.142185</td>\n",
       "      <td>100.000000</td>\n",
       "      <td>503.000000</td>\n",
       "      <td>396.000000</td>\n",
       "      <td>531.000000</td>\n",
       "      <td>1245.000000</td>\n",
       "      <td>1084.000000</td>\n",
       "      <td>1.000000</td>\n",
       "    </tr>\n",
       "    <tr>\n",
       "      <th>max</th>\n",
       "      <td>1231.000000</td>\n",
       "      <td>68.000000</td>\n",
       "      <td>149.830870</td>\n",
       "      <td>100.000000</td>\n",
       "      <td>2828.000000</td>\n",
       "      <td>930.000000</td>\n",
       "      <td>1119.000000</td>\n",
       "      <td>4656.000000</td>\n",
       "      <td>3538.000000</td>\n",
       "      <td>1.000000</td>\n",
       "    </tr>\n",
       "  </tbody>\n",
       "</table>\n",
       "</div>"
      ],
      "text/plain": [
       "               time           age          wtkg        karnof       preanti  \\\n",
       "count  50000.000000  50000.000000  50000.000000  50000.000000  50000.000000   \n",
       "mean     877.369780     34.164020     75.861991     96.831560    318.159560   \n",
       "std      307.288688      7.091152     12.028730      5.091788    402.932765   \n",
       "min       66.000000     12.000000     42.361620     76.000000      0.000000   \n",
       "25%      542.000000     29.000000     68.253682     90.000000      0.000000   \n",
       "50%     1045.000000     34.000000     74.054115    100.000000    123.000000   \n",
       "75%     1136.000000     39.000000     81.142185    100.000000    503.000000   \n",
       "max     1231.000000     68.000000    149.830870    100.000000   2828.000000   \n",
       "\n",
       "               cd40         cd420          cd80         cd820      infected  \n",
       "count  50000.000000  50000.000000  50000.000000  50000.000000  50000.000000  \n",
       "mean     319.079540    438.090100   1045.936440    905.938440      0.310120  \n",
       "std      102.525976    144.806831    488.617434    339.707976      0.462547  \n",
       "min        0.000000     81.000000     96.000000    173.000000      0.000000  \n",
       "25%      236.000000    327.000000    713.000000    649.000000      0.000000  \n",
       "50%      299.000000    415.000000    885.000000    858.000000      0.000000  \n",
       "75%      396.000000    531.000000   1245.000000   1084.000000      1.000000  \n",
       "max      930.000000   1119.000000   4656.000000   3538.000000      1.000000  "
      ]
     },
     "execution_count": 24,
     "metadata": {},
     "output_type": "execute_result"
    }
   ],
   "source": [
    "# Check summarize statistic column numeric\n",
    "df.describe()"
   ]
  },
  {
   "cell_type": "markdown",
   "metadata": {},
   "source": [
    "## 3.5 Handling duplicate data "
   ]
  },
  {
   "cell_type": "code",
   "execution_count": 25,
   "metadata": {},
   "outputs": [
    {
     "data": {
      "text/plain": [
       "0"
      ]
     },
     "execution_count": 25,
     "metadata": {},
     "output_type": "execute_result"
    }
   ],
   "source": [
    "# Check data duplicate in dataframe\n",
    "df.duplicated().sum()"
   ]
  },
  {
   "cell_type": "markdown",
   "metadata": {},
   "source": [
    "From code above we can know that my dataset dont have duplicate data"
   ]
  },
  {
   "cell_type": "markdown",
   "metadata": {},
   "source": [
    "## 3.6 Check missing data value"
   ]
  },
  {
   "cell_type": "code",
   "execution_count": 26,
   "metadata": {},
   "outputs": [
    {
     "data": {
      "text/plain": [
       "0"
      ]
     },
     "execution_count": 26,
     "metadata": {},
     "output_type": "execute_result"
    }
   ],
   "source": [
    "# Check missing data value in my dataset\n",
    "df.isnull().sum().sum()"
   ]
  },
  {
   "cell_type": "markdown",
   "metadata": {},
   "source": [
    "From code above i can know that my dataset dont have missing data value"
   ]
  },
  {
   "cell_type": "markdown",
   "metadata": {},
   "source": [
    "# 4. Exploratory Data Analysis (EDA)"
   ]
  },
  {
   "cell_type": "code",
   "execution_count": 27,
   "metadata": {},
   "outputs": [],
   "source": [
    "# savepoint data loading before doing EDA\n",
    "df_eda = pd.DataFrame(df)"
   ]
  },
  {
   "cell_type": "markdown",
   "metadata": {},
   "source": [
    "## 4.1 Comparison people Not Infected and Infected By AIDS"
   ]
  },
  {
   "cell_type": "code",
   "execution_count": 28,
   "metadata": {},
   "outputs": [
    {
     "data": {
      "image/png": "[encoded data removed]",
      "text/plain": [
       "<Figure size 640x480 with 1 Axes>"
      ]
     },
     "metadata": {},
     "output_type": "display_data"
    }
   ],
   "source": [
    "# This cell is used to make pie chart to compare people who infected and not infected by aids\n",
    "data = df_eda.groupby(['infected']).size()\n",
    "\n",
    "x = [\"Not Infected\", \"Infected\"]\n",
    "y = data.values\n",
    "\n",
    "plt.pie(y,labels=x,autopct='%1.0f%%')\n",
    "plt.title(\"Comparison people Not Infected and Infected By AIDS\")\n",
    "plt.show()"
   ]
  },
  {
   "cell_type": "markdown",
   "metadata": {},
   "source": [
    "From Graph above we can know that in my dataset people dominant not infected by AIDS. It is indicate that people already aware about danger AIDS and try to take therapy to prevent it before it's too late."
   ]
  },
  {
   "cell_type": "markdown",
   "metadata": {},
   "source": [
    "## 4.2 Distribution data people infected and not infected based on age"
   ]
  },
  {
   "cell_type": "code",
   "execution_count": 29,
   "metadata": {},
   "outputs": [
    {
     "data": {
      "image/png": "[encoded data removed]",
      "text/plain": [
       "<Figure size 640x480 with 1 Axes>"
      ]
     },
     "metadata": {},
     "output_type": "display_data"
    }
   ],
   "source": [
    "# This cell code is used to create histogram for visualize distribution data people infected and not infected based on age\n",
    "data_0 = df_eda[df_eda['infected'] == 0]['age']\n",
    "data_1 = df_eda[df_eda['infected'] == 1]['age']\n",
    "\n",
    "plt.title(\"Distribution data people infected and not infected based on age\")\n",
    "plt.hist(data_0)\n",
    "plt.hist(data_1)\n",
    "plt.show()"
   ]
  },
  {
   "cell_type": "markdown",
   "metadata": {},
   "source": [
    "From Graph above we can know distribution data people infected and not infected based on age has same pattern and dominant in range age 25 - 45. From this data, we can know people got infected AIDS or HIV when people is already teenager or adult. Goverment can make campaign for danger and anticipate HIV and AIDS around that age so the campaign can be more effective than target campaign to child or elder."
   ]
  },
  {
   "cell_type": "markdown",
   "metadata": {},
   "source": [
    "## 4.3 Percentage Homosexual and Heterosexual who have HIV"
   ]
  },
  {
   "cell_type": "code",
   "execution_count": 30,
   "metadata": {},
   "outputs": [
    {
     "data": {
      "image/png": "[encoded data removed]",
      "text/plain": [
       "<Figure size 640x480 with 1 Axes>"
      ]
     },
     "metadata": {},
     "output_type": "display_data"
    }
   ],
   "source": [
    "# This cell code is used to show pie chart percentage Homosexual and Heterosexual\n",
    "data = df_eda.groupby('homo').size()\n",
    "label = ['Heterosexual','Homosexual']\n",
    "values = data.values\n",
    "\n",
    "plt.pie(values,labels=label,autopct=\"%.2f\")\n",
    "plt.title(\"Percentage Homosexual and Heterosexual who have HIV\")\n",
    "plt.show()"
   ]
  },
  {
   "cell_type": "markdown",
   "metadata": {},
   "source": [
    "From Graph above we can know that people total people who is homosexual that has HIV is more than Heterosexual. From my assumption this can be happened because they dont have to worry because somoene dont have to be preagnant. So with this data , i hope we can give this information to people who has homosexual activity that it has another bad impact beside that."
   ]
  },
  {
   "cell_type": "markdown",
   "metadata": {},
   "source": [
    "## 4.4 Distribution data people infected and not infected based on cd40"
   ]
  },
  {
   "cell_type": "code",
   "execution_count": 31,
   "metadata": {},
   "outputs": [
    {
     "data": {
      "image/png": "[encoded data removed]",
      "text/plain": [
       "<Figure size 640x480 with 1 Axes>"
      ]
     },
     "metadata": {},
     "output_type": "display_data"
    }
   ],
   "source": [
    "# This cell code is used to create histogram for visualize distribution data people infected and not infected based on age\n",
    "data_0 = df_eda[df_eda['infected'] == 0]['cd40']\n",
    "data_1 = df_eda[df_eda['infected'] == 1]['cd40']\n",
    "\n",
    "plt.title(\"Distribution data people infected and not infected based on cd40\")\n",
    "plt.hist(data_0)\n",
    "plt.hist(data_1)\n",
    "plt.show()"
   ]
  },
  {
   "cell_type": "markdown",
   "metadata": {},
   "source": [
    "Cd40 is used as important metrix to determine people immunity who has HIV. Based graph above, we can know that people who has AIDS has the most CD40 arount 180 - 300. This can be warning area for every who has HIV to be more careful if has CD40 almost at that point. "
   ]
  },
  {
   "cell_type": "markdown",
   "metadata": {},
   "source": [
    "## 4.5 Distribution Data patient who has aids based on their treatment type"
   ]
  },
  {
   "cell_type": "code",
   "execution_count": 32,
   "metadata": {},
   "outputs": [
    {
     "data": {
      "image/png": "[encoded data removed]",
      "text/plain": [
       "<Figure size 640x480 with 1 Axes>"
      ]
     },
     "metadata": {},
     "output_type": "display_data"
    }
   ],
   "source": [
    "# This cell is used to create bar horizontal for distribution data who has AIDS based on treatment type\n",
    "data = df_eda[df_eda['infected'] == 1].groupby('trt').size()\n",
    "labels = ['ZDV only','ZDV + ddl','ZDV + Zal','ddl only']\n",
    "values = data.values\n",
    "\n",
    "plt.barh(labels,values)\n",
    "plt.title(\"Distribution Data patient who has aids based on their treatment type\")\n",
    "plt.show()"
   ]
  },
  {
   "cell_type": "markdown",
   "metadata": {},
   "source": [
    "Based on graph above we can know the most people who has AIDS is only take ZDV treatment and ZDV + ddl is the lowest. I can assume that goverment can remove treatment for only ZDV only and increase treatment for ZDV + ddl for increase number suvivor"
   ]
  },
  {
   "cell_type": "markdown",
   "metadata": {},
   "source": [
    "## 4.6 Percentage Race White and Non-White"
   ]
  },
  {
   "cell_type": "code",
   "execution_count": 33,
   "metadata": {},
   "outputs": [
    {
     "data": {
      "image/png": "[encoded data removed]",
      "text/plain": [
       "<Figure size 640x480 with 1 Axes>"
      ]
     },
     "metadata": {},
     "output_type": "display_data"
    }
   ],
   "source": [
    "# This cell code is used to show pie chart percentage Race white and non-white\n",
    "data = df_eda.groupby('race').size()\n",
    "label = ['White','Non-White']\n",
    "values = data.values\n",
    "\n",
    "plt.pie(values,labels=label,autopct=\"%.2f\")\n",
    "plt.title(\"Percentage Race White and Non-White\")\n",
    "plt.show()"
   ]
  },
  {
   "cell_type": "markdown",
   "metadata": {},
   "source": [
    "From Graph above we can know that total people with race white who has HIV is more than non-white. This can be happening by many factor, based on race white beahviour, tradition, believes, habit, etc. So my suggestion is to create film or another socialize method to more race white people aware about HIV and how to prevent it. "
   ]
  },
  {
   "cell_type": "markdown",
   "metadata": {},
   "source": [
    "## 4.7 Distribution data people infected and not infected based on cd80"
   ]
  },
  {
   "cell_type": "code",
   "execution_count": 34,
   "metadata": {},
   "outputs": [
    {
     "data": {
      "image/png": "[encoded data removed]",
      "text/plain": [
       "<Figure size 640x480 with 1 Axes>"
      ]
     },
     "metadata": {},
     "output_type": "display_data"
    }
   ],
   "source": [
    "# This cell code is used to create histogram for visualize distribution data people infected and not infected based on age\n",
    "data_0 = df_eda[df_eda['infected'] == 0]['cd80']\n",
    "data_1 = df_eda[df_eda['infected'] == 1]['cd80']\n",
    "\n",
    "plt.title(\"Distribution data people infected and not infected based on cd80\")\n",
    "plt.hist(data_0)\n",
    "plt.hist(data_1)\n",
    "plt.show()"
   ]
  },
  {
   "cell_type": "markdown",
   "metadata": {},
   "source": [
    "CD80 is a transmembrane protein that functions as a co-stimulatory molecule in antigen-presenting cells, such as dendritic cells, macrophages, and B cells. Based graph above, we can know that people who has AIDS has the most CD80 arount 800 - 1200. This can be warning area for every who has HIV to be more careful if has CD80 almost at that point. "
   ]
  },
  {
   "cell_type": "markdown",
   "metadata": {},
   "source": [
    "# 5. Feature Engineering"
   ]
  },
  {
   "cell_type": "code",
   "execution_count": 35,
   "metadata": {},
   "outputs": [],
   "source": [
    "# Save point data loading before do feature engineering\n",
    "df_fe = pd.DataFrame(df)"
   ]
  },
  {
   "cell_type": "markdown",
   "metadata": {},
   "source": [
    "## 5.1 Split Data Train and Data Test"
   ]
  },
  {
   "cell_type": "code",
   "execution_count": 36,
   "metadata": {},
   "outputs": [
    {
     "name": "stdout",
     "output_type": "stream",
     "text": [
      "X_train shape =  (40000, 22)\n",
      "X_test shape =  (10000, 22)\n"
     ]
    }
   ],
   "source": [
    "# Filter X for just features and y is label for classification\n",
    "X = df_fe.drop(columns=['infected'])\n",
    "y = df_fe[['infected']]\n",
    "\n",
    "# Split data train and data test \n",
    "X_train, X_test, y_train, y_test = train_test_split(X,y,test_size=0.2,random_state=3)\n",
    "print(\"X_train shape = \",X_train.shape)\n",
    "print(\"X_test shape = \",X_test.shape)"
   ]
  },
  {
   "cell_type": "markdown",
   "metadata": {},
   "source": [
    "## 5.2 Handling Missing Value in Data Train"
   ]
  },
  {
   "cell_type": "code",
   "execution_count": 37,
   "metadata": {},
   "outputs": [
    {
     "data": {
      "text/plain": [
       "0"
      ]
     },
     "execution_count": 37,
     "metadata": {},
     "output_type": "execute_result"
    }
   ],
   "source": [
    "# Check missing value in X_train\n",
    "X_train.isnull().sum().sum()"
   ]
  },
  {
   "cell_type": "code",
   "execution_count": 38,
   "metadata": {},
   "outputs": [
    {
     "data": {
      "text/plain": [
       "infected    0\n",
       "dtype: int64"
      ]
     },
     "execution_count": 38,
     "metadata": {},
     "output_type": "execute_result"
    }
   ],
   "source": [
    "# check missing value in y_train\n",
    "y_train.isnull().sum()"
   ]
  },
  {
   "cell_type": "markdown",
   "metadata": {},
   "source": [
    "From code above we can know that in my X_train and y_train dont have missing data value"
   ]
  },
  {
   "cell_type": "markdown",
   "metadata": {},
   "source": [
    "## 5.3 Handling Outlier"
   ]
  },
  {
   "cell_type": "code",
   "execution_count": 39,
   "metadata": {},
   "outputs": [
    {
     "data": {
      "text/plain": [
       "{'time': -0.6124048154260049,\n",
       " 'age': 0.20425479178229017,\n",
       " 'wtkg': 1.1935174066286411,\n",
       " 'karnof': -1.2477634172605605,\n",
       " 'preanti': 1.2312295767213504,\n",
       " 'cd40': 0.6350598428783585,\n",
       " 'cd420': 0.7002469101129888,\n",
       " 'cd80': 1.643393661922864,\n",
       " 'cd820': 1.1723707662859797}"
      ]
     },
     "execution_count": 39,
     "metadata": {},
     "output_type": "execute_result"
    }
   ],
   "source": [
    "# Check Skew Outlier for column numeric\n",
    "X_train_numeric =  X_train.select_dtypes(exclude=object)\n",
    "X_train_numeric_column = X_train_numeric.columns.values\n",
    "dict_column_skew_before = {}\n",
    "for column_name in X_train_numeric_column:\n",
    "    dict_column_skew_before[column_name] = X_train_numeric[column_name].skew()\n",
    "dict_column_skew_before"
   ]
  },
  {
   "cell_type": "code",
   "execution_count": 40,
   "metadata": {},
   "outputs": [],
   "source": [
    "def handling_outlier_per_column(column_name,dataframe):\n",
    "    '''\n",
    "    This function is used to handling outlier in dataframe in specific column_name \n",
    "\n",
    "    Parameter  Description \n",
    "    ==========================\n",
    "    column_name = name column in dataframe \n",
    "    dataframe = dataframe in pandas\n",
    "\n",
    "    Example Usage \n",
    "    ==========================\n",
    "    handling_outlier_per_column(column_name,dataframe)\n",
    "    \n",
    "    Output : Dataframe with after capping outlier\n",
    "\n",
    "    '''\n",
    "    skew = dataframe[column_name].skew()\n",
    "    # Handling outlier if distrubiton data normal\n",
    "    if skew <= 0.5 and skew >= -0.5 :\n",
    "        \n",
    "        mean = dataframe[column_name].mean()\n",
    "        std = dataframe[column_name].std()\n",
    "\n",
    "        lower_bound = mean - 3*std \n",
    "        upper_bound = mean + 3*std\n",
    "        outlier = dataframe[(dataframe[column_name] < lower_bound) | (dataframe[column_name] > upper_bound)]\n",
    "        if len(outlier) > 0:\n",
    "            dataframe[column_name] = dataframe[column_name].clip(lower=lower_bound,upper=upper_bound)\n",
    "    # Handling outlier if distribution data skew\n",
    "    elif (skew > 0.5 and skew <=1) or (skew < -0.5 and skew >= -1) :\n",
    "        q1 = dataframe[column_name].quantile(0.25)\n",
    "        q3 = dataframe[column_name].quantile(0.75)\n",
    "        iqr = q3 - q1\n",
    "        \n",
    "        lower_bound = q1 - 1.5*iqr\n",
    "        upper_bound = q3 + 1.5*iqr\n",
    "        outlier = dataframe[(dataframe[column_name] < lower_bound) | (dataframe[column_name] > upper_bound)]\n",
    "        if len(outlier) > 0:\n",
    "            dataframe[column_name] = dataframe[column_name].clip(lower=lower_bound,upper=upper_bound)\n",
    "    # Handling outlier if distribution data ekstreme skew \n",
    "    else: \n",
    "        q1 = dataframe[column_name].quantile(0.25)\n",
    "        q3 = dataframe[column_name].quantile(0.75)\n",
    "        iqr = q3 - q1\n",
    "        \n",
    "        lower_bound = q1 - 3*iqr\n",
    "        upper_bound = q3 + 3*iqr\n",
    "        outlier = dataframe[(dataframe[column_name] < lower_bound) | (dataframe[column_name] > upper_bound)]\n",
    "        if len(outlier) > 0:\n",
    "            dataframe[column_name] = dataframe[column_name].clip(lower=lower_bound,upper=upper_bound)\n",
    "    return dataframe\n"
   ]
  },
  {
   "cell_type": "code",
   "execution_count": 41,
   "metadata": {},
   "outputs": [],
   "source": [
    "def handling_outlier_dataframe(dataframe):\n",
    "    '''\n",
    "    This function is used to handling outlier dataframe for every column \n",
    "    \n",
    "    Parameter Description \n",
    "    ====================== \n",
    "    dataframe = dataframe in pandas \n",
    "\n",
    "    Example usage \n",
    "    ==================\n",
    "    handling_outlier_dataframe(X_train) \n",
    "    \n",
    "    Output : dataframe after handling outlier\n",
    "    '''\n",
    "    list_column = dataframe.columns.to_list()\n",
    "    list_column_numeric = []\n",
    "    for column in list_column:\n",
    "        if dataframe[column].dtype == 'float64' or dataframe[column].dtype == 'int64':\n",
    "            list_column_numeric.append(column)\n",
    "\n",
    "    for column_name in list_column_numeric:\n",
    "        dataframe = handling_outlier_per_column(column_name,dataframe)\n",
    "\n",
    "    return dataframe"
   ]
  },
  {
   "cell_type": "code",
   "execution_count": 42,
   "metadata": {},
   "outputs": [],
   "source": [
    "# Called function to handling to handling outlier in X_train\n",
    "X_train = handling_outlier_dataframe(X_train)"
   ]
  },
  {
   "cell_type": "code",
   "execution_count": 43,
   "metadata": {},
   "outputs": [
    {
     "data": {
      "text/plain": [
       "{'time': -0.6124048154260049,\n",
       " 'age': 0.1405439642238668,\n",
       " 'wtkg': 1.0510980151244769,\n",
       " 'karnof': -1.2477634172605605,\n",
       " 'preanti': 1.2099008480315785,\n",
       " 'cd40': 0.5714965451295323,\n",
       " 'cd420': 0.5671753328891723,\n",
       " 'cd80': 1.4981146629722446,\n",
       " 'cd820': 1.075397771385976}"
      ]
     },
     "execution_count": 43,
     "metadata": {},
     "output_type": "execute_result"
    }
   ],
   "source": [
    "# Check Skew Outlier in X_train\n",
    "X_train_numeric =  X_train.select_dtypes(exclude=object)\n",
    "X_train_numeric_column = X_train_numeric.columns.values\n",
    "dict_column_skew_before = {}\n",
    "for column_name in X_train_numeric_column:\n",
    "    dict_column_skew_before[column_name] = X_train_numeric[column_name].skew()\n",
    "dict_column_skew_before"
   ]
  },
  {
   "cell_type": "markdown",
   "metadata": {},
   "source": [
    "We can see skew before and after handling has decrased skew value"
   ]
  },
  {
   "cell_type": "markdown",
   "metadata": {},
   "source": [
    "## 5.4 Feature Selection"
   ]
  },
  {
   "cell_type": "code",
   "execution_count": 44,
   "metadata": {},
   "outputs": [],
   "source": [
    "# Add column y_train to X_train for check features correlation with label \n",
    "X_train = pd.concat([X_train,y_train],axis=1)"
   ]
  },
  {
   "cell_type": "code",
   "execution_count": 45,
   "metadata": {},
   "outputs": [
    {
     "name": "stdout",
     "output_type": "stream",
     "text": [
      "interval columns not set, guessing: ['time', 'age', 'wtkg', 'karnof', 'preanti', 'cd40', 'cd420', 'cd80', 'cd820', 'infected']\n"
     ]
    },
    {
     "data": {
      "text/plain": [
       "time        0.138363\n",
       "trt         0.101284\n",
       "age         0.064771\n",
       "wtkg        0.076280\n",
       "hemo        0.041492\n",
       "homo        0.000000\n",
       "drugs       0.043578\n",
       "karnof      0.025839\n",
       "oprior      0.074367\n",
       "z30         0.366300\n",
       "preanti     0.270372\n",
       "race        0.046744\n",
       "gender      0.027245\n",
       "str2        0.365497\n",
       "strat       0.156702\n",
       "symptom     0.041041\n",
       "treat       0.088741\n",
       "offtrt      0.040887\n",
       "cd40        0.198231\n",
       "cd420       0.254739\n",
       "cd80        0.034515\n",
       "cd820       0.041761\n",
       "infected    1.000000\n",
       "Name: infected, dtype: float64"
      ]
     },
     "execution_count": 45,
     "metadata": {},
     "output_type": "execute_result"
    }
   ],
   "source": [
    "# Check correlation between my features and label so i can assume my own threshold corr value for feature selection\n",
    "X_train.phik_matrix().loc['infected']"
   ]
  },
  {
   "cell_type": "markdown",
   "metadata": {},
   "source": [
    "Based on these list, i will my thershold corr value for feature selection with more than 0.06. "
   ]
  },
  {
   "cell_type": "code",
   "execution_count": 46,
   "metadata": {},
   "outputs": [],
   "source": [
    "def feature_selection(dataframe,label_name,threshold_correlation):\n",
    "    '''\n",
    "    This function is used to filter X_train when feature has correlation more than 0.12 or less than -0.12 \n",
    "    with label \n",
    "\n",
    "    parameter description\n",
    "    ========================\n",
    "    dataframe = dataframe that used to filter selection\n",
    "    label_name = name label that used to check it's correlation with feature \n",
    "    threshold_correlation =  value minimum correlation between feature and label \n",
    "\n",
    "    usage example \n",
    "    ========================\n",
    "    feature_selection(X_train,'default_payment_next_month')\n",
    "\n",
    "    This function will return dataframe that has already been feature selection based on correlation between \n",
    "    '''\n",
    "    for i in X_train:\n",
    "        corr_coef = dataframe.phik_matrix().loc[label_name].loc[i]\n",
    "        if -abs(threshold_correlation) < corr_coef < threshold_correlation:\n",
    "            dataframe = dataframe.drop(i, axis=1)\n",
    "        else:\n",
    "            pass\n",
    "    return dataframe"
   ]
  },
  {
   "cell_type": "code",
   "execution_count": 47,
   "metadata": {},
   "outputs": [
    {
     "name": "stdout",
     "output_type": "stream",
     "text": [
      "interval columns not set, guessing: ['time', 'age', 'wtkg', 'karnof', 'preanti', 'cd40', 'cd420', 'cd80', 'cd820', 'infected']\n",
      "interval columns not set, guessing: ['time', 'age', 'wtkg', 'karnof', 'preanti', 'cd40', 'cd420', 'cd80', 'cd820', 'infected']\n",
      "interval columns not set, guessing: ['time', 'age', 'wtkg', 'karnof', 'preanti', 'cd40', 'cd420', 'cd80', 'cd820', 'infected']\n",
      "interval columns not set, guessing: ['time', 'age', 'wtkg', 'karnof', 'preanti', 'cd40', 'cd420', 'cd80', 'cd820', 'infected']\n",
      "interval columns not set, guessing: ['time', 'age', 'wtkg', 'karnof', 'preanti', 'cd40', 'cd420', 'cd80', 'cd820', 'infected']\n",
      "interval columns not set, guessing: ['time', 'age', 'wtkg', 'karnof', 'preanti', 'cd40', 'cd420', 'cd80', 'cd820', 'infected']\n",
      "interval columns not set, guessing: ['time', 'age', 'wtkg', 'karnof', 'preanti', 'cd40', 'cd420', 'cd80', 'cd820', 'infected']\n",
      "interval columns not set, guessing: ['time', 'age', 'wtkg', 'karnof', 'preanti', 'cd40', 'cd420', 'cd80', 'cd820', 'infected']\n",
      "interval columns not set, guessing: ['time', 'age', 'wtkg', 'preanti', 'cd40', 'cd420', 'cd80', 'cd820', 'infected']\n",
      "interval columns not set, guessing: ['time', 'age', 'wtkg', 'preanti', 'cd40', 'cd420', 'cd80', 'cd820', 'infected']\n",
      "interval columns not set, guessing: ['time', 'age', 'wtkg', 'preanti', 'cd40', 'cd420', 'cd80', 'cd820', 'infected']\n",
      "interval columns not set, guessing: ['time', 'age', 'wtkg', 'preanti', 'cd40', 'cd420', 'cd80', 'cd820', 'infected']\n",
      "interval columns not set, guessing: ['time', 'age', 'wtkg', 'preanti', 'cd40', 'cd420', 'cd80', 'cd820', 'infected']\n",
      "interval columns not set, guessing: ['time', 'age', 'wtkg', 'preanti', 'cd40', 'cd420', 'cd80', 'cd820', 'infected']\n",
      "interval columns not set, guessing: ['time', 'age', 'wtkg', 'preanti', 'cd40', 'cd420', 'cd80', 'cd820', 'infected']\n",
      "interval columns not set, guessing: ['time', 'age', 'wtkg', 'preanti', 'cd40', 'cd420', 'cd80', 'cd820', 'infected']\n",
      "interval columns not set, guessing: ['time', 'age', 'wtkg', 'preanti', 'cd40', 'cd420', 'cd80', 'cd820', 'infected']\n",
      "interval columns not set, guessing: ['time', 'age', 'wtkg', 'preanti', 'cd40', 'cd420', 'cd80', 'cd820', 'infected']\n",
      "interval columns not set, guessing: ['time', 'age', 'wtkg', 'preanti', 'cd40', 'cd420', 'cd80', 'cd820', 'infected']\n",
      "interval columns not set, guessing: ['time', 'age', 'wtkg', 'preanti', 'cd40', 'cd420', 'cd80', 'cd820', 'infected']\n",
      "interval columns not set, guessing: ['time', 'age', 'wtkg', 'preanti', 'cd40', 'cd420', 'cd80', 'cd820', 'infected']\n",
      "interval columns not set, guessing: ['time', 'age', 'wtkg', 'preanti', 'cd40', 'cd420', 'cd820', 'infected']\n",
      "interval columns not set, guessing: ['time', 'age', 'wtkg', 'preanti', 'cd40', 'cd420', 'infected']\n"
     ]
    }
   ],
   "source": [
    "# called function feature_selection to feature selection in X_train\n",
    "X_train = feature_selection(X_train,'infected',0.06)"
   ]
  },
  {
   "cell_type": "code",
   "execution_count": 48,
   "metadata": {},
   "outputs": [],
   "source": [
    "# drop column default_payment_next_month in X_train\n",
    "X_train = X_train.drop(columns=['infected'],axis=1)"
   ]
  },
  {
   "cell_type": "code",
   "execution_count": 49,
   "metadata": {},
   "outputs": [],
   "source": [
    "# filter column X_test same like X_train\n",
    "X_test = X_test[X_train.columns.values]"
   ]
  },
  {
   "cell_type": "code",
   "execution_count": 50,
   "metadata": {},
   "outputs": [
    {
     "name": "stdout",
     "output_type": "stream",
     "text": [
      "X_train shape =  (40000, 12)\n",
      "X_train columns =  Index(['time', 'trt', 'age', 'wtkg', 'oprior', 'z30', 'preanti', 'str2',\n",
      "       'strat', 'treat', 'cd40', 'cd420'],\n",
      "      dtype='object')\n",
      "X_train total columns =  12\n"
     ]
    }
   ],
   "source": [
    "print(\"X_train shape = \",X_train.shape)\n",
    "print(\"X_train columns = \",X_train.columns)\n",
    "print(\"X_train total columns = \",len(X_train.columns))"
   ]
  },
  {
   "cell_type": "code",
   "execution_count": 51,
   "metadata": {},
   "outputs": [
    {
     "name": "stdout",
     "output_type": "stream",
     "text": [
      "X_test shape =  (10000, 12)\n",
      "X_test columns =  Index(['time', 'trt', 'age', 'wtkg', 'oprior', 'z30', 'preanti', 'str2',\n",
      "       'strat', 'treat', 'cd40', 'cd420'],\n",
      "      dtype='object')\n",
      "X_test columns =  12\n"
     ]
    }
   ],
   "source": [
    "print(\"X_test shape = \",X_test.shape)\n",
    "print(\"X_test columns = \",X_test.columns)\n",
    "print(\"X_test columns = \",len(X_test.columns))"
   ]
  },
  {
   "cell_type": "markdown",
   "metadata": {},
   "source": [
    "After process feature selection , i have reduced feature that i will used for model train from 24 to 12 with threshold corr value more than 0.6."
   ]
  },
  {
   "cell_type": "markdown",
   "metadata": {},
   "source": [
    "## 5.5 Check multicolinearity"
   ]
  },
  {
   "cell_type": "code",
   "execution_count": 52,
   "metadata": {},
   "outputs": [
    {
     "data": {
      "text/plain": [
       "time         int64\n",
       "trt         object\n",
       "age        float64\n",
       "wtkg       float64\n",
       "oprior      object\n",
       "z30         object\n",
       "preanti      int64\n",
       "str2        object\n",
       "strat       object\n",
       "treat       object\n",
       "cd40         int64\n",
       "cd420        int64\n",
       "dtype: object"
      ]
     },
     "execution_count": 52,
     "metadata": {},
     "output_type": "execute_result"
    }
   ],
   "source": [
    "# check data type in my features\n",
    "X_train.dtypes"
   ]
  },
  {
   "cell_type": "markdown",
   "metadata": {},
   "source": [
    "Because my features are not all numeric, so i will check my feature multicolinearity  by check their correlation and point of view business."
   ]
  },
  {
   "cell_type": "code",
   "execution_count": 53,
   "metadata": {},
   "outputs": [
    {
     "name": "stdout",
     "output_type": "stream",
     "text": [
      "interval columns not set, guessing: ['time', 'age', 'wtkg', 'preanti', 'cd40', 'cd420']\n"
     ]
    },
    {
     "data": {
      "text/html": [
       "<div>\n",
       "<style scoped>\n",
       "    .dataframe tbody tr th:only-of-type {\n",
       "        vertical-align: middle;\n",
       "    }\n",
       "\n",
       "    .dataframe tbody tr th {\n",
       "        vertical-align: top;\n",
       "    }\n",
       "\n",
       "    .dataframe thead th {\n",
       "        text-align: right;\n",
       "    }\n",
       "</style>\n",
       "<table border=\"1\" class=\"dataframe\">\n",
       "  <thead>\n",
       "    <tr style=\"text-align: right;\">\n",
       "      <th></th>\n",
       "      <th>time</th>\n",
       "      <th>trt</th>\n",
       "      <th>age</th>\n",
       "      <th>wtkg</th>\n",
       "      <th>oprior</th>\n",
       "      <th>z30</th>\n",
       "      <th>preanti</th>\n",
       "      <th>str2</th>\n",
       "      <th>strat</th>\n",
       "      <th>treat</th>\n",
       "      <th>cd40</th>\n",
       "      <th>cd420</th>\n",
       "    </tr>\n",
       "  </thead>\n",
       "  <tbody>\n",
       "    <tr>\n",
       "      <th>time</th>\n",
       "      <td>1.000000</td>\n",
       "      <td>0.063553</td>\n",
       "      <td>0.012197</td>\n",
       "      <td>0.039315</td>\n",
       "      <td>0.019921</td>\n",
       "      <td>0.126844</td>\n",
       "      <td>0.115617</td>\n",
       "      <td>0.145513</td>\n",
       "      <td>0.148848</td>\n",
       "      <td>0.105658</td>\n",
       "      <td>0.055473</td>\n",
       "      <td>0.116115</td>\n",
       "    </tr>\n",
       "    <tr>\n",
       "      <th>trt</th>\n",
       "      <td>0.063553</td>\n",
       "      <td>1.000000</td>\n",
       "      <td>0.046051</td>\n",
       "      <td>0.029172</td>\n",
       "      <td>0.000000</td>\n",
       "      <td>0.056600</td>\n",
       "      <td>0.036000</td>\n",
       "      <td>0.052704</td>\n",
       "      <td>0.032198</td>\n",
       "      <td>0.398197</td>\n",
       "      <td>0.020968</td>\n",
       "      <td>0.063110</td>\n",
       "    </tr>\n",
       "    <tr>\n",
       "      <th>age</th>\n",
       "      <td>0.012197</td>\n",
       "      <td>0.046051</td>\n",
       "      <td>1.000000</td>\n",
       "      <td>0.037361</td>\n",
       "      <td>0.012915</td>\n",
       "      <td>0.167580</td>\n",
       "      <td>0.113221</td>\n",
       "      <td>0.169061</td>\n",
       "      <td>0.151792</td>\n",
       "      <td>0.054326</td>\n",
       "      <td>0.059212</td>\n",
       "      <td>0.084224</td>\n",
       "    </tr>\n",
       "    <tr>\n",
       "      <th>wtkg</th>\n",
       "      <td>0.039315</td>\n",
       "      <td>0.029172</td>\n",
       "      <td>0.037361</td>\n",
       "      <td>1.000000</td>\n",
       "      <td>0.000000</td>\n",
       "      <td>0.137462</td>\n",
       "      <td>0.084173</td>\n",
       "      <td>0.136359</td>\n",
       "      <td>0.114909</td>\n",
       "      <td>0.007138</td>\n",
       "      <td>0.059279</td>\n",
       "      <td>0.073408</td>\n",
       "    </tr>\n",
       "    <tr>\n",
       "      <th>oprior</th>\n",
       "      <td>0.019921</td>\n",
       "      <td>0.000000</td>\n",
       "      <td>0.012915</td>\n",
       "      <td>0.000000</td>\n",
       "      <td>1.000000</td>\n",
       "      <td>0.091661</td>\n",
       "      <td>0.080709</td>\n",
       "      <td>0.103821</td>\n",
       "      <td>0.043584</td>\n",
       "      <td>0.005697</td>\n",
       "      <td>0.053139</td>\n",
       "      <td>0.054859</td>\n",
       "    </tr>\n",
       "    <tr>\n",
       "      <th>z30</th>\n",
       "      <td>0.126844</td>\n",
       "      <td>0.056600</td>\n",
       "      <td>0.167580</td>\n",
       "      <td>0.137462</td>\n",
       "      <td>0.091661</td>\n",
       "      <td>1.000000</td>\n",
       "      <td>0.634426</td>\n",
       "      <td>0.814540</td>\n",
       "      <td>0.379060</td>\n",
       "      <td>0.010427</td>\n",
       "      <td>0.286469</td>\n",
       "      <td>0.374233</td>\n",
       "    </tr>\n",
       "    <tr>\n",
       "      <th>preanti</th>\n",
       "      <td>0.115617</td>\n",
       "      <td>0.036000</td>\n",
       "      <td>0.113221</td>\n",
       "      <td>0.084173</td>\n",
       "      <td>0.080709</td>\n",
       "      <td>0.634426</td>\n",
       "      <td>1.000000</td>\n",
       "      <td>0.683849</td>\n",
       "      <td>0.550671</td>\n",
       "      <td>0.029498</td>\n",
       "      <td>0.229179</td>\n",
       "      <td>0.292164</td>\n",
       "    </tr>\n",
       "    <tr>\n",
       "      <th>str2</th>\n",
       "      <td>0.145513</td>\n",
       "      <td>0.052704</td>\n",
       "      <td>0.169061</td>\n",
       "      <td>0.136359</td>\n",
       "      <td>0.103821</td>\n",
       "      <td>0.814540</td>\n",
       "      <td>0.683849</td>\n",
       "      <td>1.000000</td>\n",
       "      <td>0.407805</td>\n",
       "      <td>0.034703</td>\n",
       "      <td>0.312935</td>\n",
       "      <td>0.403323</td>\n",
       "    </tr>\n",
       "    <tr>\n",
       "      <th>strat</th>\n",
       "      <td>0.148848</td>\n",
       "      <td>0.032198</td>\n",
       "      <td>0.151792</td>\n",
       "      <td>0.114909</td>\n",
       "      <td>0.043584</td>\n",
       "      <td>0.379060</td>\n",
       "      <td>0.550671</td>\n",
       "      <td>0.407805</td>\n",
       "      <td>1.000000</td>\n",
       "      <td>0.009475</td>\n",
       "      <td>0.287678</td>\n",
       "      <td>0.361846</td>\n",
       "    </tr>\n",
       "    <tr>\n",
       "      <th>treat</th>\n",
       "      <td>0.105658</td>\n",
       "      <td>0.398197</td>\n",
       "      <td>0.054326</td>\n",
       "      <td>0.007138</td>\n",
       "      <td>0.005697</td>\n",
       "      <td>0.010427</td>\n",
       "      <td>0.029498</td>\n",
       "      <td>0.034703</td>\n",
       "      <td>0.009475</td>\n",
       "      <td>1.000000</td>\n",
       "      <td>0.033549</td>\n",
       "      <td>0.063898</td>\n",
       "    </tr>\n",
       "    <tr>\n",
       "      <th>cd40</th>\n",
       "      <td>0.055473</td>\n",
       "      <td>0.020968</td>\n",
       "      <td>0.059212</td>\n",
       "      <td>0.059279</td>\n",
       "      <td>0.053139</td>\n",
       "      <td>0.286469</td>\n",
       "      <td>0.229179</td>\n",
       "      <td>0.312935</td>\n",
       "      <td>0.287678</td>\n",
       "      <td>0.033549</td>\n",
       "      <td>1.000000</td>\n",
       "      <td>0.184549</td>\n",
       "    </tr>\n",
       "    <tr>\n",
       "      <th>cd420</th>\n",
       "      <td>0.116115</td>\n",
       "      <td>0.063110</td>\n",
       "      <td>0.084224</td>\n",
       "      <td>0.073408</td>\n",
       "      <td>0.054859</td>\n",
       "      <td>0.374233</td>\n",
       "      <td>0.292164</td>\n",
       "      <td>0.403323</td>\n",
       "      <td>0.361846</td>\n",
       "      <td>0.063898</td>\n",
       "      <td>0.184549</td>\n",
       "      <td>1.000000</td>\n",
       "    </tr>\n",
       "  </tbody>\n",
       "</table>\n",
       "</div>"
      ],
      "text/plain": [
       "             time       trt       age      wtkg    oprior       z30   preanti  \\\n",
       "time     1.000000  0.063553  0.012197  0.039315  0.019921  0.126844  0.115617   \n",
       "trt      0.063553  1.000000  0.046051  0.029172  0.000000  0.056600  0.036000   \n",
       "age      0.012197  0.046051  1.000000  0.037361  0.012915  0.167580  0.113221   \n",
       "wtkg     0.039315  0.029172  0.037361  1.000000  0.000000  0.137462  0.084173   \n",
       "oprior   0.019921  0.000000  0.012915  0.000000  1.000000  0.091661  0.080709   \n",
       "z30      0.126844  0.056600  0.167580  0.137462  0.091661  1.000000  0.634426   \n",
       "preanti  0.115617  0.036000  0.113221  0.084173  0.080709  0.634426  1.000000   \n",
       "str2     0.145513  0.052704  0.169061  0.136359  0.103821  0.814540  0.683849   \n",
       "strat    0.148848  0.032198  0.151792  0.114909  0.043584  0.379060  0.550671   \n",
       "treat    0.105658  0.398197  0.054326  0.007138  0.005697  0.010427  0.029498   \n",
       "cd40     0.055473  0.020968  0.059212  0.059279  0.053139  0.286469  0.229179   \n",
       "cd420    0.116115  0.063110  0.084224  0.073408  0.054859  0.374233  0.292164   \n",
       "\n",
       "             str2     strat     treat      cd40     cd420  \n",
       "time     0.145513  0.148848  0.105658  0.055473  0.116115  \n",
       "trt      0.052704  0.032198  0.398197  0.020968  0.063110  \n",
       "age      0.169061  0.151792  0.054326  0.059212  0.084224  \n",
       "wtkg     0.136359  0.114909  0.007138  0.059279  0.073408  \n",
       "oprior   0.103821  0.043584  0.005697  0.053139  0.054859  \n",
       "z30      0.814540  0.379060  0.010427  0.286469  0.374233  \n",
       "preanti  0.683849  0.550671  0.029498  0.229179  0.292164  \n",
       "str2     1.000000  0.407805  0.034703  0.312935  0.403323  \n",
       "strat    0.407805  1.000000  0.009475  0.287678  0.361846  \n",
       "treat    0.034703  0.009475  1.000000  0.033549  0.063898  \n",
       "cd40     0.312935  0.287678  0.033549  1.000000  0.184549  \n",
       "cd420    0.403323  0.361846  0.063898  0.184549  1.000000  "
      ]
     },
     "execution_count": 53,
     "metadata": {},
     "output_type": "execute_result"
    }
   ],
   "source": [
    "# Check correlation between features in X_train\n",
    "X_train.phik_matrix()"
   ]
  },
  {
   "cell_type": "markdown",
   "metadata": {},
   "source": [
    "Based on my threshold feature corr value that multicollinearity is above 0.5 , then i got these feature that in type multicolinearity :\n",
    "- z30 -> preanti = 0.63\n",
    "- z30 -> str2 = 0.8 \n",
    "- preanti -> str2 = 0.68\n",
    "\n",
    "Based on point of view business str2 can replace z30 and preanti because str2 provide indicator if patient has history to do all type treatment, different with z30 that just indicate therapy for type ZDV and preanti is total day therapy. because of that reason i will delete z30 and preanti to prevent my data from multicollinearity"
   ]
  },
  {
   "cell_type": "code",
   "execution_count": 54,
   "metadata": {},
   "outputs": [],
   "source": [
    "# Drop colomn z30 and preanti in X_train\n",
    "X_train = X_train.drop(columns=['z30','preanti'],axis=1)"
   ]
  },
  {
   "cell_type": "code",
   "execution_count": 55,
   "metadata": {},
   "outputs": [],
   "source": [
    "# filter column X_test same like X_train\n",
    "X_test = X_test[X_train.columns.values]"
   ]
  },
  {
   "cell_type": "code",
   "execution_count": 56,
   "metadata": {},
   "outputs": [
    {
     "name": "stdout",
     "output_type": "stream",
     "text": [
      "interval columns not set, guessing: ['time', 'age', 'wtkg', 'cd40', 'cd420']\n"
     ]
    },
    {
     "data": {
      "text/html": [
       "<div>\n",
       "<style scoped>\n",
       "    .dataframe tbody tr th:only-of-type {\n",
       "        vertical-align: middle;\n",
       "    }\n",
       "\n",
       "    .dataframe tbody tr th {\n",
       "        vertical-align: top;\n",
       "    }\n",
       "\n",
       "    .dataframe thead th {\n",
       "        text-align: right;\n",
       "    }\n",
       "</style>\n",
       "<table border=\"1\" class=\"dataframe\">\n",
       "  <thead>\n",
       "    <tr style=\"text-align: right;\">\n",
       "      <th></th>\n",
       "      <th>time</th>\n",
       "      <th>trt</th>\n",
       "      <th>age</th>\n",
       "      <th>wtkg</th>\n",
       "      <th>oprior</th>\n",
       "      <th>str2</th>\n",
       "      <th>strat</th>\n",
       "      <th>treat</th>\n",
       "      <th>cd40</th>\n",
       "      <th>cd420</th>\n",
       "    </tr>\n",
       "  </thead>\n",
       "  <tbody>\n",
       "    <tr>\n",
       "      <th>time</th>\n",
       "      <td>1.000000</td>\n",
       "      <td>0.063553</td>\n",
       "      <td>0.012197</td>\n",
       "      <td>0.039315</td>\n",
       "      <td>0.019921</td>\n",
       "      <td>0.145513</td>\n",
       "      <td>0.148848</td>\n",
       "      <td>0.105658</td>\n",
       "      <td>0.055473</td>\n",
       "      <td>0.116115</td>\n",
       "    </tr>\n",
       "    <tr>\n",
       "      <th>trt</th>\n",
       "      <td>0.063553</td>\n",
       "      <td>1.000000</td>\n",
       "      <td>0.046051</td>\n",
       "      <td>0.029172</td>\n",
       "      <td>0.000000</td>\n",
       "      <td>0.052704</td>\n",
       "      <td>0.032198</td>\n",
       "      <td>0.398197</td>\n",
       "      <td>0.020968</td>\n",
       "      <td>0.063110</td>\n",
       "    </tr>\n",
       "    <tr>\n",
       "      <th>age</th>\n",
       "      <td>0.012197</td>\n",
       "      <td>0.046051</td>\n",
       "      <td>1.000000</td>\n",
       "      <td>0.037361</td>\n",
       "      <td>0.012915</td>\n",
       "      <td>0.169061</td>\n",
       "      <td>0.151792</td>\n",
       "      <td>0.054326</td>\n",
       "      <td>0.059212</td>\n",
       "      <td>0.084224</td>\n",
       "    </tr>\n",
       "    <tr>\n",
       "      <th>wtkg</th>\n",
       "      <td>0.039315</td>\n",
       "      <td>0.029172</td>\n",
       "      <td>0.037361</td>\n",
       "      <td>1.000000</td>\n",
       "      <td>0.000000</td>\n",
       "      <td>0.136359</td>\n",
       "      <td>0.114909</td>\n",
       "      <td>0.007138</td>\n",
       "      <td>0.059279</td>\n",
       "      <td>0.073408</td>\n",
       "    </tr>\n",
       "    <tr>\n",
       "      <th>oprior</th>\n",
       "      <td>0.019921</td>\n",
       "      <td>0.000000</td>\n",
       "      <td>0.012915</td>\n",
       "      <td>0.000000</td>\n",
       "      <td>1.000000</td>\n",
       "      <td>0.103821</td>\n",
       "      <td>0.043584</td>\n",
       "      <td>0.005697</td>\n",
       "      <td>0.053139</td>\n",
       "      <td>0.054859</td>\n",
       "    </tr>\n",
       "    <tr>\n",
       "      <th>str2</th>\n",
       "      <td>0.145513</td>\n",
       "      <td>0.052704</td>\n",
       "      <td>0.169061</td>\n",
       "      <td>0.136359</td>\n",
       "      <td>0.103821</td>\n",
       "      <td>1.000000</td>\n",
       "      <td>0.407805</td>\n",
       "      <td>0.034703</td>\n",
       "      <td>0.312935</td>\n",
       "      <td>0.403323</td>\n",
       "    </tr>\n",
       "    <tr>\n",
       "      <th>strat</th>\n",
       "      <td>0.148848</td>\n",
       "      <td>0.032198</td>\n",
       "      <td>0.151792</td>\n",
       "      <td>0.114909</td>\n",
       "      <td>0.043584</td>\n",
       "      <td>0.407805</td>\n",
       "      <td>1.000000</td>\n",
       "      <td>0.009475</td>\n",
       "      <td>0.287678</td>\n",
       "      <td>0.361846</td>\n",
       "    </tr>\n",
       "    <tr>\n",
       "      <th>treat</th>\n",
       "      <td>0.105658</td>\n",
       "      <td>0.398197</td>\n",
       "      <td>0.054326</td>\n",
       "      <td>0.007138</td>\n",
       "      <td>0.005697</td>\n",
       "      <td>0.034703</td>\n",
       "      <td>0.009475</td>\n",
       "      <td>1.000000</td>\n",
       "      <td>0.033549</td>\n",
       "      <td>0.063898</td>\n",
       "    </tr>\n",
       "    <tr>\n",
       "      <th>cd40</th>\n",
       "      <td>0.055473</td>\n",
       "      <td>0.020968</td>\n",
       "      <td>0.059212</td>\n",
       "      <td>0.059279</td>\n",
       "      <td>0.053139</td>\n",
       "      <td>0.312935</td>\n",
       "      <td>0.287678</td>\n",
       "      <td>0.033549</td>\n",
       "      <td>1.000000</td>\n",
       "      <td>0.184549</td>\n",
       "    </tr>\n",
       "    <tr>\n",
       "      <th>cd420</th>\n",
       "      <td>0.116115</td>\n",
       "      <td>0.063110</td>\n",
       "      <td>0.084224</td>\n",
       "      <td>0.073408</td>\n",
       "      <td>0.054859</td>\n",
       "      <td>0.403323</td>\n",
       "      <td>0.361846</td>\n",
       "      <td>0.063898</td>\n",
       "      <td>0.184549</td>\n",
       "      <td>1.000000</td>\n",
       "    </tr>\n",
       "  </tbody>\n",
       "</table>\n",
       "</div>"
      ],
      "text/plain": [
       "            time       trt       age      wtkg    oprior      str2     strat  \\\n",
       "time    1.000000  0.063553  0.012197  0.039315  0.019921  0.145513  0.148848   \n",
       "trt     0.063553  1.000000  0.046051  0.029172  0.000000  0.052704  0.032198   \n",
       "age     0.012197  0.046051  1.000000  0.037361  0.012915  0.169061  0.151792   \n",
       "wtkg    0.039315  0.029172  0.037361  1.000000  0.000000  0.136359  0.114909   \n",
       "oprior  0.019921  0.000000  0.012915  0.000000  1.000000  0.103821  0.043584   \n",
       "str2    0.145513  0.052704  0.169061  0.136359  0.103821  1.000000  0.407805   \n",
       "strat   0.148848  0.032198  0.151792  0.114909  0.043584  0.407805  1.000000   \n",
       "treat   0.105658  0.398197  0.054326  0.007138  0.005697  0.034703  0.009475   \n",
       "cd40    0.055473  0.020968  0.059212  0.059279  0.053139  0.312935  0.287678   \n",
       "cd420   0.116115  0.063110  0.084224  0.073408  0.054859  0.403323  0.361846   \n",
       "\n",
       "           treat      cd40     cd420  \n",
       "time    0.105658  0.055473  0.116115  \n",
       "trt     0.398197  0.020968  0.063110  \n",
       "age     0.054326  0.059212  0.084224  \n",
       "wtkg    0.007138  0.059279  0.073408  \n",
       "oprior  0.005697  0.053139  0.054859  \n",
       "str2    0.034703  0.312935  0.403323  \n",
       "strat   0.009475  0.287678  0.361846  \n",
       "treat   1.000000  0.033549  0.063898  \n",
       "cd40    0.033549  1.000000  0.184549  \n",
       "cd420   0.063898  0.184549  1.000000  "
      ]
     },
     "execution_count": 56,
     "metadata": {},
     "output_type": "execute_result"
    }
   ],
   "source": [
    "# Check correlation between features in X_train\n",
    "X_train.phik_matrix()"
   ]
  },
  {
   "cell_type": "markdown",
   "metadata": {},
   "source": [
    "From code above i can sure that my X_train don't have multicollinearity anymore"
   ]
  },
  {
   "cell_type": "markdown",
   "metadata": {},
   "source": [
    "## 5.6 Check Cardinality"
   ]
  },
  {
   "cell_type": "code",
   "execution_count": 57,
   "metadata": {},
   "outputs": [],
   "source": [
    "def check_cardinality_dataframe(dataframe,threshold_total_unique):\n",
    "    '''\n",
    "    This function is used for check high cardinality in dataframe \n",
    "\n",
    "    parameter description \n",
    "    ==========================\n",
    "    dataframe = dataframe that will used to check it's column cardinality \n",
    "    threshold_total_unique = minimal threshold total unique that will be used selection high cardinality\n",
    "\n",
    "    usage example \n",
    "    =========================\n",
    "    check_cardinality_dataframe(X_train,10)\n",
    "\n",
    "    This function will return list column name that has high cardinality\n",
    "    '''\n",
    "    list_column_high_cardinality = []\n",
    "    list_column_name = dataframe.select_dtypes(include=object).columns.values\n",
    "    for column_name in list_column_name:\n",
    "        total_unique_value = dataframe[column_name].nunique()\n",
    "        if total_unique_value > threshold_total_unique:\n",
    "            total_high_cardinality += 1\n",
    "            list_column_high_cardinality.append(column_name)\n",
    "    return list_column_high_cardinality\n"
   ]
  },
  {
   "cell_type": "code",
   "execution_count": 58,
   "metadata": {},
   "outputs": [
    {
     "data": {
      "text/plain": [
       "[]"
      ]
     },
     "execution_count": 58,
     "metadata": {},
     "output_type": "execute_result"
    }
   ],
   "source": [
    "# This function is used to check \n",
    "list_column_high_cardinality = check_cardinality_dataframe(X_train,10)\n",
    "list_column_high_cardinality"
   ]
  },
  {
   "cell_type": "markdown",
   "metadata": {},
   "source": [
    "From here we can know that X_train doesnt have high cardinality"
   ]
  },
  {
   "cell_type": "markdown",
   "metadata": {},
   "source": [
    "## 5.7 Data Balancing"
   ]
  },
  {
   "cell_type": "code",
   "execution_count": 59,
   "metadata": {},
   "outputs": [
    {
     "data": {
      "image/png": "[encoded data removed]",
      "text/plain": [
       "<Figure size 640x480 with 1 Axes>"
      ]
     },
     "metadata": {},
     "output_type": "display_data"
    }
   ],
   "source": [
    "# Visualize my label data distributin to check data balancing\n",
    "data = y_train.groupby(['infected']).size()\n",
    "labels = ['Not Infected ', 'Infected']\n",
    "values = data.values\n",
    "\n",
    "plt.bar(labels,values)\n",
    "plt.title(\"Total Distribution Data Label\")\n",
    "plt.show()"
   ]
  },
  {
   "cell_type": "markdown",
   "metadata": {},
   "source": [
    "In Graph above i know that my label distribution data is really not balanced, my class not infected has size double from class infected. Because of that i must solve this problem with data balancing using SMOTE. Before doing SMOTE, i must encode and scaler my features in X_train first."
   ]
  },
  {
   "cell_type": "code",
   "execution_count": 60,
   "metadata": {},
   "outputs": [
    {
     "name": "stdout",
     "output_type": "stream",
     "text": [
      "column numeric =  ['time' 'age' 'wtkg' 'cd40' 'cd420']\n",
      "column categorial =  ['trt' 'oprior' 'str2' 'strat' 'treat']\n"
     ]
    }
   ],
   "source": [
    "# split column name based on categorial and numeric \n",
    "num_col = X_train.select_dtypes(include=np.number).columns.values\n",
    "cat_col = X_train.select_dtypes(include='object').columns.values\n",
    "print(\"column numeric = \",num_col)\n",
    "print(\"column categorial = \",cat_col)"
   ]
  },
  {
   "cell_type": "code",
   "execution_count": 61,
   "metadata": {},
   "outputs": [],
   "source": [
    "cat_col_nominal = ['trt','oprior','str2','treat']\n",
    "# cat_col_nominal = ['trt','oprior','str2','drugs','race','offtrt']\n",
    "cat_col_ordinal = ['strat']\n"
   ]
  },
  {
   "cell_type": "code",
   "execution_count": 62,
   "metadata": {},
   "outputs": [],
   "source": [
    "# Reshape from 1 dimension to 2 dimension\n",
    "X_train_cat_nominal = X_train[cat_col_nominal]\n",
    "X_test_cat_nominal = X_test[cat_col_nominal]\n",
    "\n",
    "# Initialize and fit the encoder\n",
    "encoderNominal = OneHotEncoder()\n",
    "list_column_encoder_name = encoderNominal.fit(X_train_cat_nominal).get_feature_names_out()\n",
    "\n",
    "# Transform the data name \n",
    "X_train_cat_nominal_encoded = encoderNominal.transform(X_train_cat_nominal).toarray()\n",
    "X_test_cat_nominal_encoded = encoderNominal.transform(X_test_cat_nominal).toarray()"
   ]
  },
  {
   "cell_type": "code",
   "execution_count": 63,
   "metadata": {},
   "outputs": [],
   "source": [
    "# This cell is used to encode column categorial ordinal\n",
    "X_train_cat_ordinal = X_train[cat_col_ordinal]\n",
    "X_test_cat_ordinal = X_test[cat_col_ordinal]\n",
    "\n",
    "encoderOrdinal = OrdinalEncoder()\n",
    "encoderOrdinal.fit(X_train_cat_ordinal)\n",
    "\n",
    "X_train_cat_ordinal_encoded = encoderOrdinal.transform(X_train_cat_ordinal)\n",
    "X_test_cat_ordinal_encoded = encoderOrdinal.transform(X_test_cat_ordinal)"
   ]
  },
  {
   "cell_type": "code",
   "execution_count": 64,
   "metadata": {},
   "outputs": [
    {
     "data": {
      "text/plain": [
       "time    -0.612405\n",
       "age      0.140544\n",
       "wtkg     1.051098\n",
       "cd40     0.571497\n",
       "cd420    0.567175\n",
       "dtype: float64"
      ]
     },
     "execution_count": 64,
     "metadata": {},
     "output_type": "execute_result"
    }
   ],
   "source": [
    "# Check skewness in feature numeric\n",
    "X_train[num_col].skew()"
   ]
  },
  {
   "cell_type": "markdown",
   "metadata": {},
   "source": [
    "Because all my feature numeric dont have normal distribution data so i will use MinMaxScaler to transform my feature numeric."
   ]
  },
  {
   "cell_type": "code",
   "execution_count": 65,
   "metadata": {},
   "outputs": [],
   "source": [
    "# This cell is used to transform feature numeric using MinMaxScaler\n",
    "X_train_num = X_train[num_col]\n",
    "X_test_num = X_test[num_col]\n",
    "\n",
    "scaler = MinMaxScaler()\n",
    "X_train_num_encoded = scaler.fit_transform(X_train_num)\n",
    "X_test_num_encoded = scaler.fit_transform(X_test_num)"
   ]
  },
  {
   "cell_type": "code",
   "execution_count": 66,
   "metadata": {},
   "outputs": [],
   "source": [
    "# Concat feature categorial that already encoded and feature numeric that already transform in data test and data train\n",
    "X_train_encoded =  np.concatenate([X_train_num_encoded,X_train_cat_nominal_encoded,X_train_cat_ordinal_encoded],axis=1)\n",
    "X_test_encoded =  np.concatenate([X_test_num_encoded,X_test_cat_nominal_encoded,X_test_cat_ordinal_encoded],axis=1)"
   ]
  },
  {
   "cell_type": "code",
   "execution_count": 67,
   "metadata": {},
   "outputs": [],
   "source": [
    "# Data balancing using SMOTE\n",
    "smote = SMOTE(sampling_strategy='minority', k_neighbors=5, random_state=42)     \n",
    "X_train_balanced, y_train_balanced = smote.fit_resample(X_train_encoded, y_train)"
   ]
  },
  {
   "cell_type": "markdown",
   "metadata": {},
   "source": [
    "# 6. Model Definition"
   ]
  },
  {
   "cell_type": "markdown",
   "metadata": {},
   "source": [
    "## 6.1 Cross Validation"
   ]
  },
  {
   "cell_type": "code",
   "execution_count": 68,
   "metadata": {},
   "outputs": [
    {
     "name": "stderr",
     "output_type": "stream",
     "text": [
      "/opt/anaconda3/lib/python3.11/site-packages/sklearn/base.py:1473: DataConversionWarning: A column-vector y was passed when a 1d array was expected. Please change the shape of y to (n_samples,), for example using ravel().\n",
      "  return fit_method(estimator, *args, **kwargs)\n",
      "/opt/anaconda3/lib/python3.11/site-packages/sklearn/base.py:1473: DataConversionWarning: A column-vector y was passed when a 1d array was expected. Please change the shape of y to (n_samples,), for example using ravel().\n",
      "  return fit_method(estimator, *args, **kwargs)\n",
      "/opt/anaconda3/lib/python3.11/site-packages/sklearn/base.py:1473: DataConversionWarning: A column-vector y was passed when a 1d array was expected. Please change the shape of y to (n_samples,), for example using ravel().\n",
      "  return fit_method(estimator, *args, **kwargs)\n",
      "/opt/anaconda3/lib/python3.11/site-packages/sklearn/base.py:1473: DataConversionWarning: A column-vector y was passed when a 1d array was expected. Please change the shape of y to (n_samples,), for example using ravel().\n",
      "  return fit_method(estimator, *args, **kwargs)\n",
      "/opt/anaconda3/lib/python3.11/site-packages/sklearn/base.py:1473: DataConversionWarning: A column-vector y was passed when a 1d array was expected. Please change the shape of y to (n_samples,), for example using ravel().\n",
      "  return fit_method(estimator, *args, **kwargs)\n",
      "/opt/anaconda3/lib/python3.11/site-packages/sklearn/neighbors/_classification.py:238: DataConversionWarning: A column-vector y was passed when a 1d array was expected. Please change the shape of y to (n_samples,), for example using ravel().\n",
      "  return self._fit(X, y)\n",
      "/opt/anaconda3/lib/python3.11/site-packages/sklearn/neighbors/_classification.py:238: DataConversionWarning: A column-vector y was passed when a 1d array was expected. Please change the shape of y to (n_samples,), for example using ravel().\n",
      "  return self._fit(X, y)\n",
      "/opt/anaconda3/lib/python3.11/site-packages/sklearn/neighbors/_classification.py:238: DataConversionWarning: A column-vector y was passed when a 1d array was expected. Please change the shape of y to (n_samples,), for example using ravel().\n",
      "  return self._fit(X, y)\n",
      "/opt/anaconda3/lib/python3.11/site-packages/sklearn/neighbors/_classification.py:238: DataConversionWarning: A column-vector y was passed when a 1d array was expected. Please change the shape of y to (n_samples,), for example using ravel().\n",
      "  return self._fit(X, y)\n",
      "/opt/anaconda3/lib/python3.11/site-packages/sklearn/neighbors/_classification.py:238: DataConversionWarning: A column-vector y was passed when a 1d array was expected. Please change the shape of y to (n_samples,), for example using ravel().\n",
      "  return self._fit(X, y)\n",
      "/opt/anaconda3/lib/python3.11/site-packages/sklearn/utils/validation.py:1310: DataConversionWarning: A column-vector y was passed when a 1d array was expected. Please change the shape of y to (n_samples, ), for example using ravel().\n",
      "  y = column_or_1d(y, warn=True)\n",
      "/opt/anaconda3/lib/python3.11/site-packages/sklearn/utils/validation.py:1310: DataConversionWarning: A column-vector y was passed when a 1d array was expected. Please change the shape of y to (n_samples, ), for example using ravel().\n",
      "  y = column_or_1d(y, warn=True)\n",
      "/opt/anaconda3/lib/python3.11/site-packages/sklearn/utils/validation.py:1310: DataConversionWarning: A column-vector y was passed when a 1d array was expected. Please change the shape of y to (n_samples, ), for example using ravel().\n",
      "  y = column_or_1d(y, warn=True)\n",
      "/opt/anaconda3/lib/python3.11/site-packages/sklearn/utils/validation.py:1310: DataConversionWarning: A column-vector y was passed when a 1d array was expected. Please change the shape of y to (n_samples, ), for example using ravel().\n",
      "  y = column_or_1d(y, warn=True)\n",
      "/opt/anaconda3/lib/python3.11/site-packages/sklearn/utils/validation.py:1310: DataConversionWarning: A column-vector y was passed when a 1d array was expected. Please change the shape of y to (n_samples, ), for example using ravel().\n",
      "  y = column_or_1d(y, warn=True)\n",
      "/opt/anaconda3/lib/python3.11/site-packages/sklearn/utils/validation.py:1310: DataConversionWarning: A column-vector y was passed when a 1d array was expected. Please change the shape of y to (n_samples, ), for example using ravel().\n",
      "  y = column_or_1d(y, warn=True)\n",
      "/opt/anaconda3/lib/python3.11/site-packages/sklearn/ensemble/_weight_boosting.py:527: FutureWarning: The SAMME.R algorithm (the default) is deprecated and will be removed in 1.6. Use the SAMME algorithm to circumvent this warning.\n",
      "  warnings.warn(\n",
      "/opt/anaconda3/lib/python3.11/site-packages/sklearn/utils/validation.py:1310: DataConversionWarning: A column-vector y was passed when a 1d array was expected. Please change the shape of y to (n_samples, ), for example using ravel().\n",
      "  y = column_or_1d(y, warn=True)\n",
      "/opt/anaconda3/lib/python3.11/site-packages/sklearn/ensemble/_weight_boosting.py:527: FutureWarning: The SAMME.R algorithm (the default) is deprecated and will be removed in 1.6. Use the SAMME algorithm to circumvent this warning.\n",
      "  warnings.warn(\n",
      "/opt/anaconda3/lib/python3.11/site-packages/sklearn/utils/validation.py:1310: DataConversionWarning: A column-vector y was passed when a 1d array was expected. Please change the shape of y to (n_samples, ), for example using ravel().\n",
      "  y = column_or_1d(y, warn=True)\n",
      "/opt/anaconda3/lib/python3.11/site-packages/sklearn/ensemble/_weight_boosting.py:527: FutureWarning: The SAMME.R algorithm (the default) is deprecated and will be removed in 1.6. Use the SAMME algorithm to circumvent this warning.\n",
      "  warnings.warn(\n",
      "/opt/anaconda3/lib/python3.11/site-packages/sklearn/utils/validation.py:1310: DataConversionWarning: A column-vector y was passed when a 1d array was expected. Please change the shape of y to (n_samples, ), for example using ravel().\n",
      "  y = column_or_1d(y, warn=True)\n",
      "/opt/anaconda3/lib/python3.11/site-packages/sklearn/ensemble/_weight_boosting.py:527: FutureWarning: The SAMME.R algorithm (the default) is deprecated and will be removed in 1.6. Use the SAMME algorithm to circumvent this warning.\n",
      "  warnings.warn(\n",
      "/opt/anaconda3/lib/python3.11/site-packages/sklearn/utils/validation.py:1310: DataConversionWarning: A column-vector y was passed when a 1d array was expected. Please change the shape of y to (n_samples, ), for example using ravel().\n",
      "  y = column_or_1d(y, warn=True)\n",
      "/opt/anaconda3/lib/python3.11/site-packages/sklearn/ensemble/_weight_boosting.py:527: FutureWarning: The SAMME.R algorithm (the default) is deprecated and will be removed in 1.6. Use the SAMME algorithm to circumvent this warning.\n",
      "  warnings.warn(\n"
     ]
    }
   ],
   "source": [
    "# Doing cross validation for every chosen algorithm modelling in X_train\n",
    "cv_rf = cross_val_score(RandomForestClassifier(), X_train_balanced, y_train_balanced, cv=5, scoring='recall', n_jobs=-1)\n",
    "cv_knn = cross_val_score(KNeighborsClassifier(), X_train_balanced, y_train_balanced, cv=5, scoring='recall', n_jobs=-1)\n",
    "cv_svc = cross_val_score(SVC(), X_train_balanced, y_train_balanced, cv=5, scoring='recall', n_jobs=-1)\n",
    "cv_dt = cross_val_score(DecisionTreeClassifier(), X_train_balanced, y_train_balanced, cv=5, scoring='recall', n_jobs=-1)\n",
    "cv_ada = cross_val_score(AdaBoostClassifier(), X_train_balanced, y_train_balanced, cv=5, scoring='recall', n_jobs=-1)"
   ]
  },
  {
   "cell_type": "code",
   "execution_count": 69,
   "metadata": {},
   "outputs": [
    {
     "name": "stdout",
     "output_type": "stream",
     "text": [
      "rf\n",
      "recall - All - Cross Validation : [0.71036862 0.70165244 0.82077356 0.87724714 0.87561286]\n",
      "recall - Mean - Cross Validation : 0.7971309242781913\n",
      "recall - Std - Cross Validation : 0.07717620566600888\n",
      "recall - Range - Cross Validation : 0.7199547186121824 - 0.8743071299442002\n",
      "--------------------------------------------------\n",
      "knn\n",
      "recall - All - Cross Validation : [0.7499546  0.74087525 0.82458689 0.87161794 0.86417287]\n",
      "recall - Mean - Cross Validation : 0.8102415108044309\n",
      "recall - Std - Cross Validation : 0.05536720519278708\n",
      "recall - Range - Cross Validation : 0.7548743056116438 - 0.8656087159972179\n",
      "--------------------------------------------------\n",
      "svc\n",
      "recall - All - Cross Validation : [0.72852733 0.72979844 0.74214636 0.72235337 0.73542764]\n",
      "recall - Mean - Cross Validation : 0.7316506264753949\n",
      "recall - Std - Cross Validation : 0.006694039341329617\n",
      "recall - Range - Cross Validation : 0.7249565871340653 - 0.7383446658167245\n",
      "--------------------------------------------------\n",
      "dt\n",
      "recall - All - Cross Validation : [0.57762847 0.57817323 0.70473942 0.74904667 0.73651716]\n",
      "recall - Mean - Cross Validation : 0.6692209914654076\n",
      "recall - Std - Cross Validation : 0.07594913488824767\n",
      "recall - Range - Cross Validation : 0.59327185657716 - 0.7451701263536552\n",
      "--------------------------------------------------\n",
      "ada\n",
      "recall - All - Cross Validation : [0.65752678 0.66587979 0.70455784 0.70800799 0.71545306]\n",
      "recall - Mean - Cross Validation : 0.6902850917014709\n",
      "recall - Std - Cross Validation : 0.0237485344736846\n",
      "recall - Range - Cross Validation : 0.6665365572277863 - 0.7140336261751555\n",
      "--------------------------------------------------\n",
      "Cross Validation mean from  : 0.8102415108044309\n",
      "Best Model : knn\n"
     ]
    }
   ],
   "source": [
    "# looping to find best model based on cross validation before\n",
    "name_model = []\n",
    "cv_score = 0\n",
    "for cv,name in zip([cv_rf, cv_knn, cv_svc,cv_dt,cv_ada],\n",
    "                   ['rf','knn','svc','dt','ada']):\n",
    "    print(name)\n",
    "    print(f'recall - All - Cross Validation : {cv}')\n",
    "    print(f'recall - Mean - Cross Validation : {cv.mean()}')\n",
    "    print(f'recall - Std - Cross Validation : {cv.std()}')\n",
    "    print(f'recall - Range - Cross Validation : {cv.mean()-cv.std()} - {cv.mean()+cv.std()}')\n",
    "    print('-'*50)\n",
    "    if cv.mean() > cv_score:\n",
    "        cv_score = cv.mean()\n",
    "        best_model = name\n",
    "    else:\n",
    "      pass\n",
    "print(f'Cross Validation mean from  : {cv_score}')\n",
    "print(f'Best Model : {best_model}')"
   ]
  },
  {
   "cell_type": "markdown",
   "metadata": {},
   "source": [
    "After cross validation , the best model for my dataset is RandomForest. But after i try using RandomForest as my model algorithm to train, predict, hyperparameter tuning, and evaluation it's recall score is overfit. Before HyperParameter tuning it has recall score 0.8 for data train and 0.6 for data test. And after hyper parameter tuning it has recall score 1 for data train and 0.6 for data test. <br>\n",
    "Because KNN is overfitting, so i choose SVC it is the best three model algorithm based on recall score mean and it is good fit based on it's std. And it's score is recall score is more than 0.7 which is not really bad performance and it still good fit."
   ]
  },
  {
   "cell_type": "code",
   "execution_count": 70,
   "metadata": {},
   "outputs": [
    {
     "name": "stderr",
     "output_type": "stream",
     "text": [
      "/opt/anaconda3/lib/python3.11/site-packages/sklearn/utils/validation.py:1310: DataConversionWarning: A column-vector y was passed when a 1d array was expected. Please change the shape of y to (n_samples, ), for example using ravel().\n",
      "  y = column_or_1d(y, warn=True)\n"
     ]
    },
    {
     "data": {
      "text/html": [
       "<style>#sk-container-id-1 {\n",
       "  /* Definition of color scheme common for light and dark mode */\n",
       "  --sklearn-color-text: black;\n",
       "  --sklearn-color-line: gray;\n",
       "  /* Definition of color scheme for unfitted estimators */\n",
       "  --sklearn-color-unfitted-level-0: #fff5e6;\n",
       "  --sklearn-color-unfitted-level-1: #f6e4d2;\n",
       "  --sklearn-color-unfitted-level-2: #ffe0b3;\n",
       "  --sklearn-color-unfitted-level-3: chocolate;\n",
       "  /* Definition of color scheme for fitted estimators */\n",
       "  --sklearn-color-fitted-level-0: #f0f8ff;\n",
       "  --sklearn-color-fitted-level-1: #d4ebff;\n",
       "  --sklearn-color-fitted-level-2: #b3dbfd;\n",
       "  --sklearn-color-fitted-level-3: cornflowerblue;\n",
       "\n",
       "  /* Specific color for light theme */\n",
       "  --sklearn-color-text-on-default-background: var(--sg-text-color, var(--theme-code-foreground, var(--jp-content-font-color1, black)));\n",
       "  --sklearn-color-background: var(--sg-background-color, var(--theme-background, var(--jp-layout-color0, white)));\n",
       "  --sklearn-color-border-box: var(--sg-text-color, var(--theme-code-foreground, var(--jp-content-font-color1, black)));\n",
       "  --sklearn-color-icon: #696969;\n",
       "\n",
       "  @media (prefers-color-scheme: dark) {\n",
       "    /* Redefinition of color scheme for dark theme */\n",
       "    --sklearn-color-text-on-default-background: var(--sg-text-color, var(--theme-code-foreground, var(--jp-content-font-color1, white)));\n",
       "    --sklearn-color-background: var(--sg-background-color, var(--theme-background, var(--jp-layout-color0, #111)));\n",
       "    --sklearn-color-border-box: var(--sg-text-color, var(--theme-code-foreground, var(--jp-content-font-color1, white)));\n",
       "    --sklearn-color-icon: #878787;\n",
       "  }\n",
       "}\n",
       "\n",
       "#sk-container-id-1 {\n",
       "  color: var(--sklearn-color-text);\n",
       "}\n",
       "\n",
       "#sk-container-id-1 pre {\n",
       "  padding: 0;\n",
       "}\n",
       "\n",
       "#sk-container-id-1 input.sk-hidden--visually {\n",
       "  border: 0;\n",
       "  clip: rect(1px 1px 1px 1px);\n",
       "  clip: rect(1px, 1px, 1px, 1px);\n",
       "  height: 1px;\n",
       "  margin: -1px;\n",
       "  overflow: hidden;\n",
       "  padding: 0;\n",
       "  position: absolute;\n",
       "  width: 1px;\n",
       "}\n",
       "\n",
       "#sk-container-id-1 div.sk-dashed-wrapped {\n",
       "  border: 1px dashed var(--sklearn-color-line);\n",
       "  margin: 0 0.4em 0.5em 0.4em;\n",
       "  box-sizing: border-box;\n",
       "  padding-bottom: 0.4em;\n",
       "  background-color: var(--sklearn-color-background);\n",
       "}\n",
       "\n",
       "#sk-container-id-1 div.sk-container {\n",
       "  /* jupyter's `normalize.less` sets `[hidden] { display: none; }`\n",
       "     but bootstrap.min.css set `[hidden] { display: none !important; }`\n",
       "     so we also need the `!important` here to be able to override the\n",
       "     default hidden behavior on the sphinx rendered scikit-learn.org.\n",
       "     See: https://github.com/scikit-learn/scikit-learn/issues/21755 */\n",
       "  display: inline-block !important;\n",
       "  position: relative;\n",
       "}\n",
       "\n",
       "#sk-container-id-1 div.sk-text-repr-fallback {\n",
       "  display: none;\n",
       "}\n",
       "\n",
       "div.sk-parallel-item,\n",
       "div.sk-serial,\n",
       "div.sk-item {\n",
       "  /* draw centered vertical line to link estimators */\n",
       "  background-image: linear-gradient(var(--sklearn-color-text-on-default-background), var(--sklearn-color-text-on-default-background));\n",
       "  background-size: 2px 100%;\n",
       "  background-repeat: no-repeat;\n",
       "  background-position: center center;\n",
       "}\n",
       "\n",
       "/* Parallel-specific style estimator block */\n",
       "\n",
       "#sk-container-id-1 div.sk-parallel-item::after {\n",
       "  content: \"\";\n",
       "  width: 100%;\n",
       "  border-bottom: 2px solid var(--sklearn-color-text-on-default-background);\n",
       "  flex-grow: 1;\n",
       "}\n",
       "\n",
       "#sk-container-id-1 div.sk-parallel {\n",
       "  display: flex;\n",
       "  align-items: stretch;\n",
       "  justify-content: center;\n",
       "  background-color: var(--sklearn-color-background);\n",
       "  position: relative;\n",
       "}\n",
       "\n",
       "#sk-container-id-1 div.sk-parallel-item {\n",
       "  display: flex;\n",
       "  flex-direction: column;\n",
       "}\n",
       "\n",
       "#sk-container-id-1 div.sk-parallel-item:first-child::after {\n",
       "  align-self: flex-end;\n",
       "  width: 50%;\n",
       "}\n",
       "\n",
       "#sk-container-id-1 div.sk-parallel-item:last-child::after {\n",
       "  align-self: flex-start;\n",
       "  width: 50%;\n",
       "}\n",
       "\n",
       "#sk-container-id-1 div.sk-parallel-item:only-child::after {\n",
       "  width: 0;\n",
       "}\n",
       "\n",
       "/* Serial-specific style estimator block */\n",
       "\n",
       "#sk-container-id-1 div.sk-serial {\n",
       "  display: flex;\n",
       "  flex-direction: column;\n",
       "  align-items: center;\n",
       "  background-color: var(--sklearn-color-background);\n",
       "  padding-right: 1em;\n",
       "  padding-left: 1em;\n",
       "}\n",
       "\n",
       "\n",
       "/* Toggleable style: style used for estimator/Pipeline/ColumnTransformer box that is\n",
       "clickable and can be expanded/collapsed.\n",
       "- Pipeline and ColumnTransformer use this feature and define the default style\n",
       "- Estimators will overwrite some part of the style using the `sk-estimator` class\n",
       "*/\n",
       "\n",
       "/* Pipeline and ColumnTransformer style (default) */\n",
       "\n",
       "#sk-container-id-1 div.sk-toggleable {\n",
       "  /* Default theme specific background. It is overwritten whether we have a\n",
       "  specific estimator or a Pipeline/ColumnTransformer */\n",
       "  background-color: var(--sklearn-color-background);\n",
       "}\n",
       "\n",
       "/* Toggleable label */\n",
       "#sk-container-id-1 label.sk-toggleable__label {\n",
       "  cursor: pointer;\n",
       "  display: block;\n",
       "  width: 100%;\n",
       "  margin-bottom: 0;\n",
       "  padding: 0.5em;\n",
       "  box-sizing: border-box;\n",
       "  text-align: center;\n",
       "}\n",
       "\n",
       "#sk-container-id-1 label.sk-toggleable__label-arrow:before {\n",
       "  /* Arrow on the left of the label */\n",
       "  content: \"▸\";\n",
       "  float: left;\n",
       "  margin-right: 0.25em;\n",
       "  color: var(--sklearn-color-icon);\n",
       "}\n",
       "\n",
       "#sk-container-id-1 label.sk-toggleable__label-arrow:hover:before {\n",
       "  color: var(--sklearn-color-text);\n",
       "}\n",
       "\n",
       "/* Toggleable content - dropdown */\n",
       "\n",
       "#sk-container-id-1 div.sk-toggleable__content {\n",
       "  max-height: 0;\n",
       "  max-width: 0;\n",
       "  overflow: hidden;\n",
       "  text-align: left;\n",
       "  /* unfitted */\n",
       "  background-color: var(--sklearn-color-unfitted-level-0);\n",
       "}\n",
       "\n",
       "#sk-container-id-1 div.sk-toggleable__content.fitted {\n",
       "  /* fitted */\n",
       "  background-color: var(--sklearn-color-fitted-level-0);\n",
       "}\n",
       "\n",
       "#sk-container-id-1 div.sk-toggleable__content pre {\n",
       "  margin: 0.2em;\n",
       "  border-radius: 0.25em;\n",
       "  color: var(--sklearn-color-text);\n",
       "  /* unfitted */\n",
       "  background-color: var(--sklearn-color-unfitted-level-0);\n",
       "}\n",
       "\n",
       "#sk-container-id-1 div.sk-toggleable__content.fitted pre {\n",
       "  /* unfitted */\n",
       "  background-color: var(--sklearn-color-fitted-level-0);\n",
       "}\n",
       "\n",
       "#sk-container-id-1 input.sk-toggleable__control:checked~div.sk-toggleable__content {\n",
       "  /* Expand drop-down */\n",
       "  max-height: 200px;\n",
       "  max-width: 100%;\n",
       "  overflow: auto;\n",
       "}\n",
       "\n",
       "#sk-container-id-1 input.sk-toggleable__control:checked~label.sk-toggleable__label-arrow:before {\n",
       "  content: \"▾\";\n",
       "}\n",
       "\n",
       "/* Pipeline/ColumnTransformer-specific style */\n",
       "\n",
       "#sk-container-id-1 div.sk-label input.sk-toggleable__control:checked~label.sk-toggleable__label {\n",
       "  color: var(--sklearn-color-text);\n",
       "  background-color: var(--sklearn-color-unfitted-level-2);\n",
       "}\n",
       "\n",
       "#sk-container-id-1 div.sk-label.fitted input.sk-toggleable__control:checked~label.sk-toggleable__label {\n",
       "  background-color: var(--sklearn-color-fitted-level-2);\n",
       "}\n",
       "\n",
       "/* Estimator-specific style */\n",
       "\n",
       "/* Colorize estimator box */\n",
       "#sk-container-id-1 div.sk-estimator input.sk-toggleable__control:checked~label.sk-toggleable__label {\n",
       "  /* unfitted */\n",
       "  background-color: var(--sklearn-color-unfitted-level-2);\n",
       "}\n",
       "\n",
       "#sk-container-id-1 div.sk-estimator.fitted input.sk-toggleable__control:checked~label.sk-toggleable__label {\n",
       "  /* fitted */\n",
       "  background-color: var(--sklearn-color-fitted-level-2);\n",
       "}\n",
       "\n",
       "#sk-container-id-1 div.sk-label label.sk-toggleable__label,\n",
       "#sk-container-id-1 div.sk-label label {\n",
       "  /* The background is the default theme color */\n",
       "  color: var(--sklearn-color-text-on-default-background);\n",
       "}\n",
       "\n",
       "/* On hover, darken the color of the background */\n",
       "#sk-container-id-1 div.sk-label:hover label.sk-toggleable__label {\n",
       "  color: var(--sklearn-color-text);\n",
       "  background-color: var(--sklearn-color-unfitted-level-2);\n",
       "}\n",
       "\n",
       "/* Label box, darken color on hover, fitted */\n",
       "#sk-container-id-1 div.sk-label.fitted:hover label.sk-toggleable__label.fitted {\n",
       "  color: var(--sklearn-color-text);\n",
       "  background-color: var(--sklearn-color-fitted-level-2);\n",
       "}\n",
       "\n",
       "/* Estimator label */\n",
       "\n",
       "#sk-container-id-1 div.sk-label label {\n",
       "  font-family: monospace;\n",
       "  font-weight: bold;\n",
       "  display: inline-block;\n",
       "  line-height: 1.2em;\n",
       "}\n",
       "\n",
       "#sk-container-id-1 div.sk-label-container {\n",
       "  text-align: center;\n",
       "}\n",
       "\n",
       "/* Estimator-specific */\n",
       "#sk-container-id-1 div.sk-estimator {\n",
       "  font-family: monospace;\n",
       "  border: 1px dotted var(--sklearn-color-border-box);\n",
       "  border-radius: 0.25em;\n",
       "  box-sizing: border-box;\n",
       "  margin-bottom: 0.5em;\n",
       "  /* unfitted */\n",
       "  background-color: var(--sklearn-color-unfitted-level-0);\n",
       "}\n",
       "\n",
       "#sk-container-id-1 div.sk-estimator.fitted {\n",
       "  /* fitted */\n",
       "  background-color: var(--sklearn-color-fitted-level-0);\n",
       "}\n",
       "\n",
       "/* on hover */\n",
       "#sk-container-id-1 div.sk-estimator:hover {\n",
       "  /* unfitted */\n",
       "  background-color: var(--sklearn-color-unfitted-level-2);\n",
       "}\n",
       "\n",
       "#sk-container-id-1 div.sk-estimator.fitted:hover {\n",
       "  /* fitted */\n",
       "  background-color: var(--sklearn-color-fitted-level-2);\n",
       "}\n",
       "\n",
       "/* Specification for estimator info (e.g. \"i\" and \"?\") */\n",
       "\n",
       "/* Common style for \"i\" and \"?\" */\n",
       "\n",
       ".sk-estimator-doc-link,\n",
       "a:link.sk-estimator-doc-link,\n",
       "a:visited.sk-estimator-doc-link {\n",
       "  float: right;\n",
       "  font-size: smaller;\n",
       "  line-height: 1em;\n",
       "  font-family: monospace;\n",
       "  background-color: var(--sklearn-color-background);\n",
       "  border-radius: 1em;\n",
       "  height: 1em;\n",
       "  width: 1em;\n",
       "  text-decoration: none !important;\n",
       "  margin-left: 1ex;\n",
       "  /* unfitted */\n",
       "  border: var(--sklearn-color-unfitted-level-1) 1pt solid;\n",
       "  color: var(--sklearn-color-unfitted-level-1);\n",
       "}\n",
       "\n",
       ".sk-estimator-doc-link.fitted,\n",
       "a:link.sk-estimator-doc-link.fitted,\n",
       "a:visited.sk-estimator-doc-link.fitted {\n",
       "  /* fitted */\n",
       "  border: var(--sklearn-color-fitted-level-1) 1pt solid;\n",
       "  color: var(--sklearn-color-fitted-level-1);\n",
       "}\n",
       "\n",
       "/* On hover */\n",
       "div.sk-estimator:hover .sk-estimator-doc-link:hover,\n",
       ".sk-estimator-doc-link:hover,\n",
       "div.sk-label-container:hover .sk-estimator-doc-link:hover,\n",
       ".sk-estimator-doc-link:hover {\n",
       "  /* unfitted */\n",
       "  background-color: var(--sklearn-color-unfitted-level-3);\n",
       "  color: var(--sklearn-color-background);\n",
       "  text-decoration: none;\n",
       "}\n",
       "\n",
       "div.sk-estimator.fitted:hover .sk-estimator-doc-link.fitted:hover,\n",
       ".sk-estimator-doc-link.fitted:hover,\n",
       "div.sk-label-container:hover .sk-estimator-doc-link.fitted:hover,\n",
       ".sk-estimator-doc-link.fitted:hover {\n",
       "  /* fitted */\n",
       "  background-color: var(--sklearn-color-fitted-level-3);\n",
       "  color: var(--sklearn-color-background);\n",
       "  text-decoration: none;\n",
       "}\n",
       "\n",
       "/* Span, style for the box shown on hovering the info icon */\n",
       ".sk-estimator-doc-link span {\n",
       "  display: none;\n",
       "  z-index: 9999;\n",
       "  position: relative;\n",
       "  font-weight: normal;\n",
       "  right: .2ex;\n",
       "  padding: .5ex;\n",
       "  margin: .5ex;\n",
       "  width: min-content;\n",
       "  min-width: 20ex;\n",
       "  max-width: 50ex;\n",
       "  color: var(--sklearn-color-text);\n",
       "  box-shadow: 2pt 2pt 4pt #999;\n",
       "  /* unfitted */\n",
       "  background: var(--sklearn-color-unfitted-level-0);\n",
       "  border: .5pt solid var(--sklearn-color-unfitted-level-3);\n",
       "}\n",
       "\n",
       ".sk-estimator-doc-link.fitted span {\n",
       "  /* fitted */\n",
       "  background: var(--sklearn-color-fitted-level-0);\n",
       "  border: var(--sklearn-color-fitted-level-3);\n",
       "}\n",
       "\n",
       ".sk-estimator-doc-link:hover span {\n",
       "  display: block;\n",
       "}\n",
       "\n",
       "/* \"?\"-specific style due to the `<a>` HTML tag */\n",
       "\n",
       "#sk-container-id-1 a.estimator_doc_link {\n",
       "  float: right;\n",
       "  font-size: 1rem;\n",
       "  line-height: 1em;\n",
       "  font-family: monospace;\n",
       "  background-color: var(--sklearn-color-background);\n",
       "  border-radius: 1rem;\n",
       "  height: 1rem;\n",
       "  width: 1rem;\n",
       "  text-decoration: none;\n",
       "  /* unfitted */\n",
       "  color: var(--sklearn-color-unfitted-level-1);\n",
       "  border: var(--sklearn-color-unfitted-level-1) 1pt solid;\n",
       "}\n",
       "\n",
       "#sk-container-id-1 a.estimator_doc_link.fitted {\n",
       "  /* fitted */\n",
       "  border: var(--sklearn-color-fitted-level-1) 1pt solid;\n",
       "  color: var(--sklearn-color-fitted-level-1);\n",
       "}\n",
       "\n",
       "/* On hover */\n",
       "#sk-container-id-1 a.estimator_doc_link:hover {\n",
       "  /* unfitted */\n",
       "  background-color: var(--sklearn-color-unfitted-level-3);\n",
       "  color: var(--sklearn-color-background);\n",
       "  text-decoration: none;\n",
       "}\n",
       "\n",
       "#sk-container-id-1 a.estimator_doc_link.fitted:hover {\n",
       "  /* fitted */\n",
       "  background-color: var(--sklearn-color-fitted-level-3);\n",
       "}\n",
       "</style><div id=\"sk-container-id-1\" class=\"sk-top-container\"><div class=\"sk-text-repr-fallback\"><pre>SVC()</pre><b>In a Jupyter environment, please rerun this cell to show the HTML representation or trust the notebook. <br />On GitHub, the HTML representation is unable to render, please try loading this page with nbviewer.org.</b></div><div class=\"sk-container\" hidden><div class=\"sk-item\"><div class=\"sk-estimator fitted sk-toggleable\"><input class=\"sk-toggleable__control sk-hidden--visually\" id=\"sk-estimator-id-1\" type=\"checkbox\" checked><label for=\"sk-estimator-id-1\" class=\"sk-toggleable__label fitted sk-toggleable__label-arrow fitted\">&nbsp;&nbsp;SVC<a class=\"sk-estimator-doc-link fitted\" rel=\"noreferrer\" target=\"_blank\" href=\"https://scikit-learn.org/1.5/modules/generated/sklearn.svm.SVC.html\">?<span>Documentation for SVC</span></a><span class=\"sk-estimator-doc-link fitted\">i<span>Fitted</span></span></label><div class=\"sk-toggleable__content fitted\"><pre>SVC()</pre></div> </div></div></div></div>"
      ],
      "text/plain": [
       "SVC()"
      ]
     },
     "execution_count": 70,
     "metadata": {},
     "output_type": "execute_result"
    }
   ],
   "source": [
    "# Model training RF \n",
    "model_svc = SVC()\n",
    "model_svc.fit(X_train_balanced,y_train_balanced)\n",
    "\n",
    "# model_knn = SVC()\n",
    "# model_knn.fit(X_train_balanced,y_train_balanced)\n",
    "\n",
    "# model_rf = RandomForestClassifier()\n",
    "# model_rf.fit(X_train_balanced,y_train_balanced)"
   ]
  },
  {
   "cell_type": "markdown",
   "metadata": {},
   "source": [
    "## 6.2 Model Definition "
   ]
  },
  {
   "cell_type": "markdown",
   "metadata": {},
   "source": [
    "After doing cross validation with three algorithm supervised classification \"KNNeigbordClassifier\", \"RandomForestClassifier\", \"Decision Tree\", and \"SVM\" to my dataset. And with compare their recall mean and my assumption, the best algorithm for my dataset is SVM. <br>\n",
    "The reason i choose <i>recall</i> as my metric to evaluate my model classification becuase i want to create model to minimze False Negative (Model predict patient not infected but actual indected) <br>\n",
    "Because i use SVM as my model training, i will use hyperparameter like <i>C (Regularization)</i> , <i>Gamma</i> and <i>kernel</i>"
   ]
  },
  {
   "cell_type": "markdown",
   "metadata": {},
   "source": [
    "# 7. Model evaluation before hyperparameter tuning"
   ]
  },
  {
   "cell_type": "code",
   "execution_count": 71,
   "metadata": {},
   "outputs": [],
   "source": [
    "# Create list to save evaluation before and after hyperparameter tuning\n",
    "list_confusion_matrix_train_before = []\n",
    "list_confusion_matrix_test_before = []\n",
    "list_recall_score_before = []"
   ]
  },
  {
   "cell_type": "code",
   "execution_count": 72,
   "metadata": {},
   "outputs": [],
   "source": [
    "def model_evaluation(model,data_train,data_test):\n",
    "    list_confusion_matrix_train = []\n",
    "    list_confusion_matrix_test= []\n",
    "    list_recall_score = []\n",
    "    # predict using model svm after hyper parameter tuning\n",
    "    y_pred_train_dt_1_tuning =  model.predict(data_train)\n",
    "    y_pred_test_dt_1_tuning =  model.predict(data_test)\n",
    "\n",
    "    # Show Confusion Matrix in data training with model after hyperparameter tuning\n",
    "    cm_train = confusion_matrix(y_train, y_pred_train_dt_1_tuning)\n",
    "    list_confusion_matrix_train = cm_train\n",
    "    ConfusionMatrixDisplay(cm_train).plot()\n",
    "\n",
    "    # Show Confusion Matrix in data testing with model after hyperparameter tuning\n",
    "    cm_test = confusion_matrix(y_test, y_pred_test_dt_1_tuning)\n",
    "    list_confusion_matrix_test = cm_test\n",
    "    ConfusionMatrixDisplay(cm_test).plot()\n",
    "\n",
    "    # check f1 score with data train anda data test and save them to list\n",
    "    print(\"Recall Score for train = \",recall_score(y_train,y_pred_train_dt_1_tuning))\n",
    "    print(\"Recall Score for test = \",recall_score(y_test,y_pred_test_dt_1_tuning))\n",
    "    list_recall_score.append(recall_score(y_train,y_pred_train_dt_1_tuning))\n",
    "    list_recall_score.append(recall_score(y_test,y_pred_test_dt_1_tuning))\n",
    "\n",
    "    return list_confusion_matrix_train,list_confusion_matrix_test,list_recall_score"
   ]
  },
  {
   "cell_type": "code",
   "execution_count": 73,
   "metadata": {},
   "outputs": [
    {
     "name": "stdout",
     "output_type": "stream",
     "text": [
      "Recall Score for train =  0.7317288407541115\n",
      "Recall Score for test =  0.7280499835580401\n"
     ]
    },
    {
     "data": {
      "image/png": "[encoded data removed]",
      "text/plain": [
       "<Figure size 640x480 with 2 Axes>"
      ]
     },
     "metadata": {},
     "output_type": "display_data"
    },
    {
     "data": {
      "image/png": "[encoded data removed]",
      "text/plain": [
       "<Figure size 640x480 with 2 Axes>"
      ]
     },
     "metadata": {},
     "output_type": "display_data"
    }
   ],
   "source": [
    "list_confusion_matrix_train_before,list_confusion_matrix_test_before,list_recall_score_before = model_evaluation(model_svc,X_train_encoded,X_test_encoded)"
   ]
  },
  {
   "cell_type": "markdown",
   "metadata": {},
   "source": [
    "# 8. HyperParameter Tuning"
   ]
  },
  {
   "cell_type": "code",
   "execution_count": 74,
   "metadata": {},
   "outputs": [
    {
     "name": "stderr",
     "output_type": "stream",
     "text": [
      "/opt/anaconda3/lib/python3.11/site-packages/sklearn/utils/validation.py:1310: DataConversionWarning: A column-vector y was passed when a 1d array was expected. Please change the shape of y to (n_samples, ), for example using ravel().\n",
      "  y = column_or_1d(y, warn=True)\n",
      "/opt/anaconda3/lib/python3.11/site-packages/sklearn/utils/validation.py:1310: DataConversionWarning: A column-vector y was passed when a 1d array was expected. Please change the shape of y to (n_samples, ), for example using ravel().\n",
      "  y = column_or_1d(y, warn=True)\n",
      "/opt/anaconda3/lib/python3.11/site-packages/sklearn/utils/validation.py:1310: DataConversionWarning: A column-vector y was passed when a 1d array was expected. Please change the shape of y to (n_samples, ), for example using ravel().\n",
      "  y = column_or_1d(y, warn=True)\n",
      "/opt/anaconda3/lib/python3.11/site-packages/sklearn/utils/validation.py:1310: DataConversionWarning: A column-vector y was passed when a 1d array was expected. Please change the shape of y to (n_samples, ), for example using ravel().\n",
      "  y = column_or_1d(y, warn=True)\n",
      "/opt/anaconda3/lib/python3.11/site-packages/sklearn/utils/validation.py:1310: DataConversionWarning: A column-vector y was passed when a 1d array was expected. Please change the shape of y to (n_samples, ), for example using ravel().\n",
      "  y = column_or_1d(y, warn=True)\n",
      "/opt/anaconda3/lib/python3.11/site-packages/sklearn/utils/validation.py:1310: DataConversionWarning: A column-vector y was passed when a 1d array was expected. Please change the shape of y to (n_samples, ), for example using ravel().\n",
      "  y = column_or_1d(y, warn=True)\n"
     ]
    },
    {
     "data": {
      "text/html": [
       "<style>#sk-container-id-2 {\n",
       "  /* Definition of color scheme common for light and dark mode */\n",
       "  --sklearn-color-text: black;\n",
       "  --sklearn-color-line: gray;\n",
       "  /* Definition of color scheme for unfitted estimators */\n",
       "  --sklearn-color-unfitted-level-0: #fff5e6;\n",
       "  --sklearn-color-unfitted-level-1: #f6e4d2;\n",
       "  --sklearn-color-unfitted-level-2: #ffe0b3;\n",
       "  --sklearn-color-unfitted-level-3: chocolate;\n",
       "  /* Definition of color scheme for fitted estimators */\n",
       "  --sklearn-color-fitted-level-0: #f0f8ff;\n",
       "  --sklearn-color-fitted-level-1: #d4ebff;\n",
       "  --sklearn-color-fitted-level-2: #b3dbfd;\n",
       "  --sklearn-color-fitted-level-3: cornflowerblue;\n",
       "\n",
       "  /* Specific color for light theme */\n",
       "  --sklearn-color-text-on-default-background: var(--sg-text-color, var(--theme-code-foreground, var(--jp-content-font-color1, black)));\n",
       "  --sklearn-color-background: var(--sg-background-color, var(--theme-background, var(--jp-layout-color0, white)));\n",
       "  --sklearn-color-border-box: var(--sg-text-color, var(--theme-code-foreground, var(--jp-content-font-color1, black)));\n",
       "  --sklearn-color-icon: #696969;\n",
       "\n",
       "  @media (prefers-color-scheme: dark) {\n",
       "    /* Redefinition of color scheme for dark theme */\n",
       "    --sklearn-color-text-on-default-background: var(--sg-text-color, var(--theme-code-foreground, var(--jp-content-font-color1, white)));\n",
       "    --sklearn-color-background: var(--sg-background-color, var(--theme-background, var(--jp-layout-color0, #111)));\n",
       "    --sklearn-color-border-box: var(--sg-text-color, var(--theme-code-foreground, var(--jp-content-font-color1, white)));\n",
       "    --sklearn-color-icon: #878787;\n",
       "  }\n",
       "}\n",
       "\n",
       "#sk-container-id-2 {\n",
       "  color: var(--sklearn-color-text);\n",
       "}\n",
       "\n",
       "#sk-container-id-2 pre {\n",
       "  padding: 0;\n",
       "}\n",
       "\n",
       "#sk-container-id-2 input.sk-hidden--visually {\n",
       "  border: 0;\n",
       "  clip: rect(1px 1px 1px 1px);\n",
       "  clip: rect(1px, 1px, 1px, 1px);\n",
       "  height: 1px;\n",
       "  margin: -1px;\n",
       "  overflow: hidden;\n",
       "  padding: 0;\n",
       "  position: absolute;\n",
       "  width: 1px;\n",
       "}\n",
       "\n",
       "#sk-container-id-2 div.sk-dashed-wrapped {\n",
       "  border: 1px dashed var(--sklearn-color-line);\n",
       "  margin: 0 0.4em 0.5em 0.4em;\n",
       "  box-sizing: border-box;\n",
       "  padding-bottom: 0.4em;\n",
       "  background-color: var(--sklearn-color-background);\n",
       "}\n",
       "\n",
       "#sk-container-id-2 div.sk-container {\n",
       "  /* jupyter's `normalize.less` sets `[hidden] { display: none; }`\n",
       "     but bootstrap.min.css set `[hidden] { display: none !important; }`\n",
       "     so we also need the `!important` here to be able to override the\n",
       "     default hidden behavior on the sphinx rendered scikit-learn.org.\n",
       "     See: https://github.com/scikit-learn/scikit-learn/issues/21755 */\n",
       "  display: inline-block !important;\n",
       "  position: relative;\n",
       "}\n",
       "\n",
       "#sk-container-id-2 div.sk-text-repr-fallback {\n",
       "  display: none;\n",
       "}\n",
       "\n",
       "div.sk-parallel-item,\n",
       "div.sk-serial,\n",
       "div.sk-item {\n",
       "  /* draw centered vertical line to link estimators */\n",
       "  background-image: linear-gradient(var(--sklearn-color-text-on-default-background), var(--sklearn-color-text-on-default-background));\n",
       "  background-size: 2px 100%;\n",
       "  background-repeat: no-repeat;\n",
       "  background-position: center center;\n",
       "}\n",
       "\n",
       "/* Parallel-specific style estimator block */\n",
       "\n",
       "#sk-container-id-2 div.sk-parallel-item::after {\n",
       "  content: \"\";\n",
       "  width: 100%;\n",
       "  border-bottom: 2px solid var(--sklearn-color-text-on-default-background);\n",
       "  flex-grow: 1;\n",
       "}\n",
       "\n",
       "#sk-container-id-2 div.sk-parallel {\n",
       "  display: flex;\n",
       "  align-items: stretch;\n",
       "  justify-content: center;\n",
       "  background-color: var(--sklearn-color-background);\n",
       "  position: relative;\n",
       "}\n",
       "\n",
       "#sk-container-id-2 div.sk-parallel-item {\n",
       "  display: flex;\n",
       "  flex-direction: column;\n",
       "}\n",
       "\n",
       "#sk-container-id-2 div.sk-parallel-item:first-child::after {\n",
       "  align-self: flex-end;\n",
       "  width: 50%;\n",
       "}\n",
       "\n",
       "#sk-container-id-2 div.sk-parallel-item:last-child::after {\n",
       "  align-self: flex-start;\n",
       "  width: 50%;\n",
       "}\n",
       "\n",
       "#sk-container-id-2 div.sk-parallel-item:only-child::after {\n",
       "  width: 0;\n",
       "}\n",
       "\n",
       "/* Serial-specific style estimator block */\n",
       "\n",
       "#sk-container-id-2 div.sk-serial {\n",
       "  display: flex;\n",
       "  flex-direction: column;\n",
       "  align-items: center;\n",
       "  background-color: var(--sklearn-color-background);\n",
       "  padding-right: 1em;\n",
       "  padding-left: 1em;\n",
       "}\n",
       "\n",
       "\n",
       "/* Toggleable style: style used for estimator/Pipeline/ColumnTransformer box that is\n",
       "clickable and can be expanded/collapsed.\n",
       "- Pipeline and ColumnTransformer use this feature and define the default style\n",
       "- Estimators will overwrite some part of the style using the `sk-estimator` class\n",
       "*/\n",
       "\n",
       "/* Pipeline and ColumnTransformer style (default) */\n",
       "\n",
       "#sk-container-id-2 div.sk-toggleable {\n",
       "  /* Default theme specific background. It is overwritten whether we have a\n",
       "  specific estimator or a Pipeline/ColumnTransformer */\n",
       "  background-color: var(--sklearn-color-background);\n",
       "}\n",
       "\n",
       "/* Toggleable label */\n",
       "#sk-container-id-2 label.sk-toggleable__label {\n",
       "  cursor: pointer;\n",
       "  display: block;\n",
       "  width: 100%;\n",
       "  margin-bottom: 0;\n",
       "  padding: 0.5em;\n",
       "  box-sizing: border-box;\n",
       "  text-align: center;\n",
       "}\n",
       "\n",
       "#sk-container-id-2 label.sk-toggleable__label-arrow:before {\n",
       "  /* Arrow on the left of the label */\n",
       "  content: \"▸\";\n",
       "  float: left;\n",
       "  margin-right: 0.25em;\n",
       "  color: var(--sklearn-color-icon);\n",
       "}\n",
       "\n",
       "#sk-container-id-2 label.sk-toggleable__label-arrow:hover:before {\n",
       "  color: var(--sklearn-color-text);\n",
       "}\n",
       "\n",
       "/* Toggleable content - dropdown */\n",
       "\n",
       "#sk-container-id-2 div.sk-toggleable__content {\n",
       "  max-height: 0;\n",
       "  max-width: 0;\n",
       "  overflow: hidden;\n",
       "  text-align: left;\n",
       "  /* unfitted */\n",
       "  background-color: var(--sklearn-color-unfitted-level-0);\n",
       "}\n",
       "\n",
       "#sk-container-id-2 div.sk-toggleable__content.fitted {\n",
       "  /* fitted */\n",
       "  background-color: var(--sklearn-color-fitted-level-0);\n",
       "}\n",
       "\n",
       "#sk-container-id-2 div.sk-toggleable__content pre {\n",
       "  margin: 0.2em;\n",
       "  border-radius: 0.25em;\n",
       "  color: var(--sklearn-color-text);\n",
       "  /* unfitted */\n",
       "  background-color: var(--sklearn-color-unfitted-level-0);\n",
       "}\n",
       "\n",
       "#sk-container-id-2 div.sk-toggleable__content.fitted pre {\n",
       "  /* unfitted */\n",
       "  background-color: var(--sklearn-color-fitted-level-0);\n",
       "}\n",
       "\n",
       "#sk-container-id-2 input.sk-toggleable__control:checked~div.sk-toggleable__content {\n",
       "  /* Expand drop-down */\n",
       "  max-height: 200px;\n",
       "  max-width: 100%;\n",
       "  overflow: auto;\n",
       "}\n",
       "\n",
       "#sk-container-id-2 input.sk-toggleable__control:checked~label.sk-toggleable__label-arrow:before {\n",
       "  content: \"▾\";\n",
       "}\n",
       "\n",
       "/* Pipeline/ColumnTransformer-specific style */\n",
       "\n",
       "#sk-container-id-2 div.sk-label input.sk-toggleable__control:checked~label.sk-toggleable__label {\n",
       "  color: var(--sklearn-color-text);\n",
       "  background-color: var(--sklearn-color-unfitted-level-2);\n",
       "}\n",
       "\n",
       "#sk-container-id-2 div.sk-label.fitted input.sk-toggleable__control:checked~label.sk-toggleable__label {\n",
       "  background-color: var(--sklearn-color-fitted-level-2);\n",
       "}\n",
       "\n",
       "/* Estimator-specific style */\n",
       "\n",
       "/* Colorize estimator box */\n",
       "#sk-container-id-2 div.sk-estimator input.sk-toggleable__control:checked~label.sk-toggleable__label {\n",
       "  /* unfitted */\n",
       "  background-color: var(--sklearn-color-unfitted-level-2);\n",
       "}\n",
       "\n",
       "#sk-container-id-2 div.sk-estimator.fitted input.sk-toggleable__control:checked~label.sk-toggleable__label {\n",
       "  /* fitted */\n",
       "  background-color: var(--sklearn-color-fitted-level-2);\n",
       "}\n",
       "\n",
       "#sk-container-id-2 div.sk-label label.sk-toggleable__label,\n",
       "#sk-container-id-2 div.sk-label label {\n",
       "  /* The background is the default theme color */\n",
       "  color: var(--sklearn-color-text-on-default-background);\n",
       "}\n",
       "\n",
       "/* On hover, darken the color of the background */\n",
       "#sk-container-id-2 div.sk-label:hover label.sk-toggleable__label {\n",
       "  color: var(--sklearn-color-text);\n",
       "  background-color: var(--sklearn-color-unfitted-level-2);\n",
       "}\n",
       "\n",
       "/* Label box, darken color on hover, fitted */\n",
       "#sk-container-id-2 div.sk-label.fitted:hover label.sk-toggleable__label.fitted {\n",
       "  color: var(--sklearn-color-text);\n",
       "  background-color: var(--sklearn-color-fitted-level-2);\n",
       "}\n",
       "\n",
       "/* Estimator label */\n",
       "\n",
       "#sk-container-id-2 div.sk-label label {\n",
       "  font-family: monospace;\n",
       "  font-weight: bold;\n",
       "  display: inline-block;\n",
       "  line-height: 1.2em;\n",
       "}\n",
       "\n",
       "#sk-container-id-2 div.sk-label-container {\n",
       "  text-align: center;\n",
       "}\n",
       "\n",
       "/* Estimator-specific */\n",
       "#sk-container-id-2 div.sk-estimator {\n",
       "  font-family: monospace;\n",
       "  border: 1px dotted var(--sklearn-color-border-box);\n",
       "  border-radius: 0.25em;\n",
       "  box-sizing: border-box;\n",
       "  margin-bottom: 0.5em;\n",
       "  /* unfitted */\n",
       "  background-color: var(--sklearn-color-unfitted-level-0);\n",
       "}\n",
       "\n",
       "#sk-container-id-2 div.sk-estimator.fitted {\n",
       "  /* fitted */\n",
       "  background-color: var(--sklearn-color-fitted-level-0);\n",
       "}\n",
       "\n",
       "/* on hover */\n",
       "#sk-container-id-2 div.sk-estimator:hover {\n",
       "  /* unfitted */\n",
       "  background-color: var(--sklearn-color-unfitted-level-2);\n",
       "}\n",
       "\n",
       "#sk-container-id-2 div.sk-estimator.fitted:hover {\n",
       "  /* fitted */\n",
       "  background-color: var(--sklearn-color-fitted-level-2);\n",
       "}\n",
       "\n",
       "/* Specification for estimator info (e.g. \"i\" and \"?\") */\n",
       "\n",
       "/* Common style for \"i\" and \"?\" */\n",
       "\n",
       ".sk-estimator-doc-link,\n",
       "a:link.sk-estimator-doc-link,\n",
       "a:visited.sk-estimator-doc-link {\n",
       "  float: right;\n",
       "  font-size: smaller;\n",
       "  line-height: 1em;\n",
       "  font-family: monospace;\n",
       "  background-color: var(--sklearn-color-background);\n",
       "  border-radius: 1em;\n",
       "  height: 1em;\n",
       "  width: 1em;\n",
       "  text-decoration: none !important;\n",
       "  margin-left: 1ex;\n",
       "  /* unfitted */\n",
       "  border: var(--sklearn-color-unfitted-level-1) 1pt solid;\n",
       "  color: var(--sklearn-color-unfitted-level-1);\n",
       "}\n",
       "\n",
       ".sk-estimator-doc-link.fitted,\n",
       "a:link.sk-estimator-doc-link.fitted,\n",
       "a:visited.sk-estimator-doc-link.fitted {\n",
       "  /* fitted */\n",
       "  border: var(--sklearn-color-fitted-level-1) 1pt solid;\n",
       "  color: var(--sklearn-color-fitted-level-1);\n",
       "}\n",
       "\n",
       "/* On hover */\n",
       "div.sk-estimator:hover .sk-estimator-doc-link:hover,\n",
       ".sk-estimator-doc-link:hover,\n",
       "div.sk-label-container:hover .sk-estimator-doc-link:hover,\n",
       ".sk-estimator-doc-link:hover {\n",
       "  /* unfitted */\n",
       "  background-color: var(--sklearn-color-unfitted-level-3);\n",
       "  color: var(--sklearn-color-background);\n",
       "  text-decoration: none;\n",
       "}\n",
       "\n",
       "div.sk-estimator.fitted:hover .sk-estimator-doc-link.fitted:hover,\n",
       ".sk-estimator-doc-link.fitted:hover,\n",
       "div.sk-label-container:hover .sk-estimator-doc-link.fitted:hover,\n",
       ".sk-estimator-doc-link.fitted:hover {\n",
       "  /* fitted */\n",
       "  background-color: var(--sklearn-color-fitted-level-3);\n",
       "  color: var(--sklearn-color-background);\n",
       "  text-decoration: none;\n",
       "}\n",
       "\n",
       "/* Span, style for the box shown on hovering the info icon */\n",
       ".sk-estimator-doc-link span {\n",
       "  display: none;\n",
       "  z-index: 9999;\n",
       "  position: relative;\n",
       "  font-weight: normal;\n",
       "  right: .2ex;\n",
       "  padding: .5ex;\n",
       "  margin: .5ex;\n",
       "  width: min-content;\n",
       "  min-width: 20ex;\n",
       "  max-width: 50ex;\n",
       "  color: var(--sklearn-color-text);\n",
       "  box-shadow: 2pt 2pt 4pt #999;\n",
       "  /* unfitted */\n",
       "  background: var(--sklearn-color-unfitted-level-0);\n",
       "  border: .5pt solid var(--sklearn-color-unfitted-level-3);\n",
       "}\n",
       "\n",
       ".sk-estimator-doc-link.fitted span {\n",
       "  /* fitted */\n",
       "  background: var(--sklearn-color-fitted-level-0);\n",
       "  border: var(--sklearn-color-fitted-level-3);\n",
       "}\n",
       "\n",
       ".sk-estimator-doc-link:hover span {\n",
       "  display: block;\n",
       "}\n",
       "\n",
       "/* \"?\"-specific style due to the `<a>` HTML tag */\n",
       "\n",
       "#sk-container-id-2 a.estimator_doc_link {\n",
       "  float: right;\n",
       "  font-size: 1rem;\n",
       "  line-height: 1em;\n",
       "  font-family: monospace;\n",
       "  background-color: var(--sklearn-color-background);\n",
       "  border-radius: 1rem;\n",
       "  height: 1rem;\n",
       "  width: 1rem;\n",
       "  text-decoration: none;\n",
       "  /* unfitted */\n",
       "  color: var(--sklearn-color-unfitted-level-1);\n",
       "  border: var(--sklearn-color-unfitted-level-1) 1pt solid;\n",
       "}\n",
       "\n",
       "#sk-container-id-2 a.estimator_doc_link.fitted {\n",
       "  /* fitted */\n",
       "  border: var(--sklearn-color-fitted-level-1) 1pt solid;\n",
       "  color: var(--sklearn-color-fitted-level-1);\n",
       "}\n",
       "\n",
       "/* On hover */\n",
       "#sk-container-id-2 a.estimator_doc_link:hover {\n",
       "  /* unfitted */\n",
       "  background-color: var(--sklearn-color-unfitted-level-3);\n",
       "  color: var(--sklearn-color-background);\n",
       "  text-decoration: none;\n",
       "}\n",
       "\n",
       "#sk-container-id-2 a.estimator_doc_link.fitted:hover {\n",
       "  /* fitted */\n",
       "  background-color: var(--sklearn-color-fitted-level-3);\n",
       "}\n",
       "</style><div id=\"sk-container-id-2\" class=\"sk-top-container\"><div class=\"sk-text-repr-fallback\"><pre>RandomizedSearchCV(cv=5, estimator=SVC(), n_iter=1, n_jobs=-1,\n",
       "                   param_distributions={&#x27;C&#x27;: [1, 10, 20, 30, 40, 50, 60, 70, 80,\n",
       "                                              90, 100],\n",
       "                                        &#x27;gamma&#x27;: [&#x27;scale&#x27;, &#x27;auto&#x27;],\n",
       "                                        &#x27;kernel&#x27;: [&#x27;linear&#x27;, &#x27;rbf&#x27;]},\n",
       "                   random_state=3, scoring=&#x27;recall&#x27;)</pre><b>In a Jupyter environment, please rerun this cell to show the HTML representation or trust the notebook. <br />On GitHub, the HTML representation is unable to render, please try loading this page with nbviewer.org.</b></div><div class=\"sk-container\" hidden><div class=\"sk-item sk-dashed-wrapped\"><div class=\"sk-label-container\"><div class=\"sk-label fitted sk-toggleable\"><input class=\"sk-toggleable__control sk-hidden--visually\" id=\"sk-estimator-id-2\" type=\"checkbox\" ><label for=\"sk-estimator-id-2\" class=\"sk-toggleable__label fitted sk-toggleable__label-arrow fitted\">&nbsp;&nbsp;RandomizedSearchCV<a class=\"sk-estimator-doc-link fitted\" rel=\"noreferrer\" target=\"_blank\" href=\"https://scikit-learn.org/1.5/modules/generated/sklearn.model_selection.RandomizedSearchCV.html\">?<span>Documentation for RandomizedSearchCV</span></a><span class=\"sk-estimator-doc-link fitted\">i<span>Fitted</span></span></label><div class=\"sk-toggleable__content fitted\"><pre>RandomizedSearchCV(cv=5, estimator=SVC(), n_iter=1, n_jobs=-1,\n",
       "                   param_distributions={&#x27;C&#x27;: [1, 10, 20, 30, 40, 50, 60, 70, 80,\n",
       "                                              90, 100],\n",
       "                                        &#x27;gamma&#x27;: [&#x27;scale&#x27;, &#x27;auto&#x27;],\n",
       "                                        &#x27;kernel&#x27;: [&#x27;linear&#x27;, &#x27;rbf&#x27;]},\n",
       "                   random_state=3, scoring=&#x27;recall&#x27;)</pre></div> </div></div><div class=\"sk-parallel\"><div class=\"sk-parallel-item\"><div class=\"sk-item\"><div class=\"sk-label-container\"><div class=\"sk-label fitted sk-toggleable\"><input class=\"sk-toggleable__control sk-hidden--visually\" id=\"sk-estimator-id-3\" type=\"checkbox\" ><label for=\"sk-estimator-id-3\" class=\"sk-toggleable__label fitted sk-toggleable__label-arrow fitted\">best_estimator_: SVC</label><div class=\"sk-toggleable__content fitted\"><pre>SVC(C=70, gamma=&#x27;auto&#x27;)</pre></div> </div></div><div class=\"sk-serial\"><div class=\"sk-item\"><div class=\"sk-estimator fitted sk-toggleable\"><input class=\"sk-toggleable__control sk-hidden--visually\" id=\"sk-estimator-id-4\" type=\"checkbox\" ><label for=\"sk-estimator-id-4\" class=\"sk-toggleable__label fitted sk-toggleable__label-arrow fitted\">&nbsp;SVC<a class=\"sk-estimator-doc-link fitted\" rel=\"noreferrer\" target=\"_blank\" href=\"https://scikit-learn.org/1.5/modules/generated/sklearn.svm.SVC.html\">?<span>Documentation for SVC</span></a></label><div class=\"sk-toggleable__content fitted\"><pre>SVC(C=70, gamma=&#x27;auto&#x27;)</pre></div> </div></div></div></div></div></div></div></div></div>"
      ],
      "text/plain": [
       "RandomizedSearchCV(cv=5, estimator=SVC(), n_iter=1, n_jobs=-1,\n",
       "                   param_distributions={'C': [1, 10, 20, 30, 40, 50, 60, 70, 80,\n",
       "                                              90, 100],\n",
       "                                        'gamma': ['scale', 'auto'],\n",
       "                                        'kernel': ['linear', 'rbf']},\n",
       "                   random_state=3, scoring='recall')"
      ]
     },
     "execution_count": 74,
     "metadata": {},
     "output_type": "execute_result"
    }
   ],
   "source": [
    "grid_search_params = {\n",
    "    'C': [1,10,20,30,40,50,60,70,80,90,100],\n",
    "    'gamma':['scale','auto'],\n",
    "    'kernel':['linear','rbf']\n",
    "}\n",
    "\n",
    "svc_best = RandomizedSearchCV(\n",
    "    estimator=model_svc,\n",
    "    param_distributions=grid_search_params,\n",
    "    n_iter=1,\n",
    "    random_state=3,\n",
    "    cv=5,\n",
    "    n_jobs=-1,\n",
    "    scoring='recall'\n",
    ")\n",
    "\n",
    "# doing model training using best parameter from SVM\n",
    "svc_best.fit(X_train_balanced, y_train_balanced)"
   ]
  },
  {
   "cell_type": "code",
   "execution_count": 75,
   "metadata": {},
   "outputs": [
    {
     "data": {
      "text/plain": [
       "{'kernel': 'rbf', 'gamma': 'auto', 'C': 70}"
      ]
     },
     "execution_count": 75,
     "metadata": {},
     "output_type": "execute_result"
    }
   ],
   "source": [
    "# Show best parameter in SVM after hyperparameter tuning\n",
    "svc_best.best_params_"
   ]
  },
  {
   "cell_type": "markdown",
   "metadata": {},
   "source": [
    "# 8. Model Evaluation after hyperparameter tuning"
   ]
  },
  {
   "cell_type": "code",
   "execution_count": 77,
   "metadata": {},
   "outputs": [
    {
     "name": "stdout",
     "output_type": "stream",
     "text": [
      "Recall Score for train =  0.7338146811070999\n",
      "Recall Score for test =  0.7329825715225254\n"
     ]
    },
    {
     "data": {
      "image/png": "[encoded data removed]",
      "text/plain": [
       "<Figure size 640x480 with 2 Axes>"
      ]
     },
     "metadata": {},
     "output_type": "display_data"
    },
    {
     "data": {
      "image/png": "[encoded data removed]",
      "text/plain": [
       "<Figure size 640x480 with 2 Axes>"
      ]
     },
     "metadata": {},
     "output_type": "display_data"
    }
   ],
   "source": [
    "list_confusion_matrix_train_after,list_confusion_matrix_test_after,list_recall_score_after = model_evaluation(svc_best,X_train_encoded,X_test_encoded)"
   ]
  },
  {
   "cell_type": "markdown",
   "metadata": {},
   "source": [
    "After doing hyperparameter tuning i can assume that my model has improvement by change from overfit to good fit. And it's recall score after hyperparameter tuning is not decrased. And from confusion matrix i can see that my model still hard to clasify True positive and True Negative around 50 % "
   ]
  },
  {
   "cell_type": "code",
   "execution_count": 78,
   "metadata": {},
   "outputs": [
    {
     "data": {
      "text/html": [
       "<div>\n",
       "<style scoped>\n",
       "    .dataframe tbody tr th:only-of-type {\n",
       "        vertical-align: middle;\n",
       "    }\n",
       "\n",
       "    .dataframe tbody tr th {\n",
       "        vertical-align: top;\n",
       "    }\n",
       "\n",
       "    .dataframe thead th {\n",
       "        text-align: right;\n",
       "    }\n",
       "</style>\n",
       "<table border=\"1\" class=\"dataframe\">\n",
       "  <thead>\n",
       "    <tr style=\"text-align: right;\">\n",
       "      <th></th>\n",
       "      <th>time</th>\n",
       "      <th>trt</th>\n",
       "      <th>age</th>\n",
       "      <th>wtkg</th>\n",
       "      <th>oprior</th>\n",
       "      <th>str2</th>\n",
       "      <th>strat</th>\n",
       "      <th>treat</th>\n",
       "      <th>cd40</th>\n",
       "      <th>cd420</th>\n",
       "      <th>infected</th>\n",
       "      <th>predict</th>\n",
       "    </tr>\n",
       "  </thead>\n",
       "  <tbody>\n",
       "    <tr>\n",
       "      <th>0</th>\n",
       "      <td>1173</td>\n",
       "      <td>1</td>\n",
       "      <td>28</td>\n",
       "      <td>106.21450</td>\n",
       "      <td>0</td>\n",
       "      <td>0</td>\n",
       "      <td>1</td>\n",
       "      <td>1</td>\n",
       "      <td>433</td>\n",
       "      <td>342</td>\n",
       "      <td>0</td>\n",
       "      <td>0</td>\n",
       "    </tr>\n",
       "    <tr>\n",
       "      <th>1</th>\n",
       "      <td>1109</td>\n",
       "      <td>2</td>\n",
       "      <td>30</td>\n",
       "      <td>70.82447</td>\n",
       "      <td>0</td>\n",
       "      <td>0</td>\n",
       "      <td>1</td>\n",
       "      <td>0</td>\n",
       "      <td>490</td>\n",
       "      <td>342</td>\n",
       "      <td>0</td>\n",
       "      <td>0</td>\n",
       "    </tr>\n",
       "    <tr>\n",
       "      <th>2</th>\n",
       "      <td>148</td>\n",
       "      <td>3</td>\n",
       "      <td>43</td>\n",
       "      <td>85.95847</td>\n",
       "      <td>0</td>\n",
       "      <td>1</td>\n",
       "      <td>2</td>\n",
       "      <td>0</td>\n",
       "      <td>259</td>\n",
       "      <td>341</td>\n",
       "      <td>0</td>\n",
       "      <td>1</td>\n",
       "    </tr>\n",
       "    <tr>\n",
       "      <th>3</th>\n",
       "      <td>936</td>\n",
       "      <td>2</td>\n",
       "      <td>42</td>\n",
       "      <td>95.33119</td>\n",
       "      <td>0</td>\n",
       "      <td>1</td>\n",
       "      <td>1</td>\n",
       "      <td>1</td>\n",
       "      <td>190</td>\n",
       "      <td>328</td>\n",
       "      <td>0</td>\n",
       "      <td>0</td>\n",
       "    </tr>\n",
       "    <tr>\n",
       "      <th>4</th>\n",
       "      <td>574</td>\n",
       "      <td>0</td>\n",
       "      <td>39</td>\n",
       "      <td>78.54008</td>\n",
       "      <td>0</td>\n",
       "      <td>0</td>\n",
       "      <td>1</td>\n",
       "      <td>1</td>\n",
       "      <td>208</td>\n",
       "      <td>528</td>\n",
       "      <td>0</td>\n",
       "      <td>0</td>\n",
       "    </tr>\n",
       "    <tr>\n",
       "      <th>...</th>\n",
       "      <td>...</td>\n",
       "      <td>...</td>\n",
       "      <td>...</td>\n",
       "      <td>...</td>\n",
       "      <td>...</td>\n",
       "      <td>...</td>\n",
       "      <td>...</td>\n",
       "      <td>...</td>\n",
       "      <td>...</td>\n",
       "      <td>...</td>\n",
       "      <td>...</td>\n",
       "      <td>...</td>\n",
       "    </tr>\n",
       "    <tr>\n",
       "      <th>9995</th>\n",
       "      <td>550</td>\n",
       "      <td>1</td>\n",
       "      <td>29</td>\n",
       "      <td>74.10156</td>\n",
       "      <td>0</td>\n",
       "      <td>1</td>\n",
       "      <td>3</td>\n",
       "      <td>1</td>\n",
       "      <td>256</td>\n",
       "      <td>163</td>\n",
       "      <td>1</td>\n",
       "      <td>1</td>\n",
       "    </tr>\n",
       "    <tr>\n",
       "      <th>9996</th>\n",
       "      <td>1131</td>\n",
       "      <td>3</td>\n",
       "      <td>33</td>\n",
       "      <td>83.81671</td>\n",
       "      <td>0</td>\n",
       "      <td>0</td>\n",
       "      <td>1</td>\n",
       "      <td>1</td>\n",
       "      <td>203</td>\n",
       "      <td>527</td>\n",
       "      <td>0</td>\n",
       "      <td>0</td>\n",
       "    </tr>\n",
       "    <tr>\n",
       "      <th>9997</th>\n",
       "      <td>957</td>\n",
       "      <td>3</td>\n",
       "      <td>31</td>\n",
       "      <td>93.91868</td>\n",
       "      <td>0</td>\n",
       "      <td>0</td>\n",
       "      <td>1</td>\n",
       "      <td>0</td>\n",
       "      <td>392</td>\n",
       "      <td>613</td>\n",
       "      <td>0</td>\n",
       "      <td>0</td>\n",
       "    </tr>\n",
       "    <tr>\n",
       "      <th>9998</th>\n",
       "      <td>425</td>\n",
       "      <td>3</td>\n",
       "      <td>35</td>\n",
       "      <td>89.76474</td>\n",
       "      <td>0</td>\n",
       "      <td>0</td>\n",
       "      <td>3</td>\n",
       "      <td>1</td>\n",
       "      <td>426</td>\n",
       "      <td>488</td>\n",
       "      <td>1</td>\n",
       "      <td>0</td>\n",
       "    </tr>\n",
       "    <tr>\n",
       "      <th>9999</th>\n",
       "      <td>529</td>\n",
       "      <td>0</td>\n",
       "      <td>38</td>\n",
       "      <td>114.55634</td>\n",
       "      <td>0</td>\n",
       "      <td>1</td>\n",
       "      <td>1</td>\n",
       "      <td>1</td>\n",
       "      <td>197</td>\n",
       "      <td>324</td>\n",
       "      <td>0</td>\n",
       "      <td>0</td>\n",
       "    </tr>\n",
       "  </tbody>\n",
       "</table>\n",
       "<p>10000 rows × 12 columns</p>\n",
       "</div>"
      ],
      "text/plain": [
       "      time trt  age       wtkg oprior str2 strat treat  cd40  cd420  infected  \\\n",
       "0     1173   1   28  106.21450      0    0     1     1   433    342         0   \n",
       "1     1109   2   30   70.82447      0    0     1     0   490    342         0   \n",
       "2      148   3   43   85.95847      0    1     2     0   259    341         0   \n",
       "3      936   2   42   95.33119      0    1     1     1   190    328         0   \n",
       "4      574   0   39   78.54008      0    0     1     1   208    528         0   \n",
       "...    ...  ..  ...        ...    ...  ...   ...   ...   ...    ...       ...   \n",
       "9995   550   1   29   74.10156      0    1     3     1   256    163         1   \n",
       "9996  1131   3   33   83.81671      0    0     1     1   203    527         0   \n",
       "9997   957   3   31   93.91868      0    0     1     0   392    613         0   \n",
       "9998   425   3   35   89.76474      0    0     3     1   426    488         1   \n",
       "9999   529   0   38  114.55634      0    1     1     1   197    324         0   \n",
       "\n",
       "      predict  \n",
       "0           0  \n",
       "1           0  \n",
       "2           1  \n",
       "3           0  \n",
       "4           0  \n",
       "...       ...  \n",
       "9995        1  \n",
       "9996        0  \n",
       "9997        0  \n",
       "9998        0  \n",
       "9999        0  \n",
       "\n",
       "[10000 rows x 12 columns]"
      ]
     },
     "execution_count": 78,
     "metadata": {},
     "output_type": "execute_result"
    }
   ],
   "source": [
    "# This cell is used to create dataframe to evaluate pattern data that has factor with result prediction\n",
    "y_pred_test_svm_1_tuning =  svc_best.predict(X_test_encoded)\n",
    "predict = pd.DataFrame(y_pred_test_svm_1_tuning,columns=['predict'])\n",
    "y_test_2 = y_test.reset_index()\n",
    "y_test_2 = y_test_2.drop(columns=['index'],axis=1)\n",
    "X_test_2 =  X_test.reset_index()\n",
    "X_test_2 = X_test_2.drop(columns=['index'],axis=1)\n",
    "X_test_eval = pd.DataFrame(X_test_2)\n",
    "X_test_eval['infected'] = y_test_2\n",
    "X_test_eval['predict'] = predict\n",
    "X_test_eval"
   ]
  },
  {
   "cell_type": "code",
   "execution_count": 79,
   "metadata": {},
   "outputs": [],
   "source": [
    "# create data frame that has true and false classification\n",
    "df_false_classification =  X_test_eval[X_test_eval['infected'] != X_test_eval['predict']]\n",
    "df_true_classification = X_test_eval[X_test_eval['infected'] == X_test_eval['predict']]"
   ]
  },
  {
   "cell_type": "code",
   "execution_count": 80,
   "metadata": {},
   "outputs": [],
   "source": [
    "# create dataframe has False Negative\n",
    "df_false_classification_FN = df_false_classification[df_false_classification['infected'] == 0]"
   ]
  },
  {
   "cell_type": "code",
   "execution_count": 81,
   "metadata": {},
   "outputs": [
    {
     "data": {
      "text/html": [
       "<div>\n",
       "<style scoped>\n",
       "    .dataframe tbody tr th:only-of-type {\n",
       "        vertical-align: middle;\n",
       "    }\n",
       "\n",
       "    .dataframe tbody tr th {\n",
       "        vertical-align: top;\n",
       "    }\n",
       "\n",
       "    .dataframe thead th {\n",
       "        text-align: right;\n",
       "    }\n",
       "</style>\n",
       "<table border=\"1\" class=\"dataframe\">\n",
       "  <thead>\n",
       "    <tr style=\"text-align: right;\">\n",
       "      <th></th>\n",
       "      <th>time</th>\n",
       "      <th>trt</th>\n",
       "      <th>age</th>\n",
       "      <th>wtkg</th>\n",
       "      <th>oprior</th>\n",
       "      <th>str2</th>\n",
       "      <th>strat</th>\n",
       "      <th>treat</th>\n",
       "      <th>cd40</th>\n",
       "      <th>cd420</th>\n",
       "      <th>infected</th>\n",
       "      <th>predict</th>\n",
       "    </tr>\n",
       "  </thead>\n",
       "  <tbody>\n",
       "    <tr>\n",
       "      <th>2</th>\n",
       "      <td>148</td>\n",
       "      <td>3</td>\n",
       "      <td>43</td>\n",
       "      <td>85.95847</td>\n",
       "      <td>0</td>\n",
       "      <td>1</td>\n",
       "      <td>2</td>\n",
       "      <td>0</td>\n",
       "      <td>259</td>\n",
       "      <td>341</td>\n",
       "      <td>0</td>\n",
       "      <td>1</td>\n",
       "    </tr>\n",
       "    <tr>\n",
       "      <th>10</th>\n",
       "      <td>1014</td>\n",
       "      <td>0</td>\n",
       "      <td>26</td>\n",
       "      <td>54.04306</td>\n",
       "      <td>1</td>\n",
       "      <td>1</td>\n",
       "      <td>3</td>\n",
       "      <td>0</td>\n",
       "      <td>350</td>\n",
       "      <td>384</td>\n",
       "      <td>0</td>\n",
       "      <td>1</td>\n",
       "    </tr>\n",
       "    <tr>\n",
       "      <th>12</th>\n",
       "      <td>731</td>\n",
       "      <td>0</td>\n",
       "      <td>28</td>\n",
       "      <td>90.51504</td>\n",
       "      <td>0</td>\n",
       "      <td>1</td>\n",
       "      <td>3</td>\n",
       "      <td>1</td>\n",
       "      <td>215</td>\n",
       "      <td>660</td>\n",
       "      <td>0</td>\n",
       "      <td>1</td>\n",
       "    </tr>\n",
       "    <tr>\n",
       "      <th>16</th>\n",
       "      <td>1170</td>\n",
       "      <td>0</td>\n",
       "      <td>35</td>\n",
       "      <td>66.32620</td>\n",
       "      <td>0</td>\n",
       "      <td>1</td>\n",
       "      <td>2</td>\n",
       "      <td>1</td>\n",
       "      <td>299</td>\n",
       "      <td>398</td>\n",
       "      <td>0</td>\n",
       "      <td>1</td>\n",
       "    </tr>\n",
       "    <tr>\n",
       "      <th>17</th>\n",
       "      <td>546</td>\n",
       "      <td>2</td>\n",
       "      <td>39</td>\n",
       "      <td>63.87739</td>\n",
       "      <td>0</td>\n",
       "      <td>1</td>\n",
       "      <td>2</td>\n",
       "      <td>1</td>\n",
       "      <td>150</td>\n",
       "      <td>301</td>\n",
       "      <td>0</td>\n",
       "      <td>1</td>\n",
       "    </tr>\n",
       "  </tbody>\n",
       "</table>\n",
       "</div>"
      ],
      "text/plain": [
       "    time trt  age      wtkg oprior str2 strat treat  cd40  cd420  infected  \\\n",
       "2    148   3   43  85.95847      0    1     2     0   259    341         0   \n",
       "10  1014   0   26  54.04306      1    1     3     0   350    384         0   \n",
       "12   731   0   28  90.51504      0    1     3     1   215    660         0   \n",
       "16  1170   0   35  66.32620      0    1     2     1   299    398         0   \n",
       "17   546   2   39  63.87739      0    1     2     1   150    301         0   \n",
       "\n",
       "    predict  \n",
       "2         1  \n",
       "10        1  \n",
       "12        1  \n",
       "16        1  \n",
       "17        1  "
      ]
     },
     "execution_count": 81,
     "metadata": {},
     "output_type": "execute_result"
    }
   ],
   "source": [
    "df_false_classification_FN.head()"
   ]
  },
  {
   "cell_type": "code",
   "execution_count": 82,
   "metadata": {},
   "outputs": [
    {
     "name": "stdout",
     "output_type": "stream",
     "text": [
      "Mode False Negative for categorial oprior is =  0\n",
      "Mode False Negative for categorial str2 is =  1\n",
      "Mode False Negative for categorial strat is =  3\n",
      "Mode False Negative for categorial treat is =  1\n",
      "Mode False Negative for categorial trt is =  0\n"
     ]
    }
   ],
   "source": [
    "print(\"Mode False Negative for categorial oprior is = \",df_false_classification_FN['oprior'].mode().values[0]\n",
    ")\n",
    "print(\"Mode False Negative for categorial str2 is = \",df_false_classification_FN['str2'].mode().values[0]\n",
    ")\n",
    "print(\"Mode False Negative for categorial strat is = \",df_false_classification_FN['strat'].mode().values[0]\n",
    ")\n",
    "print(\"Mode False Negative for categorial treat is = \",df_false_classification_FN['treat'].mode().values[0]\n",
    ")\n",
    "print(\"Mode False Negative for categorial trt is = \",df_false_classification_FN['trt'].mode().values[0]\n",
    ")"
   ]
  },
  {
   "cell_type": "code",
   "execution_count": 83,
   "metadata": {},
   "outputs": [
    {
     "data": {
      "text/html": [
       "<div>\n",
       "<style scoped>\n",
       "    .dataframe tbody tr th:only-of-type {\n",
       "        vertical-align: middle;\n",
       "    }\n",
       "\n",
       "    .dataframe tbody tr th {\n",
       "        vertical-align: top;\n",
       "    }\n",
       "\n",
       "    .dataframe thead th {\n",
       "        text-align: right;\n",
       "    }\n",
       "</style>\n",
       "<table border=\"1\" class=\"dataframe\">\n",
       "  <thead>\n",
       "    <tr style=\"text-align: right;\">\n",
       "      <th></th>\n",
       "      <th>time</th>\n",
       "      <th>age</th>\n",
       "      <th>wtkg</th>\n",
       "      <th>cd40</th>\n",
       "      <th>cd420</th>\n",
       "      <th>infected</th>\n",
       "      <th>predict</th>\n",
       "    </tr>\n",
       "  </thead>\n",
       "  <tbody>\n",
       "    <tr>\n",
       "      <th>count</th>\n",
       "      <td>3202.000000</td>\n",
       "      <td>3202.000000</td>\n",
       "      <td>3202.000000</td>\n",
       "      <td>3202.000000</td>\n",
       "      <td>3202.000000</td>\n",
       "      <td>3202.0</td>\n",
       "      <td>3202.0</td>\n",
       "    </tr>\n",
       "    <tr>\n",
       "      <th>mean</th>\n",
       "      <td>874.827608</td>\n",
       "      <td>34.895066</td>\n",
       "      <td>75.381531</td>\n",
       "      <td>304.513741</td>\n",
       "      <td>408.613054</td>\n",
       "      <td>0.0</td>\n",
       "      <td>1.0</td>\n",
       "    </tr>\n",
       "    <tr>\n",
       "      <th>std</th>\n",
       "      <td>308.699799</td>\n",
       "      <td>7.144790</td>\n",
       "      <td>11.470534</td>\n",
       "      <td>97.314098</td>\n",
       "      <td>133.227029</td>\n",
       "      <td>0.0</td>\n",
       "      <td>0.0</td>\n",
       "    </tr>\n",
       "    <tr>\n",
       "      <th>min</th>\n",
       "      <td>148.000000</td>\n",
       "      <td>12.000000</td>\n",
       "      <td>45.393370</td>\n",
       "      <td>95.000000</td>\n",
       "      <td>117.000000</td>\n",
       "      <td>0.0</td>\n",
       "      <td>1.0</td>\n",
       "    </tr>\n",
       "    <tr>\n",
       "      <th>25%</th>\n",
       "      <td>540.000000</td>\n",
       "      <td>30.000000</td>\n",
       "      <td>68.032455</td>\n",
       "      <td>228.000000</td>\n",
       "      <td>308.000000</td>\n",
       "      <td>0.0</td>\n",
       "      <td>1.0</td>\n",
       "    </tr>\n",
       "    <tr>\n",
       "      <th>50%</th>\n",
       "      <td>1050.500000</td>\n",
       "      <td>35.000000</td>\n",
       "      <td>73.864155</td>\n",
       "      <td>279.000000</td>\n",
       "      <td>378.000000</td>\n",
       "      <td>0.0</td>\n",
       "      <td>1.0</td>\n",
       "    </tr>\n",
       "    <tr>\n",
       "      <th>75%</th>\n",
       "      <td>1139.000000</td>\n",
       "      <td>39.000000</td>\n",
       "      <td>80.658443</td>\n",
       "      <td>373.000000</td>\n",
       "      <td>492.750000</td>\n",
       "      <td>0.0</td>\n",
       "      <td>1.0</td>\n",
       "    </tr>\n",
       "    <tr>\n",
       "      <th>max</th>\n",
       "      <td>1231.000000</td>\n",
       "      <td>64.000000</td>\n",
       "      <td>137.177090</td>\n",
       "      <td>688.000000</td>\n",
       "      <td>1026.000000</td>\n",
       "      <td>0.0</td>\n",
       "      <td>1.0</td>\n",
       "    </tr>\n",
       "  </tbody>\n",
       "</table>\n",
       "</div>"
      ],
      "text/plain": [
       "              time          age         wtkg         cd40        cd420  \\\n",
       "count  3202.000000  3202.000000  3202.000000  3202.000000  3202.000000   \n",
       "mean    874.827608    34.895066    75.381531   304.513741   408.613054   \n",
       "std     308.699799     7.144790    11.470534    97.314098   133.227029   \n",
       "min     148.000000    12.000000    45.393370    95.000000   117.000000   \n",
       "25%     540.000000    30.000000    68.032455   228.000000   308.000000   \n",
       "50%    1050.500000    35.000000    73.864155   279.000000   378.000000   \n",
       "75%    1139.000000    39.000000    80.658443   373.000000   492.750000   \n",
       "max    1231.000000    64.000000   137.177090   688.000000  1026.000000   \n",
       "\n",
       "       infected  predict  \n",
       "count    3202.0   3202.0  \n",
       "mean        0.0      1.0  \n",
       "std         0.0      0.0  \n",
       "min         0.0      1.0  \n",
       "25%         0.0      1.0  \n",
       "50%         0.0      1.0  \n",
       "75%         0.0      1.0  \n",
       "max         0.0      1.0  "
      ]
     },
     "execution_count": 83,
     "metadata": {},
     "output_type": "execute_result"
    }
   ],
   "source": [
    "# see summarize statistic feature numeric in False Negative\n",
    "df_false_classification_FN.describe()"
   ]
  },
  {
   "cell_type": "markdown",
   "metadata": {},
   "source": [
    "Based on my analyze , my model will predict False Negative (FN) with my dataset dominant : \n",
    "- oprior is 0 \n",
    "- str2 is 1\n",
    "- strat is 3\n",
    "- treate is 1 \n",
    "- trt is 0\n",
    "- time around 1050\n",
    "- age around 35\n",
    "- wtkg around 73\n",
    "- cd40 around 279 \n",
    "- cd420 around 492"
   ]
  },
  {
   "cell_type": "code",
   "execution_count": 84,
   "metadata": {},
   "outputs": [],
   "source": [
    "# create dataframe has False True\n",
    "df_false_classification_FP = df_false_classification[df_false_classification['infected'] == 1]"
   ]
  },
  {
   "cell_type": "code",
   "execution_count": 85,
   "metadata": {},
   "outputs": [
    {
     "data": {
      "text/plain": [
       "(812, 12)"
      ]
     },
     "execution_count": 85,
     "metadata": {},
     "output_type": "execute_result"
    }
   ],
   "source": [
    "df_false_classification_FP.shape"
   ]
  },
  {
   "cell_type": "code",
   "execution_count": 86,
   "metadata": {},
   "outputs": [
    {
     "name": "stdout",
     "output_type": "stream",
     "text": [
      "Mode False Positive for categorial oprior is =  0\n",
      "Mode False Positive for categorial str2 is =  0\n",
      "Mode False Positive for categorial strat is =  1\n",
      "Mode False Positive for categorial treat is =  1\n",
      "Mode False Positive for categorial trt is =  0\n"
     ]
    }
   ],
   "source": [
    "print(\"Mode False Positive for categorial oprior is = \",df_false_classification_FP['oprior'].mode().values[0]\n",
    ")\n",
    "print(\"Mode False Positive for categorial str2 is = \",df_false_classification_FP['str2'].mode().values[0]\n",
    ")\n",
    "print(\"Mode False Positive for categorial strat is = \",df_false_classification_FP['strat'].mode().values[0]\n",
    ")\n",
    "print(\"Mode False Positive for categorial treat is = \",df_false_classification_FP['treat'].mode().values[0]\n",
    ")\n",
    "print(\"Mode False Positive for categorial trt is = \",df_false_classification_FP['trt'].mode().values[0]\n",
    ")"
   ]
  },
  {
   "cell_type": "code",
   "execution_count": 87,
   "metadata": {},
   "outputs": [
    {
     "data": {
      "text/html": [
       "<div>\n",
       "<style scoped>\n",
       "    .dataframe tbody tr th:only-of-type {\n",
       "        vertical-align: middle;\n",
       "    }\n",
       "\n",
       "    .dataframe tbody tr th {\n",
       "        vertical-align: top;\n",
       "    }\n",
       "\n",
       "    .dataframe thead th {\n",
       "        text-align: right;\n",
       "    }\n",
       "</style>\n",
       "<table border=\"1\" class=\"dataframe\">\n",
       "  <thead>\n",
       "    <tr style=\"text-align: right;\">\n",
       "      <th></th>\n",
       "      <th>time</th>\n",
       "      <th>age</th>\n",
       "      <th>wtkg</th>\n",
       "      <th>cd40</th>\n",
       "      <th>cd420</th>\n",
       "      <th>infected</th>\n",
       "      <th>predict</th>\n",
       "    </tr>\n",
       "  </thead>\n",
       "  <tbody>\n",
       "    <tr>\n",
       "      <th>count</th>\n",
       "      <td>812.000000</td>\n",
       "      <td>812.000000</td>\n",
       "      <td>812.000000</td>\n",
       "      <td>812.000000</td>\n",
       "      <td>812.000000</td>\n",
       "      <td>812.0</td>\n",
       "      <td>812.0</td>\n",
       "    </tr>\n",
       "    <tr>\n",
       "      <th>mean</th>\n",
       "      <td>851.915025</td>\n",
       "      <td>33.070197</td>\n",
       "      <td>76.671849</td>\n",
       "      <td>333.793103</td>\n",
       "      <td>456.385468</td>\n",
       "      <td>1.0</td>\n",
       "      <td>0.0</td>\n",
       "    </tr>\n",
       "    <tr>\n",
       "      <th>std</th>\n",
       "      <td>309.919733</td>\n",
       "      <td>7.207425</td>\n",
       "      <td>12.989113</td>\n",
       "      <td>103.248107</td>\n",
       "      <td>144.012845</td>\n",
       "      <td>0.0</td>\n",
       "      <td>0.0</td>\n",
       "    </tr>\n",
       "    <tr>\n",
       "      <th>min</th>\n",
       "      <td>178.000000</td>\n",
       "      <td>13.000000</td>\n",
       "      <td>44.218770</td>\n",
       "      <td>148.000000</td>\n",
       "      <td>149.000000</td>\n",
       "      <td>1.0</td>\n",
       "      <td>0.0</td>\n",
       "    </tr>\n",
       "    <tr>\n",
       "      <th>25%</th>\n",
       "      <td>519.250000</td>\n",
       "      <td>27.000000</td>\n",
       "      <td>67.985407</td>\n",
       "      <td>244.000000</td>\n",
       "      <td>342.000000</td>\n",
       "      <td>1.0</td>\n",
       "      <td>0.0</td>\n",
       "    </tr>\n",
       "    <tr>\n",
       "      <th>50%</th>\n",
       "      <td>1018.500000</td>\n",
       "      <td>33.000000</td>\n",
       "      <td>74.335545</td>\n",
       "      <td>324.000000</td>\n",
       "      <td>441.500000</td>\n",
       "      <td>1.0</td>\n",
       "      <td>0.0</td>\n",
       "    </tr>\n",
       "    <tr>\n",
       "      <th>75%</th>\n",
       "      <td>1118.000000</td>\n",
       "      <td>38.000000</td>\n",
       "      <td>82.614995</td>\n",
       "      <td>409.250000</td>\n",
       "      <td>551.500000</td>\n",
       "      <td>1.0</td>\n",
       "      <td>0.0</td>\n",
       "    </tr>\n",
       "    <tr>\n",
       "      <th>max</th>\n",
       "      <td>1217.000000</td>\n",
       "      <td>62.000000</td>\n",
       "      <td>136.001260</td>\n",
       "      <td>653.000000</td>\n",
       "      <td>1114.000000</td>\n",
       "      <td>1.0</td>\n",
       "      <td>0.0</td>\n",
       "    </tr>\n",
       "  </tbody>\n",
       "</table>\n",
       "</div>"
      ],
      "text/plain": [
       "              time         age        wtkg        cd40        cd420  infected  \\\n",
       "count   812.000000  812.000000  812.000000  812.000000   812.000000     812.0   \n",
       "mean    851.915025   33.070197   76.671849  333.793103   456.385468       1.0   \n",
       "std     309.919733    7.207425   12.989113  103.248107   144.012845       0.0   \n",
       "min     178.000000   13.000000   44.218770  148.000000   149.000000       1.0   \n",
       "25%     519.250000   27.000000   67.985407  244.000000   342.000000       1.0   \n",
       "50%    1018.500000   33.000000   74.335545  324.000000   441.500000       1.0   \n",
       "75%    1118.000000   38.000000   82.614995  409.250000   551.500000       1.0   \n",
       "max    1217.000000   62.000000  136.001260  653.000000  1114.000000       1.0   \n",
       "\n",
       "       predict  \n",
       "count    812.0  \n",
       "mean       0.0  \n",
       "std        0.0  \n",
       "min        0.0  \n",
       "25%        0.0  \n",
       "50%        0.0  \n",
       "75%        0.0  \n",
       "max        0.0  "
      ]
     },
     "execution_count": 87,
     "metadata": {},
     "output_type": "execute_result"
    }
   ],
   "source": [
    "# show summarize statistic in False True \n",
    "df_false_classification_FP.describe()"
   ]
  },
  {
   "cell_type": "markdown",
   "metadata": {},
   "source": [
    "Based on my analyze , my model will predict False Positive (FP) with my dataset dominant : \n",
    "- oprior is 0 \n",
    "- str2 is 0 \n",
    "- strat is 1\n",
    "- treate is 1 \n",
    "- trt is 0\n",
    "- time around 1018 \n",
    "- age around 33 \n",
    "- wtkg around 74 \n",
    "- cd40 around 324 \n",
    "- cd420 around 441"
   ]
  },
  {
   "cell_type": "markdown",
   "metadata": {},
   "source": [
    "# 9. Create encoder, scaler, and pipeline with the best model and hyperparameter"
   ]
  },
  {
   "cell_type": "code",
   "execution_count": 88,
   "metadata": {},
   "outputs": [
    {
     "name": "stdout",
     "output_type": "stream",
     "text": [
      "column numeric =  ['time' 'age' 'wtkg' 'cd40' 'cd420']\n",
      "column categorial =  ['trt' 'oprior' 'str2' 'strat' 'treat']\n"
     ]
    }
   ],
   "source": [
    "# split column name based on categorial and numeric \n",
    "num_col = X_train.select_dtypes(include=np.number).columns.values\n",
    "cat_col = X_train.select_dtypes(include='object').columns.values\n",
    "print(\"column numeric = \",num_col)\n",
    "print(\"column categorial = \",cat_col)"
   ]
  },
  {
   "cell_type": "code",
   "execution_count": 89,
   "metadata": {},
   "outputs": [],
   "source": [
    "cat_col_nominal = ['trt','oprior','str2','treat']"
   ]
  },
  {
   "cell_type": "code",
   "execution_count": 90,
   "metadata": {},
   "outputs": [],
   "source": [
    "encoder_nominal = OneHotEncoder()"
   ]
  },
  {
   "cell_type": "code",
   "execution_count": 91,
   "metadata": {},
   "outputs": [],
   "source": [
    "cat_col_strat = ['strat']"
   ]
  },
  {
   "cell_type": "code",
   "execution_count": 92,
   "metadata": {},
   "outputs": [],
   "source": [
    "encoder_strat = OrdinalEncoder(categories=[[1,2,3]])"
   ]
  },
  {
   "cell_type": "code",
   "execution_count": 93,
   "metadata": {},
   "outputs": [
    {
     "data": {
      "text/plain": [
       "time    -0.612405\n",
       "age      0.140544\n",
       "wtkg     1.051098\n",
       "cd40     0.571497\n",
       "cd420    0.567175\n",
       "dtype: float64"
      ]
     },
     "execution_count": 93,
     "metadata": {},
     "output_type": "execute_result"
    }
   ],
   "source": [
    "# Check skewness/outlier in my feature numeric \n",
    "X_train[num_col].skew()"
   ]
  },
  {
   "cell_type": "markdown",
   "metadata": {},
   "source": [
    "Because my feature numeric has outlier, so i will use MinMaxScaler to transform my features numeric"
   ]
  },
  {
   "cell_type": "code",
   "execution_count": 94,
   "metadata": {},
   "outputs": [],
   "source": [
    "scaler = MinMaxScaler()"
   ]
  },
  {
   "cell_type": "code",
   "execution_count": 95,
   "metadata": {},
   "outputs": [],
   "source": [
    "# Create Column Transformer to transform every column with specific encoder\n",
    "ct = ColumnTransformer(\n",
    "    [\n",
    "    ('scaler', scaler, num_col),\n",
    "    ('encoder_strat', encoder_strat, cat_col_strat),\n",
    "    ('encoder_nominal',encoder_nominal, cat_col_nominal),\n",
    "    ],\n",
    "    remainder='passthrough'\n",
    ")"
   ]
  },
  {
   "cell_type": "code",
   "execution_count": 96,
   "metadata": {},
   "outputs": [],
   "source": [
    "# create pipeline for encode and modelling algorithm SVC with the best hyperparameter tuning\n",
    "pipe_svc = make_pipeline(ct , SVC(kernel='rbf',gamma='auto',C=70))"
   ]
  },
  {
   "cell_type": "code",
   "execution_count": 97,
   "metadata": {},
   "outputs": [
    {
     "name": "stderr",
     "output_type": "stream",
     "text": [
      "/opt/anaconda3/lib/python3.11/site-packages/sklearn/utils/validation.py:1310: DataConversionWarning: A column-vector y was passed when a 1d array was expected. Please change the shape of y to (n_samples, ), for example using ravel().\n",
      "  y = column_or_1d(y, warn=True)\n"
     ]
    },
    {
     "data": {
      "text/html": [
       "<style>#sk-container-id-3 {\n",
       "  /* Definition of color scheme common for light and dark mode */\n",
       "  --sklearn-color-text: black;\n",
       "  --sklearn-color-line: gray;\n",
       "  /* Definition of color scheme for unfitted estimators */\n",
       "  --sklearn-color-unfitted-level-0: #fff5e6;\n",
       "  --sklearn-color-unfitted-level-1: #f6e4d2;\n",
       "  --sklearn-color-unfitted-level-2: #ffe0b3;\n",
       "  --sklearn-color-unfitted-level-3: chocolate;\n",
       "  /* Definition of color scheme for fitted estimators */\n",
       "  --sklearn-color-fitted-level-0: #f0f8ff;\n",
       "  --sklearn-color-fitted-level-1: #d4ebff;\n",
       "  --sklearn-color-fitted-level-2: #b3dbfd;\n",
       "  --sklearn-color-fitted-level-3: cornflowerblue;\n",
       "\n",
       "  /* Specific color for light theme */\n",
       "  --sklearn-color-text-on-default-background: var(--sg-text-color, var(--theme-code-foreground, var(--jp-content-font-color1, black)));\n",
       "  --sklearn-color-background: var(--sg-background-color, var(--theme-background, var(--jp-layout-color0, white)));\n",
       "  --sklearn-color-border-box: var(--sg-text-color, var(--theme-code-foreground, var(--jp-content-font-color1, black)));\n",
       "  --sklearn-color-icon: #696969;\n",
       "\n",
       "  @media (prefers-color-scheme: dark) {\n",
       "    /* Redefinition of color scheme for dark theme */\n",
       "    --sklearn-color-text-on-default-background: var(--sg-text-color, var(--theme-code-foreground, var(--jp-content-font-color1, white)));\n",
       "    --sklearn-color-background: var(--sg-background-color, var(--theme-background, var(--jp-layout-color0, #111)));\n",
       "    --sklearn-color-border-box: var(--sg-text-color, var(--theme-code-foreground, var(--jp-content-font-color1, white)));\n",
       "    --sklearn-color-icon: #878787;\n",
       "  }\n",
       "}\n",
       "\n",
       "#sk-container-id-3 {\n",
       "  color: var(--sklearn-color-text);\n",
       "}\n",
       "\n",
       "#sk-container-id-3 pre {\n",
       "  padding: 0;\n",
       "}\n",
       "\n",
       "#sk-container-id-3 input.sk-hidden--visually {\n",
       "  border: 0;\n",
       "  clip: rect(1px 1px 1px 1px);\n",
       "  clip: rect(1px, 1px, 1px, 1px);\n",
       "  height: 1px;\n",
       "  margin: -1px;\n",
       "  overflow: hidden;\n",
       "  padding: 0;\n",
       "  position: absolute;\n",
       "  width: 1px;\n",
       "}\n",
       "\n",
       "#sk-container-id-3 div.sk-dashed-wrapped {\n",
       "  border: 1px dashed var(--sklearn-color-line);\n",
       "  margin: 0 0.4em 0.5em 0.4em;\n",
       "  box-sizing: border-box;\n",
       "  padding-bottom: 0.4em;\n",
       "  background-color: var(--sklearn-color-background);\n",
       "}\n",
       "\n",
       "#sk-container-id-3 div.sk-container {\n",
       "  /* jupyter's `normalize.less` sets `[hidden] { display: none; }`\n",
       "     but bootstrap.min.css set `[hidden] { display: none !important; }`\n",
       "     so we also need the `!important` here to be able to override the\n",
       "     default hidden behavior on the sphinx rendered scikit-learn.org.\n",
       "     See: https://github.com/scikit-learn/scikit-learn/issues/21755 */\n",
       "  display: inline-block !important;\n",
       "  position: relative;\n",
       "}\n",
       "\n",
       "#sk-container-id-3 div.sk-text-repr-fallback {\n",
       "  display: none;\n",
       "}\n",
       "\n",
       "div.sk-parallel-item,\n",
       "div.sk-serial,\n",
       "div.sk-item {\n",
       "  /* draw centered vertical line to link estimators */\n",
       "  background-image: linear-gradient(var(--sklearn-color-text-on-default-background), var(--sklearn-color-text-on-default-background));\n",
       "  background-size: 2px 100%;\n",
       "  background-repeat: no-repeat;\n",
       "  background-position: center center;\n",
       "}\n",
       "\n",
       "/* Parallel-specific style estimator block */\n",
       "\n",
       "#sk-container-id-3 div.sk-parallel-item::after {\n",
       "  content: \"\";\n",
       "  width: 100%;\n",
       "  border-bottom: 2px solid var(--sklearn-color-text-on-default-background);\n",
       "  flex-grow: 1;\n",
       "}\n",
       "\n",
       "#sk-container-id-3 div.sk-parallel {\n",
       "  display: flex;\n",
       "  align-items: stretch;\n",
       "  justify-content: center;\n",
       "  background-color: var(--sklearn-color-background);\n",
       "  position: relative;\n",
       "}\n",
       "\n",
       "#sk-container-id-3 div.sk-parallel-item {\n",
       "  display: flex;\n",
       "  flex-direction: column;\n",
       "}\n",
       "\n",
       "#sk-container-id-3 div.sk-parallel-item:first-child::after {\n",
       "  align-self: flex-end;\n",
       "  width: 50%;\n",
       "}\n",
       "\n",
       "#sk-container-id-3 div.sk-parallel-item:last-child::after {\n",
       "  align-self: flex-start;\n",
       "  width: 50%;\n",
       "}\n",
       "\n",
       "#sk-container-id-3 div.sk-parallel-item:only-child::after {\n",
       "  width: 0;\n",
       "}\n",
       "\n",
       "/* Serial-specific style estimator block */\n",
       "\n",
       "#sk-container-id-3 div.sk-serial {\n",
       "  display: flex;\n",
       "  flex-direction: column;\n",
       "  align-items: center;\n",
       "  background-color: var(--sklearn-color-background);\n",
       "  padding-right: 1em;\n",
       "  padding-left: 1em;\n",
       "}\n",
       "\n",
       "\n",
       "/* Toggleable style: style used for estimator/Pipeline/ColumnTransformer box that is\n",
       "clickable and can be expanded/collapsed.\n",
       "- Pipeline and ColumnTransformer use this feature and define the default style\n",
       "- Estimators will overwrite some part of the style using the `sk-estimator` class\n",
       "*/\n",
       "\n",
       "/* Pipeline and ColumnTransformer style (default) */\n",
       "\n",
       "#sk-container-id-3 div.sk-toggleable {\n",
       "  /* Default theme specific background. It is overwritten whether we have a\n",
       "  specific estimator or a Pipeline/ColumnTransformer */\n",
       "  background-color: var(--sklearn-color-background);\n",
       "}\n",
       "\n",
       "/* Toggleable label */\n",
       "#sk-container-id-3 label.sk-toggleable__label {\n",
       "  cursor: pointer;\n",
       "  display: block;\n",
       "  width: 100%;\n",
       "  margin-bottom: 0;\n",
       "  padding: 0.5em;\n",
       "  box-sizing: border-box;\n",
       "  text-align: center;\n",
       "}\n",
       "\n",
       "#sk-container-id-3 label.sk-toggleable__label-arrow:before {\n",
       "  /* Arrow on the left of the label */\n",
       "  content: \"▸\";\n",
       "  float: left;\n",
       "  margin-right: 0.25em;\n",
       "  color: var(--sklearn-color-icon);\n",
       "}\n",
       "\n",
       "#sk-container-id-3 label.sk-toggleable__label-arrow:hover:before {\n",
       "  color: var(--sklearn-color-text);\n",
       "}\n",
       "\n",
       "/* Toggleable content - dropdown */\n",
       "\n",
       "#sk-container-id-3 div.sk-toggleable__content {\n",
       "  max-height: 0;\n",
       "  max-width: 0;\n",
       "  overflow: hidden;\n",
       "  text-align: left;\n",
       "  /* unfitted */\n",
       "  background-color: var(--sklearn-color-unfitted-level-0);\n",
       "}\n",
       "\n",
       "#sk-container-id-3 div.sk-toggleable__content.fitted {\n",
       "  /* fitted */\n",
       "  background-color: var(--sklearn-color-fitted-level-0);\n",
       "}\n",
       "\n",
       "#sk-container-id-3 div.sk-toggleable__content pre {\n",
       "  margin: 0.2em;\n",
       "  border-radius: 0.25em;\n",
       "  color: var(--sklearn-color-text);\n",
       "  /* unfitted */\n",
       "  background-color: var(--sklearn-color-unfitted-level-0);\n",
       "}\n",
       "\n",
       "#sk-container-id-3 div.sk-toggleable__content.fitted pre {\n",
       "  /* unfitted */\n",
       "  background-color: var(--sklearn-color-fitted-level-0);\n",
       "}\n",
       "\n",
       "#sk-container-id-3 input.sk-toggleable__control:checked~div.sk-toggleable__content {\n",
       "  /* Expand drop-down */\n",
       "  max-height: 200px;\n",
       "  max-width: 100%;\n",
       "  overflow: auto;\n",
       "}\n",
       "\n",
       "#sk-container-id-3 input.sk-toggleable__control:checked~label.sk-toggleable__label-arrow:before {\n",
       "  content: \"▾\";\n",
       "}\n",
       "\n",
       "/* Pipeline/ColumnTransformer-specific style */\n",
       "\n",
       "#sk-container-id-3 div.sk-label input.sk-toggleable__control:checked~label.sk-toggleable__label {\n",
       "  color: var(--sklearn-color-text);\n",
       "  background-color: var(--sklearn-color-unfitted-level-2);\n",
       "}\n",
       "\n",
       "#sk-container-id-3 div.sk-label.fitted input.sk-toggleable__control:checked~label.sk-toggleable__label {\n",
       "  background-color: var(--sklearn-color-fitted-level-2);\n",
       "}\n",
       "\n",
       "/* Estimator-specific style */\n",
       "\n",
       "/* Colorize estimator box */\n",
       "#sk-container-id-3 div.sk-estimator input.sk-toggleable__control:checked~label.sk-toggleable__label {\n",
       "  /* unfitted */\n",
       "  background-color: var(--sklearn-color-unfitted-level-2);\n",
       "}\n",
       "\n",
       "#sk-container-id-3 div.sk-estimator.fitted input.sk-toggleable__control:checked~label.sk-toggleable__label {\n",
       "  /* fitted */\n",
       "  background-color: var(--sklearn-color-fitted-level-2);\n",
       "}\n",
       "\n",
       "#sk-container-id-3 div.sk-label label.sk-toggleable__label,\n",
       "#sk-container-id-3 div.sk-label label {\n",
       "  /* The background is the default theme color */\n",
       "  color: var(--sklearn-color-text-on-default-background);\n",
       "}\n",
       "\n",
       "/* On hover, darken the color of the background */\n",
       "#sk-container-id-3 div.sk-label:hover label.sk-toggleable__label {\n",
       "  color: var(--sklearn-color-text);\n",
       "  background-color: var(--sklearn-color-unfitted-level-2);\n",
       "}\n",
       "\n",
       "/* Label box, darken color on hover, fitted */\n",
       "#sk-container-id-3 div.sk-label.fitted:hover label.sk-toggleable__label.fitted {\n",
       "  color: var(--sklearn-color-text);\n",
       "  background-color: var(--sklearn-color-fitted-level-2);\n",
       "}\n",
       "\n",
       "/* Estimator label */\n",
       "\n",
       "#sk-container-id-3 div.sk-label label {\n",
       "  font-family: monospace;\n",
       "  font-weight: bold;\n",
       "  display: inline-block;\n",
       "  line-height: 1.2em;\n",
       "}\n",
       "\n",
       "#sk-container-id-3 div.sk-label-container {\n",
       "  text-align: center;\n",
       "}\n",
       "\n",
       "/* Estimator-specific */\n",
       "#sk-container-id-3 div.sk-estimator {\n",
       "  font-family: monospace;\n",
       "  border: 1px dotted var(--sklearn-color-border-box);\n",
       "  border-radius: 0.25em;\n",
       "  box-sizing: border-box;\n",
       "  margin-bottom: 0.5em;\n",
       "  /* unfitted */\n",
       "  background-color: var(--sklearn-color-unfitted-level-0);\n",
       "}\n",
       "\n",
       "#sk-container-id-3 div.sk-estimator.fitted {\n",
       "  /* fitted */\n",
       "  background-color: var(--sklearn-color-fitted-level-0);\n",
       "}\n",
       "\n",
       "/* on hover */\n",
       "#sk-container-id-3 div.sk-estimator:hover {\n",
       "  /* unfitted */\n",
       "  background-color: var(--sklearn-color-unfitted-level-2);\n",
       "}\n",
       "\n",
       "#sk-container-id-3 div.sk-estimator.fitted:hover {\n",
       "  /* fitted */\n",
       "  background-color: var(--sklearn-color-fitted-level-2);\n",
       "}\n",
       "\n",
       "/* Specification for estimator info (e.g. \"i\" and \"?\") */\n",
       "\n",
       "/* Common style for \"i\" and \"?\" */\n",
       "\n",
       ".sk-estimator-doc-link,\n",
       "a:link.sk-estimator-doc-link,\n",
       "a:visited.sk-estimator-doc-link {\n",
       "  float: right;\n",
       "  font-size: smaller;\n",
       "  line-height: 1em;\n",
       "  font-family: monospace;\n",
       "  background-color: var(--sklearn-color-background);\n",
       "  border-radius: 1em;\n",
       "  height: 1em;\n",
       "  width: 1em;\n",
       "  text-decoration: none !important;\n",
       "  margin-left: 1ex;\n",
       "  /* unfitted */\n",
       "  border: var(--sklearn-color-unfitted-level-1) 1pt solid;\n",
       "  color: var(--sklearn-color-unfitted-level-1);\n",
       "}\n",
       "\n",
       ".sk-estimator-doc-link.fitted,\n",
       "a:link.sk-estimator-doc-link.fitted,\n",
       "a:visited.sk-estimator-doc-link.fitted {\n",
       "  /* fitted */\n",
       "  border: var(--sklearn-color-fitted-level-1) 1pt solid;\n",
       "  color: var(--sklearn-color-fitted-level-1);\n",
       "}\n",
       "\n",
       "/* On hover */\n",
       "div.sk-estimator:hover .sk-estimator-doc-link:hover,\n",
       ".sk-estimator-doc-link:hover,\n",
       "div.sk-label-container:hover .sk-estimator-doc-link:hover,\n",
       ".sk-estimator-doc-link:hover {\n",
       "  /* unfitted */\n",
       "  background-color: var(--sklearn-color-unfitted-level-3);\n",
       "  color: var(--sklearn-color-background);\n",
       "  text-decoration: none;\n",
       "}\n",
       "\n",
       "div.sk-estimator.fitted:hover .sk-estimator-doc-link.fitted:hover,\n",
       ".sk-estimator-doc-link.fitted:hover,\n",
       "div.sk-label-container:hover .sk-estimator-doc-link.fitted:hover,\n",
       ".sk-estimator-doc-link.fitted:hover {\n",
       "  /* fitted */\n",
       "  background-color: var(--sklearn-color-fitted-level-3);\n",
       "  color: var(--sklearn-color-background);\n",
       "  text-decoration: none;\n",
       "}\n",
       "\n",
       "/* Span, style for the box shown on hovering the info icon */\n",
       ".sk-estimator-doc-link span {\n",
       "  display: none;\n",
       "  z-index: 9999;\n",
       "  position: relative;\n",
       "  font-weight: normal;\n",
       "  right: .2ex;\n",
       "  padding: .5ex;\n",
       "  margin: .5ex;\n",
       "  width: min-content;\n",
       "  min-width: 20ex;\n",
       "  max-width: 50ex;\n",
       "  color: var(--sklearn-color-text);\n",
       "  box-shadow: 2pt 2pt 4pt #999;\n",
       "  /* unfitted */\n",
       "  background: var(--sklearn-color-unfitted-level-0);\n",
       "  border: .5pt solid var(--sklearn-color-unfitted-level-3);\n",
       "}\n",
       "\n",
       ".sk-estimator-doc-link.fitted span {\n",
       "  /* fitted */\n",
       "  background: var(--sklearn-color-fitted-level-0);\n",
       "  border: var(--sklearn-color-fitted-level-3);\n",
       "}\n",
       "\n",
       ".sk-estimator-doc-link:hover span {\n",
       "  display: block;\n",
       "}\n",
       "\n",
       "/* \"?\"-specific style due to the `<a>` HTML tag */\n",
       "\n",
       "#sk-container-id-3 a.estimator_doc_link {\n",
       "  float: right;\n",
       "  font-size: 1rem;\n",
       "  line-height: 1em;\n",
       "  font-family: monospace;\n",
       "  background-color: var(--sklearn-color-background);\n",
       "  border-radius: 1rem;\n",
       "  height: 1rem;\n",
       "  width: 1rem;\n",
       "  text-decoration: none;\n",
       "  /* unfitted */\n",
       "  color: var(--sklearn-color-unfitted-level-1);\n",
       "  border: var(--sklearn-color-unfitted-level-1) 1pt solid;\n",
       "}\n",
       "\n",
       "#sk-container-id-3 a.estimator_doc_link.fitted {\n",
       "  /* fitted */\n",
       "  border: var(--sklearn-color-fitted-level-1) 1pt solid;\n",
       "  color: var(--sklearn-color-fitted-level-1);\n",
       "}\n",
       "\n",
       "/* On hover */\n",
       "#sk-container-id-3 a.estimator_doc_link:hover {\n",
       "  /* unfitted */\n",
       "  background-color: var(--sklearn-color-unfitted-level-3);\n",
       "  color: var(--sklearn-color-background);\n",
       "  text-decoration: none;\n",
       "}\n",
       "\n",
       "#sk-container-id-3 a.estimator_doc_link.fitted:hover {\n",
       "  /* fitted */\n",
       "  background-color: var(--sklearn-color-fitted-level-3);\n",
       "}\n",
       "</style><div id=\"sk-container-id-3\" class=\"sk-top-container\"><div class=\"sk-text-repr-fallback\"><pre>Pipeline(steps=[(&#x27;columntransformer&#x27;,\n",
       "                 ColumnTransformer(remainder=&#x27;passthrough&#x27;,\n",
       "                                   transformers=[(&#x27;scaler&#x27;, MinMaxScaler(),\n",
       "                                                  array([&#x27;time&#x27;, &#x27;age&#x27;, &#x27;wtkg&#x27;, &#x27;cd40&#x27;, &#x27;cd420&#x27;], dtype=object)),\n",
       "                                                 (&#x27;encoder_strat&#x27;,\n",
       "                                                  OrdinalEncoder(categories=[[1,\n",
       "                                                                              2,\n",
       "                                                                              3]]),\n",
       "                                                  [&#x27;strat&#x27;]),\n",
       "                                                 (&#x27;encoder_nominal&#x27;,\n",
       "                                                  OneHotEncoder(),\n",
       "                                                  [&#x27;trt&#x27;, &#x27;oprior&#x27;, &#x27;str2&#x27;,\n",
       "                                                   &#x27;treat&#x27;])])),\n",
       "                (&#x27;svc&#x27;, SVC(C=70, gamma=&#x27;auto&#x27;))])</pre><b>In a Jupyter environment, please rerun this cell to show the HTML representation or trust the notebook. <br />On GitHub, the HTML representation is unable to render, please try loading this page with nbviewer.org.</b></div><div class=\"sk-container\" hidden><div class=\"sk-item sk-dashed-wrapped\"><div class=\"sk-label-container\"><div class=\"sk-label fitted sk-toggleable\"><input class=\"sk-toggleable__control sk-hidden--visually\" id=\"sk-estimator-id-5\" type=\"checkbox\" ><label for=\"sk-estimator-id-5\" class=\"sk-toggleable__label fitted sk-toggleable__label-arrow fitted\">&nbsp;Pipeline<span class=\"sk-estimator-doc-link fitted\">i<span>Fitted</span></span></label><div class=\"sk-toggleable__content fitted\"><pre>Pipeline(steps=[(&#x27;columntransformer&#x27;,\n",
       "                 ColumnTransformer(remainder=&#x27;passthrough&#x27;,\n",
       "                                   transformers=[(&#x27;scaler&#x27;, MinMaxScaler(),\n",
       "                                                  array([&#x27;time&#x27;, &#x27;age&#x27;, &#x27;wtkg&#x27;, &#x27;cd40&#x27;, &#x27;cd420&#x27;], dtype=object)),\n",
       "                                                 (&#x27;encoder_strat&#x27;,\n",
       "                                                  OrdinalEncoder(categories=[[1,\n",
       "                                                                              2,\n",
       "                                                                              3]]),\n",
       "                                                  [&#x27;strat&#x27;]),\n",
       "                                                 (&#x27;encoder_nominal&#x27;,\n",
       "                                                  OneHotEncoder(),\n",
       "                                                  [&#x27;trt&#x27;, &#x27;oprior&#x27;, &#x27;str2&#x27;,\n",
       "                                                   &#x27;treat&#x27;])])),\n",
       "                (&#x27;svc&#x27;, SVC(C=70, gamma=&#x27;auto&#x27;))])</pre></div> </div></div><div class=\"sk-serial\"><div class=\"sk-item sk-dashed-wrapped\"><div class=\"sk-label-container\"><div class=\"sk-label fitted sk-toggleable\"><input class=\"sk-toggleable__control sk-hidden--visually\" id=\"sk-estimator-id-6\" type=\"checkbox\" ><label for=\"sk-estimator-id-6\" class=\"sk-toggleable__label fitted sk-toggleable__label-arrow fitted\">&nbsp;columntransformer: ColumnTransformer<a class=\"sk-estimator-doc-link fitted\" rel=\"noreferrer\" target=\"_blank\" href=\"https://scikit-learn.org/1.5/modules/generated/sklearn.compose.ColumnTransformer.html\">?<span>Documentation for columntransformer: ColumnTransformer</span></a></label><div class=\"sk-toggleable__content fitted\"><pre>ColumnTransformer(remainder=&#x27;passthrough&#x27;,\n",
       "                  transformers=[(&#x27;scaler&#x27;, MinMaxScaler(),\n",
       "                                 array([&#x27;time&#x27;, &#x27;age&#x27;, &#x27;wtkg&#x27;, &#x27;cd40&#x27;, &#x27;cd420&#x27;], dtype=object)),\n",
       "                                (&#x27;encoder_strat&#x27;,\n",
       "                                 OrdinalEncoder(categories=[[1, 2, 3]]),\n",
       "                                 [&#x27;strat&#x27;]),\n",
       "                                (&#x27;encoder_nominal&#x27;, OneHotEncoder(),\n",
       "                                 [&#x27;trt&#x27;, &#x27;oprior&#x27;, &#x27;str2&#x27;, &#x27;treat&#x27;])])</pre></div> </div></div><div class=\"sk-parallel\"><div class=\"sk-parallel-item\"><div class=\"sk-item\"><div class=\"sk-label-container\"><div class=\"sk-label fitted sk-toggleable\"><input class=\"sk-toggleable__control sk-hidden--visually\" id=\"sk-estimator-id-7\" type=\"checkbox\" ><label for=\"sk-estimator-id-7\" class=\"sk-toggleable__label fitted sk-toggleable__label-arrow fitted\">scaler</label><div class=\"sk-toggleable__content fitted\"><pre>[&#x27;time&#x27; &#x27;age&#x27; &#x27;wtkg&#x27; &#x27;cd40&#x27; &#x27;cd420&#x27;]</pre></div> </div></div><div class=\"sk-serial\"><div class=\"sk-item\"><div class=\"sk-estimator fitted sk-toggleable\"><input class=\"sk-toggleable__control sk-hidden--visually\" id=\"sk-estimator-id-8\" type=\"checkbox\" ><label for=\"sk-estimator-id-8\" class=\"sk-toggleable__label fitted sk-toggleable__label-arrow fitted\">&nbsp;MinMaxScaler<a class=\"sk-estimator-doc-link fitted\" rel=\"noreferrer\" target=\"_blank\" href=\"https://scikit-learn.org/1.5/modules/generated/sklearn.preprocessing.MinMaxScaler.html\">?<span>Documentation for MinMaxScaler</span></a></label><div class=\"sk-toggleable__content fitted\"><pre>MinMaxScaler()</pre></div> </div></div></div></div></div><div class=\"sk-parallel-item\"><div class=\"sk-item\"><div class=\"sk-label-container\"><div class=\"sk-label fitted sk-toggleable\"><input class=\"sk-toggleable__control sk-hidden--visually\" id=\"sk-estimator-id-9\" type=\"checkbox\" ><label for=\"sk-estimator-id-9\" class=\"sk-toggleable__label fitted sk-toggleable__label-arrow fitted\">encoder_strat</label><div class=\"sk-toggleable__content fitted\"><pre>[&#x27;strat&#x27;]</pre></div> </div></div><div class=\"sk-serial\"><div class=\"sk-item\"><div class=\"sk-estimator fitted sk-toggleable\"><input class=\"sk-toggleable__control sk-hidden--visually\" id=\"sk-estimator-id-10\" type=\"checkbox\" ><label for=\"sk-estimator-id-10\" class=\"sk-toggleable__label fitted sk-toggleable__label-arrow fitted\">&nbsp;OrdinalEncoder<a class=\"sk-estimator-doc-link fitted\" rel=\"noreferrer\" target=\"_blank\" href=\"https://scikit-learn.org/1.5/modules/generated/sklearn.preprocessing.OrdinalEncoder.html\">?<span>Documentation for OrdinalEncoder</span></a></label><div class=\"sk-toggleable__content fitted\"><pre>OrdinalEncoder(categories=[[1, 2, 3]])</pre></div> </div></div></div></div></div><div class=\"sk-parallel-item\"><div class=\"sk-item\"><div class=\"sk-label-container\"><div class=\"sk-label fitted sk-toggleable\"><input class=\"sk-toggleable__control sk-hidden--visually\" id=\"sk-estimator-id-11\" type=\"checkbox\" ><label for=\"sk-estimator-id-11\" class=\"sk-toggleable__label fitted sk-toggleable__label-arrow fitted\">encoder_nominal</label><div class=\"sk-toggleable__content fitted\"><pre>[&#x27;trt&#x27;, &#x27;oprior&#x27;, &#x27;str2&#x27;, &#x27;treat&#x27;]</pre></div> </div></div><div class=\"sk-serial\"><div class=\"sk-item\"><div class=\"sk-estimator fitted sk-toggleable\"><input class=\"sk-toggleable__control sk-hidden--visually\" id=\"sk-estimator-id-12\" type=\"checkbox\" ><label for=\"sk-estimator-id-12\" class=\"sk-toggleable__label fitted sk-toggleable__label-arrow fitted\">&nbsp;OneHotEncoder<a class=\"sk-estimator-doc-link fitted\" rel=\"noreferrer\" target=\"_blank\" href=\"https://scikit-learn.org/1.5/modules/generated/sklearn.preprocessing.OneHotEncoder.html\">?<span>Documentation for OneHotEncoder</span></a></label><div class=\"sk-toggleable__content fitted\"><pre>OneHotEncoder()</pre></div> </div></div></div></div></div><div class=\"sk-parallel-item\"><div class=\"sk-item\"><div class=\"sk-label-container\"><div class=\"sk-label fitted sk-toggleable\"><input class=\"sk-toggleable__control sk-hidden--visually\" id=\"sk-estimator-id-13\" type=\"checkbox\" ><label for=\"sk-estimator-id-13\" class=\"sk-toggleable__label fitted sk-toggleable__label-arrow fitted\">remainder</label><div class=\"sk-toggleable__content fitted\"><pre>[]</pre></div> </div></div><div class=\"sk-serial\"><div class=\"sk-item\"><div class=\"sk-estimator fitted sk-toggleable\"><input class=\"sk-toggleable__control sk-hidden--visually\" id=\"sk-estimator-id-14\" type=\"checkbox\" ><label for=\"sk-estimator-id-14\" class=\"sk-toggleable__label fitted sk-toggleable__label-arrow fitted\">passthrough</label><div class=\"sk-toggleable__content fitted\"><pre>passthrough</pre></div> </div></div></div></div></div></div></div><div class=\"sk-item\"><div class=\"sk-estimator fitted sk-toggleable\"><input class=\"sk-toggleable__control sk-hidden--visually\" id=\"sk-estimator-id-15\" type=\"checkbox\" ><label for=\"sk-estimator-id-15\" class=\"sk-toggleable__label fitted sk-toggleable__label-arrow fitted\">&nbsp;SVC<a class=\"sk-estimator-doc-link fitted\" rel=\"noreferrer\" target=\"_blank\" href=\"https://scikit-learn.org/1.5/modules/generated/sklearn.svm.SVC.html\">?<span>Documentation for SVC</span></a></label><div class=\"sk-toggleable__content fitted\"><pre>SVC(C=70, gamma=&#x27;auto&#x27;)</pre></div> </div></div></div></div></div></div>"
      ],
      "text/plain": [
       "Pipeline(steps=[('columntransformer',\n",
       "                 ColumnTransformer(remainder='passthrough',\n",
       "                                   transformers=[('scaler', MinMaxScaler(),\n",
       "                                                  array(['time', 'age', 'wtkg', 'cd40', 'cd420'], dtype=object)),\n",
       "                                                 ('encoder_strat',\n",
       "                                                  OrdinalEncoder(categories=[[1,\n",
       "                                                                              2,\n",
       "                                                                              3]]),\n",
       "                                                  ['strat']),\n",
       "                                                 ('encoder_nominal',\n",
       "                                                  OneHotEncoder(),\n",
       "                                                  ['trt', 'oprior', 'str2',\n",
       "                                                   'treat'])])),\n",
       "                ('svc', SVC(C=70, gamma='auto'))])"
      ]
     },
     "execution_count": 97,
     "metadata": {},
     "output_type": "execute_result"
    }
   ],
   "source": [
    "# Model training SVM using pipeline pipe_svc\n",
    "pipe_svc.fit(X_train,y_train)"
   ]
  },
  {
   "cell_type": "markdown",
   "metadata": {},
   "source": [
    "# 10. Model Saving"
   ]
  },
  {
   "cell_type": "code",
   "execution_count": 98,
   "metadata": {},
   "outputs": [],
   "source": [
    "list_col_num = ['time', 'age', 'wtkg','cd40', 'cd420']\n",
    "list_col_cat = [ 'trt', 'oprior', 'str2', 'strat', 'treat']"
   ]
  },
  {
   "cell_type": "code",
   "execution_count": 99,
   "metadata": {},
   "outputs": [],
   "source": [
    "# export model SVM after hyperparamter tuning to file model_svm.pkl\n",
    "with open('model_svc.pkl', 'wb') as file_1:\n",
    "  pickle.dump(pipe_svc, file_1)\n",
    "\n",
    "with open('list_col_num.txt', 'w') as file_2:\n",
    "  json.dump(list_col_num, file_2)\n",
    "\n",
    "with open('list_col_cat.txt', 'w') as file_3:\n",
    "  json.dump(list_col_cat, file_3)"
   ]
  },
  {
   "cell_type": "markdown",
   "metadata": {},
   "source": [
    "# 11. Model Inference"
   ]
  },
  {
   "cell_type": "code",
   "execution_count": 100,
   "metadata": {},
   "outputs": [],
   "source": [
    "'''\n",
    "This cell is used to import file for : \n",
    "- list column  \n",
    "- model SVC\n",
    "'''\n",
    "\n",
    "with open('list_col_num.txt', 'r') as file_1:\n",
    "  list_col_num_if = json.load(file_1)\n",
    "\n",
    "with open('list_col_cat.txt', 'r') as file_2:\n",
    "  list_col_cat_if = json.load(file_2)\n",
    "\n",
    "with open('model_svc.pkl', 'rb') as file_3:\n",
    "  model_svc = pickle.load(file_3)"
   ]
  },
  {
   "cell_type": "code",
   "execution_count": 101,
   "metadata": {},
   "outputs": [],
   "source": [
    "# This cell code is used for data input for model inferential\n",
    "data_input = {\n",
    "    \"time\":1073.0,\n",
    "    \"trt\":1.0,\n",
    "    \"age\":37.0,\n",
    "    \"wtkg\":79.46339,\n",
    "    \"hemo\":0.0,\n",
    "    \"homo\":1.0,\n",
    "    \"drugs\":0.0,\n",
    "    \"karnof\":100.0,\n",
    "    \"oprior\":0.0,\n",
    "    \"z30\":1.0,\n",
    "    \"preanti\":18.0,\n",
    "    \"race\":0.0,\n",
    "    \"gender\":1.0,\n",
    "    \"str2\":1.0,\n",
    "    \"strat\":2.0,\n",
    "    \"symptom\":0.0,\n",
    "    \"treat\":1.0,\n",
    "    \"offtrt\":0.0,\n",
    "    \"cd40\":322.0,\n",
    "    \"cd420\":469.0,\n",
    "    \"cd80\":882.0,\n",
    "    \"cd820\":754.0\n",
    "}\n",
    "\n",
    "df_if = pd.DataFrame([data_input])"
   ]
  },
  {
   "cell_type": "code",
   "execution_count": 102,
   "metadata": {},
   "outputs": [],
   "source": [
    "# convert feature categorial to object\n",
    "df_if[list_col_cat_if] = df_if[list_col_cat_if].astype(object)"
   ]
  },
  {
   "cell_type": "code",
   "execution_count": 103,
   "metadata": {},
   "outputs": [],
   "source": [
    "# feature selection\n",
    "df_if = df_if[list_col_cat_if + list_col_num_if]"
   ]
  },
  {
   "cell_type": "code",
   "execution_count": 105,
   "metadata": {},
   "outputs": [
    {
     "name": "stdout",
     "output_type": "stream",
     "text": [
      "Patient prediction infected =  0\n"
     ]
    }
   ],
   "source": [
    "predict = model_svc.predict(df_if)\n",
    "print(\"Patient prediction infected = \",predict[0])"
   ]
  },
  {
   "cell_type": "markdown",
   "metadata": {},
   "source": [
    "# 12. Conceptual Problems"
   ]
  },
  {
   "cell_type": "markdown",
   "metadata": {},
   "source": [
    "## 12.1 Explain background presence of bagging and how bagging works!"
   ]
  },
  {
   "cell_type": "markdown",
   "metadata": {},
   "source": [
    "The reason bagging exists because one of example from ensemble learning. Ensemble learning is technique that invloves combining multiple individual models to create stronger model. This technique is created so each model can compensate for the weakness of others ( because train/predict with different data) so it can leading to improved overall performance. <br>\n",
    "Bagging is work by split data/bootstraping from data train. For each bootstrapping the chosen/default model algorithm will do predict and each result from every bootstrapping will be aggregating their result prediction"
   ]
  },
  {
   "cell_type": "markdown",
   "metadata": {},
   "source": [
    "## 12.2. Explain different process between model algorithm Random Forest and model algorithm boosting that you choose !"
   ]
  },
  {
   "cell_type": "markdown",
   "metadata": {},
   "source": [
    "<p> \n",
    "Model algorithm random forest is example of bagging in ensemble learning that used decision tree as it's based model algorithm. The model algorithm boosting i choose is AdaClassifier which is has simmillar based model with random forest that used decision tree but it's not bagging, instead boosting. <br> \n",
    "Bagging is one of example ensemble learning that split data/bootstraping from data train. For each bootstrapping the chosen/default model algorithm will do predict and each result from every bootstrapping will be aggregating their result prediction <br>\n",
    "Boosting is one of example ensmble learning that do predict from data train and choose the predict by focusing on correcting the errors of the previous model.\n",
    "</p>"
   ]
  },
  {
   "cell_type": "markdown",
   "metadata": {},
   "source": [
    "## 12.3. Explain what is the meaning of Cross Validation!"
   ]
  },
  {
   "cell_type": "markdown",
   "metadata": {},
   "source": [
    "Cross Validation is a technique to train model without see data test. This is very useful to prevent overfit. These are step by step cross validation: \n",
    "1. Dataset will be split into data train and data test. Cross validation only used data train for crosscheck performance model. \n",
    "2. In data train, it will split it's data into several fold that we determince. For example if i set my total fold is 5, data train will split randomly into 5 fold. \n",
    "3. There will be looping for 5 times if there are 5 folds. fold 1 will become Validation Test and rest of fold will become train set. Model will do train between every fold and  validation test and calculate mean score. Do the same thing for every loop but with different validation test.  \n",
    "\n",
    "Cross validation can also be used to determine which our chosen available model to be the best model algorithm based on our dataset before train with data test. "
   ]
  },
  {
   "cell_type": "markdown",
   "metadata": {},
   "source": [
    "# 13. Conclusion"
   ]
  },
  {
   "cell_type": "markdown",
   "metadata": {},
   "source": [
    "## 13.1 Conclusion Model"
   ]
  },
  {
   "cell_type": "markdown",
   "metadata": {},
   "source": [
    "My model is in category good fit. It is dominant to predict true when people pay for next month and dominant wrong to predict people who dont pay. My model strong point is it has high chance to make right prediction people are infected by AIDS, it will benefit to imporve human survival. And my model weakness is it has high chance to make wrong prediction people who dont infected by AIDS, it will impact for reduce people satisfaction."
   ]
  },
  {
   "cell_type": "markdown",
   "metadata": {},
   "source": [
    "## 13.2 Conclusion EDA"
   ]
  },
  {
   "cell_type": "markdown",
   "metadata": {},
   "source": [
    "From analysis and creating visualize from my dataset , This is a important point that i can share:\n",
    "- The most effective treatment before AIDS is ZDV + ddl\n",
    "- People who has HIV is around 25 - 45 years old. Dominant who has experience homosexual activity or white race. Has benchmark cd40 for get AIDS around 180 - 300 and cd80 around 800 - 1200."
   ]
  },
  {
   "cell_type": "markdown",
   "metadata": {},
   "source": [
    "## 13.3 Improvement"
   ]
  },
  {
   "cell_type": "markdown",
   "metadata": {},
   "source": [
    "For improvement in the future to make better model, I can do more variant of hyperparameter tuning that i can't do it now because limited time. And then i can try to less my correlation for process feature selection to increase feature that i can use to make model classification. "
   ]
  }
 ],
 "metadata": {
  "kernelspec": {
   "display_name": "base",
   "language": "python",
   "name": "python3"
  },
  "language_info": {
   "codemirror_mode": {
    "name": "ipython",
    "version": 3
   },
   "file_extension": ".py",
   "mimetype": "text/x-python",
   "name": "python",
   "nbconvert_exporter": "python",
   "pygments_lexer": "ipython3",
   "version": "3.11.7"
  }
 },
 "nbformat": 4,
 "nbformat_minor": 2
}
